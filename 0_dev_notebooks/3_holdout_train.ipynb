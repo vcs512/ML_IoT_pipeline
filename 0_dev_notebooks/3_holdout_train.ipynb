{
 "cells": [
  {
   "cell_type": "markdown",
   "metadata": {},
   "source": [
    "## Dev parameters"
   ]
  },
  {
   "cell_type": "code",
   "execution_count": 1,
   "metadata": {},
   "outputs": [
    {
     "name": "stderr",
     "output_type": "stream",
     "text": [
      "2023-08-12 13:40:50.429247: I tensorflow/tsl/cuda/cudart_stub.cc:28] Could not find cuda drivers on your machine, GPU will not be used.\n",
      "2023-08-12 13:40:50.476442: I tensorflow/tsl/cuda/cudart_stub.cc:28] Could not find cuda drivers on your machine, GPU will not be used.\n",
      "2023-08-12 13:40:50.477298: I tensorflow/core/platform/cpu_feature_guard.cc:182] This TensorFlow binary is optimized to use available CPU instructions in performance-critical operations.\n",
      "To enable the following instructions: AVX2 FMA, in other operations, rebuild TensorFlow with the appropriate compiler flags.\n",
      "2023-08-12 13:40:51.442486: W tensorflow/compiler/tf2tensorrt/utils/py_utils.cc:38] TF-TRT Warning: Could not find TensorRT\n"
     ]
    }
   ],
   "source": [
    "import sys\n",
    "sys.path.insert(1, '../')\n",
    "\n",
    "# get trainer.\n",
    "from src.Trainer import Trainer"
   ]
  },
  {
   "cell_type": "markdown",
   "metadata": {},
   "source": [
    "# IMPORTS"
   ]
  },
  {
   "cell_type": "code",
   "execution_count": 2,
   "metadata": {},
   "outputs": [],
   "source": [
    "# data visualization.\n",
    "import pandas as pd\n",
    "import numpy as np\n",
    "import matplotlib.pyplot as plt\n",
    "import seaborn as sns\n",
    "import os\n",
    "\n",
    "# confere data.\n",
    "import sklearn.metrics\n",
    "import cv2\n",
    "import natsort\n",
    "\n",
    "# logger.\n",
    "import pickle\n",
    "import mlflow"
   ]
  },
  {
   "cell_type": "markdown",
   "metadata": {},
   "source": [
    "# DATASETs"
   ]
  },
  {
   "cell_type": "code",
   "execution_count": 3,
   "metadata": {},
   "outputs": [
    {
     "name": "stdout",
     "output_type": "stream",
     "text": [
      "Found 892 images belonging to 2 classes.\n",
      "Training set:\n",
      " {'0_utilizavel': 0, '1_defeituoso': 1}\n",
      "Found 222 images belonging to 2 classes.\n",
      "\n",
      "Validation set:\n",
      " {'0_utilizavel': 0, '1_defeituoso': 1}\n"
     ]
    }
   ],
   "source": [
    "# separate datasets.\n",
    "trainer = Trainer()\n",
    "[train_set, val_set] = trainer.train_val_split(augment=True)"
   ]
  },
  {
   "cell_type": "code",
   "execution_count": 4,
   "metadata": {},
   "outputs": [
    {
     "data": {
      "text/html": [
       "<div>\n",
       "<style scoped>\n",
       "    .dataframe tbody tr th:only-of-type {\n",
       "        vertical-align: middle;\n",
       "    }\n",
       "\n",
       "    .dataframe tbody tr th {\n",
       "        vertical-align: top;\n",
       "    }\n",
       "\n",
       "    .dataframe thead th {\n",
       "        text-align: right;\n",
       "    }\n",
       "</style>\n",
       "<table border=\"1\" class=\"dataframe\">\n",
       "  <thead>\n",
       "    <tr style=\"text-align: right;\">\n",
       "      <th></th>\n",
       "      <th>0</th>\n",
       "    </tr>\n",
       "  </thead>\n",
       "  <tbody>\n",
       "    <tr>\n",
       "      <th>0</th>\n",
       "      <td>0_utilizavel/utiliza (1).jpeg</td>\n",
       "    </tr>\n",
       "    <tr>\n",
       "      <th>1</th>\n",
       "      <td>0_utilizavel/utiliza (10).jpeg</td>\n",
       "    </tr>\n",
       "    <tr>\n",
       "      <th>2</th>\n",
       "      <td>0_utilizavel/utiliza (100).jpeg</td>\n",
       "    </tr>\n",
       "    <tr>\n",
       "      <th>3</th>\n",
       "      <td>0_utilizavel/utiliza (101).jpeg</td>\n",
       "    </tr>\n",
       "    <tr>\n",
       "      <th>4</th>\n",
       "      <td>0_utilizavel/utiliza (102).jpeg</td>\n",
       "    </tr>\n",
       "    <tr>\n",
       "      <th>...</th>\n",
       "      <td>...</td>\n",
       "    </tr>\n",
       "    <tr>\n",
       "      <th>217</th>\n",
       "      <td>1_defeituoso/defeito (215).jpeg</td>\n",
       "    </tr>\n",
       "    <tr>\n",
       "      <th>218</th>\n",
       "      <td>1_defeituoso/defeito (216).jpeg</td>\n",
       "    </tr>\n",
       "    <tr>\n",
       "      <th>219</th>\n",
       "      <td>1_defeituoso/defeito (217).jpeg</td>\n",
       "    </tr>\n",
       "    <tr>\n",
       "      <th>220</th>\n",
       "      <td>1_defeituoso/defeito (218).jpeg</td>\n",
       "    </tr>\n",
       "    <tr>\n",
       "      <th>221</th>\n",
       "      <td>1_defeituoso/defeito (219).jpeg</td>\n",
       "    </tr>\n",
       "  </tbody>\n",
       "</table>\n",
       "<p>222 rows × 1 columns</p>\n",
       "</div>"
      ],
      "text/plain": [
       "                                   0\n",
       "0      0_utilizavel/utiliza (1).jpeg\n",
       "1     0_utilizavel/utiliza (10).jpeg\n",
       "2    0_utilizavel/utiliza (100).jpeg\n",
       "3    0_utilizavel/utiliza (101).jpeg\n",
       "4    0_utilizavel/utiliza (102).jpeg\n",
       "..                               ...\n",
       "217  1_defeituoso/defeito (215).jpeg\n",
       "218  1_defeituoso/defeito (216).jpeg\n",
       "219  1_defeituoso/defeito (217).jpeg\n",
       "220  1_defeituoso/defeito (218).jpeg\n",
       "221  1_defeituoso/defeito (219).jpeg\n",
       "\n",
       "[222 rows x 1 columns]"
      ]
     },
     "execution_count": 4,
     "metadata": {},
     "output_type": "execute_result"
    }
   ],
   "source": [
    "pd.DataFrame(val_set.filenames)"
   ]
  },
  {
   "cell_type": "markdown",
   "metadata": {},
   "source": [
    "# BUILD"
   ]
  },
  {
   "cell_type": "code",
   "execution_count": 5,
   "metadata": {},
   "outputs": [
    {
     "name": "stdout",
     "output_type": "stream",
     "text": [
      "Model: \"sequential\"\n",
      "_________________________________________________________________\n",
      " Layer (type)                Output Shape              Param #   \n",
      "=================================================================\n",
      " conv2d (Conv2D)             (None, 128, 128, 2)       20        \n",
      "                                                                 \n",
      " average_pooling2d (Average  (None, 64, 64, 2)         0         \n",
      " Pooling2D)                                                      \n",
      "                                                                 \n",
      " conv2d_1 (Conv2D)           (None, 64, 64, 4)         76        \n",
      "                                                                 \n",
      " average_pooling2d_1 (Avera  (None, 32, 32, 4)         0         \n",
      " gePooling2D)                                                    \n",
      "                                                                 \n",
      " conv2d_2 (Conv2D)           (None, 32, 32, 8)         296       \n",
      "                                                                 \n",
      " average_pooling2d_2 (Avera  (None, 16, 16, 8)         0         \n",
      " gePooling2D)                                                    \n",
      "                                                                 \n",
      " dropout (Dropout)           (None, 16, 16, 8)         0         \n",
      "                                                                 \n",
      " conv2d_3 (Conv2D)           (None, 16, 16, 8)         584       \n",
      "                                                                 \n",
      " average_pooling2d_3 (Avera  (None, 8, 8, 8)           0         \n",
      " gePooling2D)                                                    \n",
      "                                                                 \n",
      " dropout_1 (Dropout)         (None, 8, 8, 8)           0         \n",
      "                                                                 \n",
      " conv2d_4 (Conv2D)           (None, 8, 8, 16)          1168      \n",
      "                                                                 \n",
      " dropout_2 (Dropout)         (None, 8, 8, 16)          0         \n",
      "                                                                 \n",
      " flatten (Flatten)           (None, 1024)              0         \n",
      "                                                                 \n",
      " dense (Dense)               (None, 1)                 1025      \n",
      "                                                                 \n",
      "=================================================================\n",
      "Total params: 3169 (12.38 KB)\n",
      "Trainable params: 3169 (12.38 KB)\n",
      "Non-trainable params: 0 (0.00 Byte)\n",
      "_________________________________________________________________\n"
     ]
    },
    {
     "data": {
      "text/plain": [
       "<keras.src.engine.sequential.Sequential at 0x7fb4ba9f78e0>"
      ]
     },
     "execution_count": 5,
     "metadata": {},
     "output_type": "execute_result"
    }
   ],
   "source": [
    "trainer.build_fp_model()"
   ]
  },
  {
   "cell_type": "markdown",
   "metadata": {},
   "source": [
    "# TRAIN"
   ]
  },
  {
   "cell_type": "code",
   "execution_count": 6,
   "metadata": {},
   "outputs": [
    {
     "name": "stderr",
     "output_type": "stream",
     "text": [
      "2023/08/12 13:40:54 WARNING mlflow.tensorflow: Unrecognized dataset type <class 'keras.src.preprocessing.image.DirectoryIterator'>. Dataset logging skipped.\n",
      "2023/08/12 13:40:54 WARNING mlflow.tensorflow: Unrecognized dataset type <class 'keras.src.preprocessing.image.DirectoryIterator'>. Dataset logging skipped.\n"
     ]
    },
    {
     "name": "stdout",
     "output_type": "stream",
     "text": [
      "Epoch 1/40\n",
      "56/56 - 7s - loss: 0.6472 - recall: 0.9328 - binary_accuracy: 0.6143 - precision: 0.6188 - false_negatives: 36.0000 - false_positives: 308.0000 - val_loss: 0.6117 - val_recall: 0.8284 - val_binary_accuracy: 0.7072 - val_precision: 0.7255 - val_false_negatives: 23.0000 - val_false_positives: 42.0000 - 7s/epoch - 125ms/step\n",
      "Epoch 2/40\n"
     ]
    },
    {
     "name": "stderr",
     "output_type": "stream",
     "text": [
      "/home/vuser/Documents/backup_07302023/3_tcc_code/ML_IoT_pipeline/ML_IoT_pipeline/env_ML_pipeline/lib/python3.9/site-packages/keras/src/engine/training.py:3000: UserWarning: You are saving your model as an HDF5 file via `model.save()`. This file format is considered legacy. We recommend using instead the native Keras format, e.g. `model.save('my_model.keras')`.\n",
      "  saving_api.save_model(\n"
     ]
    },
    {
     "name": "stdout",
     "output_type": "stream",
     "text": [
      "56/56 - 4s - loss: 0.5791 - recall: 0.8004 - binary_accuracy: 0.6973 - precision: 0.7247 - false_negatives: 107.0000 - false_positives: 163.0000 - val_loss: 0.5910 - val_recall: 0.8209 - val_binary_accuracy: 0.6847 - val_precision: 0.7051 - val_false_negatives: 24.0000 - val_false_positives: 46.0000 - 4s/epoch - 65ms/step\n",
      "Epoch 3/40\n",
      "56/56 - 4s - loss: 0.5537 - recall: 0.8097 - binary_accuracy: 0.7298 - precision: 0.7574 - false_negatives: 102.0000 - false_positives: 139.0000 - val_loss: 0.5662 - val_recall: 0.7761 - val_binary_accuracy: 0.7027 - val_precision: 0.7429 - val_false_negatives: 30.0000 - val_false_positives: 36.0000 - 4s/epoch - 66ms/step\n",
      "Epoch 4/40\n",
      "56/56 - 5s - loss: 0.5334 - recall: 0.8041 - binary_accuracy: 0.7478 - precision: 0.7822 - false_negatives: 105.0000 - false_positives: 120.0000 - val_loss: 0.5492 - val_recall: 0.7463 - val_binary_accuracy: 0.7387 - val_precision: 0.8065 - val_false_negatives: 34.0000 - val_false_positives: 24.0000 - 5s/epoch - 97ms/step\n",
      "Epoch 5/40\n",
      "56/56 - 4s - loss: 0.5390 - recall: 0.7966 - binary_accuracy: 0.7265 - precision: 0.7598 - false_negatives: 109.0000 - false_positives: 135.0000 - val_loss: 0.5756 - val_recall: 0.6343 - val_binary_accuracy: 0.7072 - val_precision: 0.8416 - val_false_negatives: 49.0000 - val_false_positives: 16.0000 - 4s/epoch - 69ms/step\n",
      "Epoch 6/40\n",
      "56/56 - 4s - loss: 0.4930 - recall: 0.7873 - binary_accuracy: 0.7702 - precision: 0.8226 - false_negatives: 114.0000 - false_positives: 91.0000 - val_loss: 0.4846 - val_recall: 0.8209 - val_binary_accuracy: 0.7793 - val_precision: 0.8148 - val_false_negatives: 24.0000 - val_false_positives: 25.0000 - 4s/epoch - 78ms/step\n",
      "Epoch 7/40\n",
      "56/56 - 3s - loss: 0.4670 - recall: 0.8228 - binary_accuracy: 0.7724 - precision: 0.8033 - false_negatives: 95.0000 - false_positives: 108.0000 - val_loss: 0.4840 - val_recall: 0.7090 - val_binary_accuracy: 0.7658 - val_precision: 0.8796 - val_false_negatives: 39.0000 - val_false_positives: 13.0000 - 3s/epoch - 59ms/step\n",
      "Epoch 8/40\n",
      "56/56 - 3s - loss: 0.4261 - recall: 0.8302 - binary_accuracy: 0.8004 - precision: 0.8365 - false_negatives: 91.0000 - false_positives: 87.0000 - val_loss: 0.4421 - val_recall: 0.8060 - val_binary_accuracy: 0.8018 - val_precision: 0.8571 - val_false_negatives: 26.0000 - val_false_positives: 18.0000 - 3s/epoch - 60ms/step\n",
      "Epoch 9/40\n",
      "56/56 - 4s - loss: 0.4271 - recall: 0.8358 - binary_accuracy: 0.7892 - precision: 0.8175 - false_negatives: 88.0000 - false_positives: 100.0000 - val_loss: 0.3971 - val_recall: 0.8284 - val_binary_accuracy: 0.7928 - val_precision: 0.8284 - val_false_negatives: 23.0000 - val_false_positives: 23.0000 - 4s/epoch - 68ms/step\n",
      "Epoch 10/40\n",
      "56/56 - 3s - loss: 0.3957 - recall: 0.8545 - binary_accuracy: 0.8173 - precision: 0.8435 - false_negatives: 78.0000 - false_positives: 85.0000 - val_loss: 0.4123 - val_recall: 0.7687 - val_binary_accuracy: 0.7793 - val_precision: 0.8512 - val_false_negatives: 31.0000 - val_false_positives: 18.0000 - 3s/epoch - 59ms/step\n",
      "Epoch 11/40\n",
      "56/56 - 3s - loss: 0.4054 - recall: 0.8340 - binary_accuracy: 0.7960 - precision: 0.8278 - false_negatives: 89.0000 - false_positives: 93.0000 - val_loss: 0.4282 - val_recall: 0.7537 - val_binary_accuracy: 0.8198 - val_precision: 0.9352 - val_false_negatives: 33.0000 - val_false_positives: 7.0000 - 3s/epoch - 56ms/step\n",
      "Epoch 12/40\n",
      "56/56 - 4s - loss: 0.3866 - recall: 0.8396 - binary_accuracy: 0.8049 - precision: 0.8364 - false_negatives: 86.0000 - false_positives: 88.0000 - val_loss: 0.2979 - val_recall: 0.8881 - val_binary_accuracy: 0.8559 - val_precision: 0.8750 - val_false_negatives: 15.0000 - val_false_positives: 17.0000 - 4s/epoch - 68ms/step\n",
      "Epoch 13/40\n",
      "56/56 - 4s - loss: 0.3264 - recall: 0.8489 - binary_accuracy: 0.8475 - precision: 0.8922 - false_negatives: 81.0000 - false_positives: 55.0000 - val_loss: 0.3098 - val_recall: 0.8806 - val_binary_accuracy: 0.8423 - val_precision: 0.8613 - val_false_negatives: 16.0000 - val_false_positives: 19.0000 - 4s/epoch - 70ms/step\n",
      "Epoch 14/40\n",
      "56/56 - 3s - loss: 0.3299 - recall: 0.8787 - binary_accuracy: 0.8666 - precision: 0.8971 - false_negatives: 65.0000 - false_positives: 54.0000 - val_loss: 0.2813 - val_recall: 0.8134 - val_binary_accuracy: 0.8739 - val_precision: 0.9732 - val_false_negatives: 25.0000 - val_false_positives: 3.0000 - 3s/epoch - 61ms/step\n",
      "Epoch 15/40\n",
      "56/56 - 3s - loss: 0.3303 - recall: 0.8601 - binary_accuracy: 0.8565 - precision: 0.8969 - false_negatives: 75.0000 - false_positives: 53.0000 - val_loss: 0.2660 - val_recall: 0.8955 - val_binary_accuracy: 0.9009 - val_precision: 0.9375 - val_false_negatives: 14.0000 - val_false_positives: 8.0000 - 3s/epoch - 61ms/step\n",
      "Epoch 16/40\n",
      "56/56 - 4s - loss: 0.3193 - recall: 0.8750 - binary_accuracy: 0.8621 - precision: 0.8933 - false_negatives: 67.0000 - false_positives: 56.0000 - val_loss: 0.2976 - val_recall: 0.9627 - val_binary_accuracy: 0.8694 - val_precision: 0.8431 - val_false_negatives: 5.0000 - val_false_positives: 24.0000 - 4s/epoch - 66ms/step\n",
      "Epoch 17/40\n",
      "56/56 - 4s - loss: 0.2968 - recall: 0.8825 - binary_accuracy: 0.8610 - precision: 0.8858 - false_negatives: 63.0000 - false_positives: 61.0000 - val_loss: 0.3157 - val_recall: 0.8806 - val_binary_accuracy: 0.8559 - val_precision: 0.8806 - val_false_negatives: 16.0000 - val_false_positives: 16.0000 - 4s/epoch - 71ms/step\n",
      "Epoch 18/40\n",
      "56/56 - 4s - loss: 0.3475 - recall: 0.8507 - binary_accuracy: 0.8498 - precision: 0.8941 - false_negatives: 80.0000 - false_positives: 54.0000 - val_loss: 0.4165 - val_recall: 0.8358 - val_binary_accuracy: 0.7973 - val_precision: 0.8296 - val_false_negatives: 22.0000 - val_false_positives: 23.0000 - 4s/epoch - 65ms/step\n",
      "Epoch 19/40\n",
      "56/56 - 4s - loss: 0.3425 - recall: 0.8993 - binary_accuracy: 0.8599 - precision: 0.8716 - false_negatives: 54.0000 - false_positives: 71.0000 - val_loss: 0.2581 - val_recall: 0.8433 - val_binary_accuracy: 0.8874 - val_precision: 0.9658 - val_false_negatives: 21.0000 - val_false_positives: 4.0000 - 4s/epoch - 64ms/step\n",
      "Epoch 20/40\n",
      "56/56 - 4s - loss: 0.2832 - recall: 0.8843 - binary_accuracy: 0.8733 - precision: 0.9029 - false_negatives: 62.0000 - false_positives: 51.0000 - val_loss: 0.2262 - val_recall: 0.8881 - val_binary_accuracy: 0.9189 - val_precision: 0.9754 - val_false_negatives: 15.0000 - val_false_positives: 3.0000 - 4s/epoch - 74ms/step\n",
      "Epoch 21/40\n",
      "56/56 - 4s - loss: 0.2824 - recall: 0.8862 - binary_accuracy: 0.8733 - precision: 0.9013 - false_negatives: 61.0000 - false_positives: 52.0000 - val_loss: 0.3176 - val_recall: 0.8955 - val_binary_accuracy: 0.8604 - val_precision: 0.8759 - val_false_negatives: 14.0000 - val_false_positives: 17.0000 - 4s/epoch - 72ms/step\n",
      "Epoch 22/40\n",
      "56/56 - 4s - loss: 0.2582 - recall: 0.8881 - binary_accuracy: 0.8890 - precision: 0.9243 - false_negatives: 60.0000 - false_positives: 39.0000 - val_loss: 0.2375 - val_recall: 0.8657 - val_binary_accuracy: 0.9054 - val_precision: 0.9748 - val_false_negatives: 18.0000 - val_false_positives: 3.0000 - 4s/epoch - 68ms/step\n",
      "Epoch 23/40\n",
      "56/56 - 4s - loss: 0.2395 - recall: 0.9086 - binary_accuracy: 0.8991 - precision: 0.9223 - false_negatives: 49.0000 - false_positives: 41.0000 - val_loss: 0.1491 - val_recall: 0.9627 - val_binary_accuracy: 0.9505 - val_precision: 0.9556 - val_false_negatives: 5.0000 - val_false_positives: 6.0000 - 4s/epoch - 64ms/step\n",
      "Epoch 24/40\n",
      "56/56 - 4s - loss: 0.3396 - recall: 0.8563 - binary_accuracy: 0.8442 - precision: 0.8810 - false_negatives: 77.0000 - false_positives: 62.0000 - val_loss: 0.3031 - val_recall: 0.7985 - val_binary_accuracy: 0.8694 - val_precision: 0.9817 - val_false_negatives: 27.0000 - val_false_positives: 2.0000 - 4s/epoch - 79ms/step\n",
      "Epoch 25/40\n",
      "56/56 - 3s - loss: 0.2596 - recall: 0.9104 - binary_accuracy: 0.9070 - precision: 0.9331 - false_negatives: 48.0000 - false_positives: 35.0000 - val_loss: 0.2290 - val_recall: 0.9627 - val_binary_accuracy: 0.9189 - val_precision: 0.9085 - val_false_negatives: 5.0000 - val_false_positives: 13.0000 - 3s/epoch - 59ms/step\n",
      "Epoch 26/40\n",
      "56/56 - 3s - loss: 0.2843 - recall: 0.8825 - binary_accuracy: 0.8767 - precision: 0.9096 - false_negatives: 63.0000 - false_positives: 47.0000 - val_loss: 0.2585 - val_recall: 0.8731 - val_binary_accuracy: 0.8964 - val_precision: 0.9512 - val_false_negatives: 17.0000 - val_false_positives: 6.0000 - 3s/epoch - 58ms/step\n",
      "Epoch 27/40\n",
      "56/56 - 3s - loss: 0.2369 - recall: 0.9142 - binary_accuracy: 0.9047 - precision: 0.9263 - false_negatives: 46.0000 - false_positives: 39.0000 - val_loss: 0.2074 - val_recall: 0.9254 - val_binary_accuracy: 0.9099 - val_precision: 0.9254 - val_false_negatives: 10.0000 - val_false_positives: 10.0000 - 3s/epoch - 58ms/step\n",
      "Epoch 28/40\n",
      "56/56 - 4s - loss: 0.2288 - recall: 0.9104 - binary_accuracy: 0.9126 - precision: 0.9421 - false_negatives: 48.0000 - false_positives: 30.0000 - val_loss: 0.1521 - val_recall: 0.9254 - val_binary_accuracy: 0.9414 - val_precision: 0.9764 - val_false_negatives: 10.0000 - val_false_positives: 3.0000 - 4s/epoch - 73ms/step\n",
      "Epoch 29/40\n",
      "56/56 - 3s - loss: 0.2278 - recall: 0.9123 - binary_accuracy: 0.9025 - precision: 0.9244 - false_negatives: 47.0000 - false_positives: 40.0000 - val_loss: 0.2052 - val_recall: 0.9403 - val_binary_accuracy: 0.9234 - val_precision: 0.9333 - val_false_negatives: 8.0000 - val_false_positives: 9.0000 - 3s/epoch - 60ms/step\n",
      "Epoch 30/40\n",
      "56/56 - 3s - loss: 0.2287 - recall: 0.9179 - binary_accuracy: 0.8991 - precision: 0.9145 - false_negatives: 44.0000 - false_positives: 46.0000 - val_loss: 0.1862 - val_recall: 0.9104 - val_binary_accuracy: 0.9189 - val_precision: 0.9531 - val_false_negatives: 12.0000 - val_false_positives: 6.0000 - 3s/epoch - 62ms/step\n",
      "Epoch 31/40\n",
      "56/56 - 3s - loss: 0.2127 - recall: 0.9030 - binary_accuracy: 0.9070 - precision: 0.9398 - false_negatives: 52.0000 - false_positives: 31.0000 - val_loss: 0.1692 - val_recall: 0.9776 - val_binary_accuracy: 0.9279 - val_precision: 0.9097 - val_false_negatives: 3.0000 - val_false_positives: 13.0000 - 3s/epoch - 60ms/step\n",
      "Epoch 32/40\n",
      "56/56 - 4s - loss: 0.1833 - recall: 0.9366 - binary_accuracy: 0.9238 - precision: 0.9366 - false_negatives: 34.0000 - false_positives: 34.0000 - val_loss: 0.1591 - val_recall: 0.9254 - val_binary_accuracy: 0.9505 - val_precision: 0.9920 - val_false_negatives: 10.0000 - val_false_positives: 1.0000 - 4s/epoch - 72ms/step\n",
      "Epoch 33/40\n",
      "56/56 - 3s - loss: 0.1920 - recall: 0.9216 - binary_accuracy: 0.9193 - precision: 0.9427 - false_negatives: 42.0000 - false_positives: 30.0000 - val_loss: 0.2036 - val_recall: 0.8657 - val_binary_accuracy: 0.9189 - val_precision: 1.0000 - val_false_negatives: 18.0000 - val_false_positives: 0.0000e+00 - 3s/epoch - 59ms/step\n",
      "Epoch 34/40\n",
      "56/56 - 4s - loss: 0.2124 - recall: 0.9086 - binary_accuracy: 0.9103 - precision: 0.9402 - false_negatives: 49.0000 - false_positives: 31.0000 - val_loss: 0.2573 - val_recall: 0.8955 - val_binary_accuracy: 0.8919 - val_precision: 0.9231 - val_false_negatives: 14.0000 - val_false_positives: 10.0000 - 4s/epoch - 73ms/step\n",
      "Epoch 35/40\n",
      "56/56 - 4s - loss: 0.1924 - recall: 0.9179 - binary_accuracy: 0.9204 - precision: 0.9480 - false_negatives: 44.0000 - false_positives: 27.0000 - val_loss: 0.1751 - val_recall: 0.9254 - val_binary_accuracy: 0.9414 - val_precision: 0.9764 - val_false_negatives: 10.0000 - val_false_positives: 3.0000 - 4s/epoch - 73ms/step\n",
      "Epoch 36/40\n",
      "56/56 - 4s - loss: 0.1822 - recall: 0.9328 - binary_accuracy: 0.9226 - precision: 0.9381 - false_negatives: 36.0000 - false_positives: 33.0000 - val_loss: 0.2135 - val_recall: 0.8806 - val_binary_accuracy: 0.9099 - val_precision: 0.9672 - val_false_negatives: 16.0000 - val_false_positives: 4.0000 - 4s/epoch - 80ms/step\n",
      "Epoch 37/40\n",
      "56/56 - 5s - loss: 0.1689 - recall: 0.9384 - binary_accuracy: 0.9249 - precision: 0.9367 - false_negatives: 33.0000 - false_positives: 34.0000 - val_loss: 0.1893 - val_recall: 0.9478 - val_binary_accuracy: 0.9189 - val_precision: 0.9203 - val_false_negatives: 7.0000 - val_false_positives: 11.0000 - 5s/epoch - 86ms/step\n",
      "Epoch 38/40\n",
      "56/56 - 5s - loss: 0.1859 - recall: 0.9422 - binary_accuracy: 0.9283 - precision: 0.9387 - false_negatives: 31.0000 - false_positives: 33.0000 - val_loss: 0.1650 - val_recall: 0.8881 - val_binary_accuracy: 0.9279 - val_precision: 0.9917 - val_false_negatives: 15.0000 - val_false_positives: 1.0000 - 5s/epoch - 84ms/step\n",
      "Epoch 39/40\n",
      "56/56 - 4s - loss: 0.1758 - recall: 0.9328 - binary_accuracy: 0.9339 - precision: 0.9560 - false_negatives: 36.0000 - false_positives: 23.0000 - val_loss: 0.1381 - val_recall: 0.9851 - val_binary_accuracy: 0.9324 - val_precision: 0.9103 - val_false_negatives: 2.0000 - val_false_positives: 13.0000 - 4s/epoch - 64ms/step\n",
      "Epoch 40/40\n",
      "56/56 - 6s - loss: 0.2027 - recall: 0.9272 - binary_accuracy: 0.9204 - precision: 0.9395 - false_negatives: 39.0000 - false_positives: 32.0000 - val_loss: 0.1161 - val_recall: 0.9627 - val_binary_accuracy: 0.9640 - val_precision: 0.9773 - val_false_negatives: 5.0000 - val_false_positives: 3.0000 - 6s/epoch - 109ms/step\n"
     ]
    },
    {
     "name": "stderr",
     "output_type": "stream",
     "text": [
      "2023/08/12 13:43:45 WARNING mlflow.tensorflow: Failed to infer model signature: could not sample data to infer model signature: '>=' not supported between instances of 'slice' and 'int'\n",
      "2023/08/12 13:43:45 WARNING mlflow.tensorflow: You are saving a TensorFlow Core model or Keras model without a signature. Inference with mlflow.pyfunc.spark_udf() will not work unless the model's pyfunc representation accepts pandas DataFrames as inference inputs.\n"
     ]
    },
    {
     "name": "stdout",
     "output_type": "stream",
     "text": [
      "INFO:tensorflow:Assets written to: /tmp/tmpqfr11qbw/model/data/model/assets\n"
     ]
    },
    {
     "name": "stderr",
     "output_type": "stream",
     "text": [
      "INFO:tensorflow:Assets written to: /tmp/tmpqfr11qbw/model/data/model/assets\n"
     ]
    },
    {
     "data": {
      "text/plain": [
       "<keras.src.callbacks.History at 0x7fb4debdee80>"
      ]
     },
     "execution_count": 6,
     "metadata": {},
     "output_type": "execute_result"
    }
   ],
   "source": [
    "trainer.training_loop()"
   ]
  },
  {
   "cell_type": "markdown",
   "metadata": {},
   "source": [
    "# LOAD MODEL TRAINED"
   ]
  },
  {
   "cell_type": "code",
   "execution_count": 7,
   "metadata": {},
   "outputs": [],
   "source": [
    "trainer.load_model_trained()"
   ]
  },
  {
   "cell_type": "markdown",
   "metadata": {},
   "source": [
    "# REPRODUCIBLE RESULTS EVALUATION"
   ]
  },
  {
   "cell_type": "code",
   "execution_count": 8,
   "metadata": {},
   "outputs": [
    {
     "name": "stdout",
     "output_type": "stream",
     "text": [
      "Found 892 images belonging to 2 classes.\n",
      "Training set:\n",
      " {'0_utilizavel': 0, '1_defeituoso': 1}\n",
      "Found 222 images belonging to 2 classes.\n",
      "\n",
      "Validation set:\n",
      " {'0_utilizavel': 0, '1_defeituoso': 1}\n"
     ]
    }
   ],
   "source": [
    "# turn off data augmentation to reproducible results.\n",
    "[train_set, val_set] = trainer.train_val_split(augment=False)"
   ]
  },
  {
   "cell_type": "code",
   "execution_count": 9,
   "metadata": {},
   "outputs": [
    {
     "data": {
      "text/html": [
       "<div>\n",
       "<style scoped>\n",
       "    .dataframe tbody tr th:only-of-type {\n",
       "        vertical-align: middle;\n",
       "    }\n",
       "\n",
       "    .dataframe tbody tr th {\n",
       "        vertical-align: top;\n",
       "    }\n",
       "\n",
       "    .dataframe thead th {\n",
       "        text-align: right;\n",
       "    }\n",
       "</style>\n",
       "<table border=\"1\" class=\"dataframe\">\n",
       "  <thead>\n",
       "    <tr style=\"text-align: right;\">\n",
       "      <th></th>\n",
       "      <th>0</th>\n",
       "    </tr>\n",
       "  </thead>\n",
       "  <tbody>\n",
       "    <tr>\n",
       "      <th>0</th>\n",
       "      <td>0_utilizavel/utiliza (1).jpeg</td>\n",
       "    </tr>\n",
       "    <tr>\n",
       "      <th>1</th>\n",
       "      <td>0_utilizavel/utiliza (10).jpeg</td>\n",
       "    </tr>\n",
       "    <tr>\n",
       "      <th>2</th>\n",
       "      <td>0_utilizavel/utiliza (100).jpeg</td>\n",
       "    </tr>\n",
       "    <tr>\n",
       "      <th>3</th>\n",
       "      <td>0_utilizavel/utiliza (101).jpeg</td>\n",
       "    </tr>\n",
       "    <tr>\n",
       "      <th>4</th>\n",
       "      <td>0_utilizavel/utiliza (102).jpeg</td>\n",
       "    </tr>\n",
       "    <tr>\n",
       "      <th>...</th>\n",
       "      <td>...</td>\n",
       "    </tr>\n",
       "    <tr>\n",
       "      <th>217</th>\n",
       "      <td>1_defeituoso/defeito (215).jpeg</td>\n",
       "    </tr>\n",
       "    <tr>\n",
       "      <th>218</th>\n",
       "      <td>1_defeituoso/defeito (216).jpeg</td>\n",
       "    </tr>\n",
       "    <tr>\n",
       "      <th>219</th>\n",
       "      <td>1_defeituoso/defeito (217).jpeg</td>\n",
       "    </tr>\n",
       "    <tr>\n",
       "      <th>220</th>\n",
       "      <td>1_defeituoso/defeito (218).jpeg</td>\n",
       "    </tr>\n",
       "    <tr>\n",
       "      <th>221</th>\n",
       "      <td>1_defeituoso/defeito (219).jpeg</td>\n",
       "    </tr>\n",
       "  </tbody>\n",
       "</table>\n",
       "<p>222 rows × 1 columns</p>\n",
       "</div>"
      ],
      "text/plain": [
       "                                   0\n",
       "0      0_utilizavel/utiliza (1).jpeg\n",
       "1     0_utilizavel/utiliza (10).jpeg\n",
       "2    0_utilizavel/utiliza (100).jpeg\n",
       "3    0_utilizavel/utiliza (101).jpeg\n",
       "4    0_utilizavel/utiliza (102).jpeg\n",
       "..                               ...\n",
       "217  1_defeituoso/defeito (215).jpeg\n",
       "218  1_defeituoso/defeito (216).jpeg\n",
       "219  1_defeituoso/defeito (217).jpeg\n",
       "220  1_defeituoso/defeito (218).jpeg\n",
       "221  1_defeituoso/defeito (219).jpeg\n",
       "\n",
       "[222 rows x 1 columns]"
      ]
     },
     "execution_count": 9,
     "metadata": {},
     "output_type": "execute_result"
    }
   ],
   "source": [
    "pd.DataFrame(val_set.filenames)"
   ]
  },
  {
   "cell_type": "markdown",
   "metadata": {},
   "source": [
    "# EVALUATE RESULTS"
   ]
  },
  {
   "cell_type": "code",
   "execution_count": 10,
   "metadata": {},
   "outputs": [
    {
     "name": "stdout",
     "output_type": "stream",
     "text": [
      "56/56 [==============================] - 3s 44ms/step\n",
      "Confusion matrix Train \n",
      " [[331  25]\n",
      " [ 11 525]]\n",
      "56/56 [==============================] - 2s 32ms/step\n",
      "Errors list Train \n",
      " ['../dataset/resize_128/train/0_utilizavel/utiliza (18).jpeg', '../dataset/resize_128/train/0_utilizavel/utiliza (224).jpeg', '../dataset/resize_128/train/0_utilizavel/utiliza (227).jpeg', '../dataset/resize_128/train/0_utilizavel/utiliza (253).jpeg', '../dataset/resize_128/train/0_utilizavel/utiliza (282).jpeg', '../dataset/resize_128/train/0_utilizavel/utiliza (289).jpeg', '../dataset/resize_128/train/0_utilizavel/utiliza (3).jpeg', '../dataset/resize_128/train/0_utilizavel/utiliza (301).jpeg', '../dataset/resize_128/train/0_utilizavel/utiliza (314).jpeg', '../dataset/resize_128/train/0_utilizavel/utiliza (325).jpeg', '../dataset/resize_128/train/0_utilizavel/utiliza (329).jpeg', '../dataset/resize_128/train/0_utilizavel/utiliza (333).jpeg', '../dataset/resize_128/train/0_utilizavel/utiliza (334).jpeg', '../dataset/resize_128/train/0_utilizavel/utiliza (343).jpeg', '../dataset/resize_128/train/0_utilizavel/utiliza (348).jpeg', '../dataset/resize_128/train/0_utilizavel/utiliza (401).jpeg', '../dataset/resize_128/train/0_utilizavel/utiliza (402).jpeg', '../dataset/resize_128/train/0_utilizavel/utiliza (433).jpeg', '../dataset/resize_128/train/0_utilizavel/utiliza (437).jpeg', '../dataset/resize_128/train/0_utilizavel/utiliza (51).jpeg', '../dataset/resize_128/train/0_utilizavel/utiliza (55).jpeg', '../dataset/resize_128/train/0_utilizavel/utiliza (68).jpeg', '../dataset/resize_128/train/0_utilizavel/utiliza (71).jpeg', '../dataset/resize_128/train/0_utilizavel/utiliza (76).jpeg', '../dataset/resize_128/train/0_utilizavel/utiliza (77).jpeg', '../dataset/resize_128/train/1_defeituoso/defeito (235).jpeg', '../dataset/resize_128/train/1_defeituoso/defeito (328).jpeg', '../dataset/resize_128/train/1_defeituoso/defeito (429).jpeg', '../dataset/resize_128/train/1_defeituoso/defeito (469).jpeg', '../dataset/resize_128/train/1_defeituoso/defeito (516).jpeg', '../dataset/resize_128/train/1_defeituoso/defeito (56).jpeg', '../dataset/resize_128/train/1_defeituoso/defeito (602).jpeg', '../dataset/resize_128/train/1_defeituoso/defeito (613).jpeg', '../dataset/resize_128/train/1_defeituoso/defeito (632).jpeg', '../dataset/resize_128/train/1_defeituoso/defeito (66).jpeg', '../dataset/resize_128/train/1_defeituoso/defeito (9).jpeg']\n",
      "14/14 [==============================] - 0s 30ms/step\n",
      "Confusion matrix Validation \n",
      " [[ 85   3]\n",
      " [  4 130]]\n",
      "14/14 [==============================] - 1s 34ms/step\n",
      "Errors list Validation \n",
      " ['../dataset/resize_128/train/0_utilizavel/utiliza (128).jpeg', '../dataset/resize_128/train/0_utilizavel/utiliza (158).jpeg', '../dataset/resize_128/train/0_utilizavel/utiliza (167).jpeg', '../dataset/resize_128/train/1_defeituoso/defeito (100).jpeg', '../dataset/resize_128/train/1_defeituoso/defeito (131).jpeg', '../dataset/resize_128/train/1_defeituoso/defeito (188).jpeg', '../dataset/resize_128/train/1_defeituoso/defeito (201).jpeg']\n"
     ]
    },
    {
     "data": {
      "image/png": "[encoded data removed]",
      "text/plain": [
       "<Figure size 640x480 with 1 Axes>"
      ]
     },
     "metadata": {},
     "output_type": "display_data"
    },
    {
     "data": {
      "image/png": "[encoded data removed]",
      "text/plain": [
       "<Figure size 640x480 with 1 Axes>"
      ]
     },
     "metadata": {},
     "output_type": "display_data"
    }
   ],
   "source": [
    "# get confusion matrix and wrong inferences.\n",
    "trainer.init_metrics_handler()\n",
    "for name, set in zip([\"Train\", \"Validation\"], [train_set, val_set]):\n",
    "    trainer.get_confusion_matrix(set, name)\n",
    "    trainer.get_errors(set, name, draw_errors=True)"
   ]
  },
  {
   "cell_type": "markdown",
   "metadata": {},
   "source": [
    "# END LOGGER RUN"
   ]
  },
  {
   "cell_type": "code",
   "execution_count": 11,
   "metadata": {},
   "outputs": [],
   "source": [
    "trainer.end_run()"
   ]
  }
 ],
 "metadata": {
  "kernelspec": {
   "display_name": "0_env_tcc",
   "language": "python",
   "name": "python3"
  },
  "language_info": {
   "codemirror_mode": {
    "name": "ipython",
    "version": 3
   },
   "file_extension": ".py",
   "mimetype": "text/x-python",
   "name": "python",
   "nbconvert_exporter": "python",
   "pygments_lexer": "ipython3",
   "version": "3.9.2"
  },
  "orig_nbformat": 4
 },
 "nbformat": 4,
 "nbformat_minor": 2
}
