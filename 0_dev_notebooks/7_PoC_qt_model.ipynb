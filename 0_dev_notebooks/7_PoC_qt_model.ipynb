{
 "cells": [
  {
   "cell_type": "code",
   "execution_count": 1,
   "metadata": {},
   "outputs": [
    {
     "name": "stderr",
     "output_type": "stream",
     "text": [
      "2023-08-26 21:50:19.603909: I tensorflow/tsl/cuda/cudart_stub.cc:28] Could not find cuda drivers on your machine, GPU will not be used.\n",
      "2023-08-26 21:50:19.654949: I tensorflow/tsl/cuda/cudart_stub.cc:28] Could not find cuda drivers on your machine, GPU will not be used.\n",
      "2023-08-26 21:50:19.655343: I tensorflow/core/platform/cpu_feature_guard.cc:182] This TensorFlow binary is optimized to use available CPU instructions in performance-critical operations.\n",
      "To enable the following instructions: AVX2 FMA, in other operations, rebuild TensorFlow with the appropriate compiler flags.\n",
      "2023-08-26 21:50:20.709581: W tensorflow/compiler/tf2tensorrt/utils/py_utils.cc:38] TF-TRT Warning: Could not find TensorRT\n"
     ]
    }
   ],
   "source": [
    "# PoC for testing in hardware.\n",
    "import sys\n",
    "sys.path.insert(1, '../')\n",
    "\n",
    "# get parameters.\n",
    "from dev_modules.vcs_model import model_class"
   ]
  },
  {
   "cell_type": "markdown",
   "metadata": {},
   "source": [
    "# IMPORTS"
   ]
  },
  {
   "cell_type": "code",
   "execution_count": 2,
   "metadata": {},
   "outputs": [],
   "source": [
    "import os\n",
    "import numpy as np\n",
    "import pandas as pd\n",
    "import pickle\n",
    "\n",
    "import cv2\n",
    "import matplotlib.pyplot as plt"
   ]
  },
  {
   "cell_type": "markdown",
   "metadata": {},
   "source": [
    "# Load dataset"
   ]
  },
  {
   "cell_type": "code",
   "execution_count": 3,
   "metadata": {},
   "outputs": [
    {
     "data": {
      "text/plain": [
       "0      ../dataset/resize_128/test/0_utilizavel/utiliz...\n",
       "1      ../dataset/resize_128/test/0_utilizavel/utiliz...\n",
       "2      ../dataset/resize_128/test/0_utilizavel/utiliz...\n",
       "3      ../dataset/resize_128/test/0_utilizavel/utiliz...\n",
       "4      ../dataset/resize_128/test/0_utilizavel/utiliz...\n",
       "                             ...                        \n",
       "178    ../dataset/resize_128/test/1_defeituoso/defeit...\n",
       "179    ../dataset/resize_128/test/1_defeituoso/defeit...\n",
       "180    ../dataset/resize_128/test/1_defeituoso/defeit...\n",
       "181    ../dataset/resize_128/test/1_defeituoso/defeit...\n",
       "182    ../dataset/resize_128/test/1_defeituoso/defeit...\n",
       "Name: filepaths, Length: 183, dtype: object"
      ]
     },
     "execution_count": 3,
     "metadata": {},
     "output_type": "execute_result"
    }
   ],
   "source": [
    "with open('../model/Test_files.pkl', 'rb') as file:\n",
    "    test_files = pickle.load(file)\n",
    "\n",
    "test_set = pd.DataFrame({\"filepaths\": test_files})\n",
    "test_set.filepaths"
   ]
  },
  {
   "cell_type": "markdown",
   "metadata": {},
   "source": [
    "## Load QT model"
   ]
  },
  {
   "cell_type": "code",
   "execution_count": 4,
   "metadata": {},
   "outputs": [],
   "source": [
    "qt_model_h = model_class.qt_CNN_MCU()\n",
    "qt_model = qt_model_h.load_qt_model('../model/qt/models/qt_model.tflite')"
   ]
  },
  {
   "cell_type": "markdown",
   "metadata": {},
   "source": [
    "## Predictions"
   ]
  },
  {
   "cell_type": "code",
   "execution_count": 5,
   "metadata": {},
   "outputs": [
    {
     "name": "stderr",
     "output_type": "stream",
     "text": [
      "INFO: Created TensorFlow Lite XNNPACK delegate for CPU.\n"
     ]
    }
   ],
   "source": [
    "y_pred = qt_model_h.qt_predict(test_set)"
   ]
  },
  {
   "cell_type": "code",
   "execution_count": 6,
   "metadata": {},
   "outputs": [
    {
     "name": "stdout",
     "output_type": "stream",
     "text": [
      "|     | filename                                                   |   prediction |\n",
      "|----:|:-----------------------------------------------------------|-------------:|\n",
      "|   0 | ../dataset/resize_128/test/0_utilizavel/utiliza (445).jpeg |   0.078125   |\n",
      "|   1 | ../dataset/resize_128/test/0_utilizavel/utiliza (446).jpeg |   0.269531   |\n",
      "|   2 | ../dataset/resize_128/test/0_utilizavel/utiliza (447).jpeg |   0.136719   |\n",
      "|   3 | ../dataset/resize_128/test/0_utilizavel/utiliza (448).jpeg |   0.46875    |\n",
      "|   4 | ../dataset/resize_128/test/0_utilizavel/utiliza (449).jpeg |   0.00390625 |\n",
      "|   5 | ../dataset/resize_128/test/0_utilizavel/utiliza (450).jpeg |   0.0078125  |\n",
      "|   6 | ../dataset/resize_128/test/0_utilizavel/utiliza (451).jpeg |   0.078125   |\n",
      "|   7 | ../dataset/resize_128/test/0_utilizavel/utiliza (452).jpeg |   0.0390625  |\n",
      "|   8 | ../dataset/resize_128/test/0_utilizavel/utiliza (453).jpeg |   0.5625     |\n",
      "|   9 | ../dataset/resize_128/test/0_utilizavel/utiliza (454).jpeg |   0.183594   |\n",
      "|  10 | ../dataset/resize_128/test/0_utilizavel/utiliza (455).jpeg |   0.109375   |\n",
      "|  11 | ../dataset/resize_128/test/0_utilizavel/utiliza (456).jpeg |   0          |\n",
      "|  12 | ../dataset/resize_128/test/0_utilizavel/utiliza (457).jpeg |   0.0117188  |\n",
      "|  13 | ../dataset/resize_128/test/0_utilizavel/utiliza (458).jpeg |   0.246094   |\n",
      "|  14 | ../dataset/resize_128/test/0_utilizavel/utiliza (459).jpeg |   0.148438   |\n",
      "|  15 | ../dataset/resize_128/test/0_utilizavel/utiliza (460).jpeg |   0.621094   |\n",
      "|  16 | ../dataset/resize_128/test/0_utilizavel/utiliza (461).jpeg |   0.0078125  |\n",
      "|  17 | ../dataset/resize_128/test/0_utilizavel/utiliza (462).jpeg |   0          |\n",
      "|  18 | ../dataset/resize_128/test/0_utilizavel/utiliza (463).jpeg |   0.0429688  |\n",
      "|  19 | ../dataset/resize_128/test/0_utilizavel/utiliza (464).jpeg |   0.0429688  |\n",
      "|  20 | ../dataset/resize_128/test/0_utilizavel/utiliza (465).jpeg |   0.0429688  |\n",
      "|  21 | ../dataset/resize_128/test/0_utilizavel/utiliza (466).jpeg |   0.078125   |\n",
      "|  22 | ../dataset/resize_128/test/0_utilizavel/utiliza (468).jpeg |   0.03125    |\n",
      "|  23 | ../dataset/resize_128/test/0_utilizavel/utiliza (469).jpeg |   0.0703125  |\n",
      "|  24 | ../dataset/resize_128/test/0_utilizavel/utiliza (470).jpeg |   0.0390625  |\n",
      "|  25 | ../dataset/resize_128/test/0_utilizavel/utiliza (471).jpeg |   0.078125   |\n",
      "|  26 | ../dataset/resize_128/test/0_utilizavel/utiliza (472).jpeg |   0.53125    |\n",
      "|  27 | ../dataset/resize_128/test/0_utilizavel/utiliza (473).jpeg |   0.0625     |\n",
      "|  28 | ../dataset/resize_128/test/0_utilizavel/utiliza (474).jpeg |   0.136719   |\n",
      "|  29 | ../dataset/resize_128/test/0_utilizavel/utiliza (475).jpeg |   0.183594   |\n",
      "|  30 | ../dataset/resize_128/test/0_utilizavel/utiliza (476).jpeg |   0.0078125  |\n",
      "|  31 | ../dataset/resize_128/test/0_utilizavel/utiliza (477).jpeg |   0.0625     |\n",
      "|  32 | ../dataset/resize_128/test/0_utilizavel/utiliza (478).jpeg |   0.015625   |\n",
      "|  33 | ../dataset/resize_128/test/0_utilizavel/utiliza (479).jpeg |   0.246094   |\n",
      "|  34 | ../dataset/resize_128/test/0_utilizavel/utiliza (480).jpeg |   0.351562   |\n",
      "|  35 | ../dataset/resize_128/test/0_utilizavel/utiliza (481).jpeg |   0.0859375  |\n",
      "|  36 | ../dataset/resize_128/test/0_utilizavel/utiliza (482).jpeg |   0.148438   |\n",
      "|  37 | ../dataset/resize_128/test/0_utilizavel/utiliza (483).jpeg |   0.5        |\n",
      "|  38 | ../dataset/resize_128/test/0_utilizavel/utiliza (484).jpeg |   0.53125    |\n",
      "|  39 | ../dataset/resize_128/test/0_utilizavel/utiliza (485).jpeg |   0.0078125  |\n",
      "|  40 | ../dataset/resize_128/test/0_utilizavel/utiliza (486).jpeg |   0.378906   |\n",
      "|  41 | ../dataset/resize_128/test/0_utilizavel/utiliza (487).jpeg |   0.0117188  |\n",
      "|  42 | ../dataset/resize_128/test/0_utilizavel/utiliza (488).jpeg |   0.5625     |\n",
      "|  43 | ../dataset/resize_128/test/0_utilizavel/utiliza (489).jpeg |   0.03125    |\n",
      "|  44 | ../dataset/resize_128/test/0_utilizavel/utiliza (490).jpeg |   0.0429688  |\n",
      "|  45 | ../dataset/resize_128/test/0_utilizavel/utiliza (491).jpeg |   0.0859375  |\n",
      "|  46 | ../dataset/resize_128/test/0_utilizavel/utiliza (492).jpeg |   0.046875   |\n",
      "|  47 | ../dataset/resize_128/test/0_utilizavel/utiliza (493).jpeg |   0.109375   |\n",
      "|  48 | ../dataset/resize_128/test/0_utilizavel/utiliza (494).jpeg |   0.148438   |\n",
      "|  49 | ../dataset/resize_128/test/0_utilizavel/utiliza (495).jpeg |   0.351562   |\n",
      "|  50 | ../dataset/resize_128/test/0_utilizavel/utiliza (496).jpeg |   0.0195312  |\n",
      "|  51 | ../dataset/resize_128/test/0_utilizavel/utiliza (497).jpeg |   0.0976562  |\n",
      "|  52 | ../dataset/resize_128/test/0_utilizavel/utiliza (498).jpeg |   0.0234375  |\n",
      "|  53 | ../dataset/resize_128/test/0_utilizavel/utiliza (499).jpeg |   0.0390625  |\n",
      "|  54 | ../dataset/resize_128/test/0_utilizavel/utiliza (500).jpeg |   0.183594   |\n",
      "|  55 | ../dataset/resize_128/test/0_utilizavel/utiliza (501).jpeg |   0.0234375  |\n",
      "|  56 | ../dataset/resize_128/test/0_utilizavel/utiliza (502).jpeg |   0.203125   |\n",
      "|  57 | ../dataset/resize_128/test/0_utilizavel/utiliza (503).jpeg |   0.0117188  |\n",
      "|  58 | ../dataset/resize_128/test/0_utilizavel/utiliza (504).jpeg |   0.00390625 |\n",
      "|  59 | ../dataset/resize_128/test/0_utilizavel/utiliza (505).jpeg |   0.148438   |\n",
      "|  60 | ../dataset/resize_128/test/0_utilizavel/utiliza (506).jpeg |   0.0273438  |\n",
      "|  61 | ../dataset/resize_128/test/0_utilizavel/utiliza (507).jpeg |   0.148438   |\n",
      "|  62 | ../dataset/resize_128/test/0_utilizavel/utiliza (508).jpeg |   0.0976562  |\n",
      "|  63 | ../dataset/resize_128/test/0_utilizavel/utiliza (509).jpeg |   0.0078125  |\n",
      "|  64 | ../dataset/resize_128/test/0_utilizavel/utiliza (510).jpeg |   0.121094   |\n",
      "|  65 | ../dataset/resize_128/test/0_utilizavel/utiliza (511).jpeg |   0.0078125  |\n",
      "|  66 | ../dataset/resize_128/test/0_utilizavel/utiliza (512).jpeg |   0.0078125  |\n",
      "|  67 | ../dataset/resize_128/test/0_utilizavel/utiliza (513).jpeg |   0.078125   |\n",
      "|  68 | ../dataset/resize_128/test/0_utilizavel/utiliza (514).jpeg |   0.5        |\n",
      "|  69 | ../dataset/resize_128/test/0_utilizavel/utiliza (515).jpeg |   0.296875   |\n",
      "|  70 | ../dataset/resize_128/test/0_utilizavel/utiliza (516).jpeg |   0.0429688  |\n",
      "|  71 | ../dataset/resize_128/test/0_utilizavel/utiliza (517).jpeg |   0.960938   |\n",
      "|  72 | ../dataset/resize_128/test/0_utilizavel/utiliza (518).jpeg |   0.269531   |\n",
      "|  73 | ../dataset/resize_128/test/1_defeituoso/defeito (671).jpeg |   0.890625   |\n",
      "|  74 | ../dataset/resize_128/test/1_defeituoso/defeito (672).jpeg |   0.5        |\n",
      "|  75 | ../dataset/resize_128/test/1_defeituoso/defeito (673).jpeg |   0.703125   |\n",
      "|  76 | ../dataset/resize_128/test/1_defeituoso/defeito (674).jpeg |   0.996094   |\n",
      "|  77 | ../dataset/resize_128/test/1_defeituoso/defeito (675).jpeg |   0.996094   |\n",
      "|  78 | ../dataset/resize_128/test/1_defeituoso/defeito (676).jpeg |   0.980469   |\n",
      "|  79 | ../dataset/resize_128/test/1_defeituoso/defeito (677).jpeg |   0.953125   |\n",
      "|  80 | ../dataset/resize_128/test/1_defeituoso/defeito (678).jpeg |   0.996094   |\n",
      "|  81 | ../dataset/resize_128/test/1_defeituoso/defeito (679).jpeg |   0.996094   |\n",
      "|  82 | ../dataset/resize_128/test/1_defeituoso/defeito (680).jpeg |   0.0546875  |\n",
      "|  83 | ../dataset/resize_128/test/1_defeituoso/defeito (681).jpeg |   0.996094   |\n",
      "|  84 | ../dataset/resize_128/test/1_defeituoso/defeito (682).jpeg |   0.996094   |\n",
      "|  85 | ../dataset/resize_128/test/1_defeituoso/defeito (683).jpeg |   0.996094   |\n",
      "|  86 | ../dataset/resize_128/test/1_defeituoso/defeito (684).jpeg |   0.996094   |\n",
      "|  87 | ../dataset/resize_128/test/1_defeituoso/defeito (685).jpeg |   0.988281   |\n",
      "|  88 | ../dataset/resize_128/test/1_defeituoso/defeito (686).jpeg |   0.996094   |\n",
      "|  89 | ../dataset/resize_128/test/1_defeituoso/defeito (687).jpeg |   0.136719   |\n",
      "|  90 | ../dataset/resize_128/test/1_defeituoso/defeito (688).jpeg |   0.996094   |\n",
      "|  91 | ../dataset/resize_128/test/1_defeituoso/defeito (689).jpeg |   0.996094   |\n",
      "|  92 | ../dataset/resize_128/test/1_defeituoso/defeito (690).jpeg |   0.988281   |\n",
      "|  93 | ../dataset/resize_128/test/1_defeituoso/defeito (691).jpeg |   0.992188   |\n",
      "|  94 | ../dataset/resize_128/test/1_defeituoso/defeito (692).jpeg |   0.996094   |\n",
      "|  95 | ../dataset/resize_128/test/1_defeituoso/defeito (693).jpeg |   0.996094   |\n",
      "|  96 | ../dataset/resize_128/test/1_defeituoso/defeito (694).jpeg |   0.996094   |\n",
      "|  97 | ../dataset/resize_128/test/1_defeituoso/defeito (695).jpeg |   0.996094   |\n",
      "|  98 | ../dataset/resize_128/test/1_defeituoso/defeito (696).jpeg |   0.996094   |\n",
      "|  99 | ../dataset/resize_128/test/1_defeituoso/defeito (697).jpeg |   0.996094   |\n",
      "| 100 | ../dataset/resize_128/test/1_defeituoso/defeito (698).jpeg |   0.890625   |\n",
      "| 101 | ../dataset/resize_128/test/1_defeituoso/defeito (699).jpeg |   0.996094   |\n",
      "| 102 | ../dataset/resize_128/test/1_defeituoso/defeito (700).jpeg |   0.996094   |\n",
      "| 103 | ../dataset/resize_128/test/1_defeituoso/defeito (701).jpeg |   0.996094   |\n",
      "| 104 | ../dataset/resize_128/test/1_defeituoso/defeito (702).jpeg |   0.996094   |\n",
      "| 105 | ../dataset/resize_128/test/1_defeituoso/defeito (703).jpeg |   0.992188   |\n",
      "| 106 | ../dataset/resize_128/test/1_defeituoso/defeito (704).jpeg |   0.914062   |\n",
      "| 107 | ../dataset/resize_128/test/1_defeituoso/defeito (705).jpeg |   0.996094   |\n",
      "| 108 | ../dataset/resize_128/test/1_defeituoso/defeito (706).jpeg |   0.5        |\n",
      "| 109 | ../dataset/resize_128/test/1_defeituoso/defeito (707).jpeg |   0.996094   |\n",
      "| 110 | ../dataset/resize_128/test/1_defeituoso/defeito (708).jpeg |   0.988281   |\n",
      "| 111 | ../dataset/resize_128/test/1_defeituoso/defeito (709).jpeg |   0.996094   |\n",
      "| 112 | ../dataset/resize_128/test/1_defeituoso/defeito (710).jpeg |   0.996094   |\n",
      "| 113 | ../dataset/resize_128/test/1_defeituoso/defeito (711).jpeg |   0.988281   |\n",
      "| 114 | ../dataset/resize_128/test/1_defeituoso/defeito (712).jpeg |   0.816406   |\n",
      "| 115 | ../dataset/resize_128/test/1_defeituoso/defeito (713).jpeg |   0.996094   |\n",
      "| 116 | ../dataset/resize_128/test/1_defeituoso/defeito (714).jpeg |   0.980469   |\n",
      "| 117 | ../dataset/resize_128/test/1_defeituoso/defeito (715).jpeg |   0.996094   |\n",
      "| 118 | ../dataset/resize_128/test/1_defeituoso/defeito (716).jpeg |   0.996094   |\n",
      "| 119 | ../dataset/resize_128/test/1_defeituoso/defeito (717).jpeg |   0.996094   |\n",
      "| 120 | ../dataset/resize_128/test/1_defeituoso/defeito (718).jpeg |   0.996094   |\n",
      "| 121 | ../dataset/resize_128/test/1_defeituoso/defeito (719).jpeg |   0.984375   |\n",
      "| 122 | ../dataset/resize_128/test/1_defeituoso/defeito (720).jpeg |   0.996094   |\n",
      "| 123 | ../dataset/resize_128/test/1_defeituoso/defeito (721).jpeg |   0.964844   |\n",
      "| 124 | ../dataset/resize_128/test/1_defeituoso/defeito (722).jpeg |   0.996094   |\n",
      "| 125 | ../dataset/resize_128/test/1_defeituoso/defeito (723).jpeg |   0.996094   |\n",
      "| 126 | ../dataset/resize_128/test/1_defeituoso/defeito (724).jpeg |   0.964844   |\n",
      "| 127 | ../dataset/resize_128/test/1_defeituoso/defeito (725).jpeg |   0.992188   |\n",
      "| 128 | ../dataset/resize_128/test/1_defeituoso/defeito (726).jpeg |   0.996094   |\n",
      "| 129 | ../dataset/resize_128/test/1_defeituoso/defeito (727).jpeg |   0.996094   |\n",
      "| 130 | ../dataset/resize_128/test/1_defeituoso/defeito (728).jpeg |   0.945312   |\n",
      "| 131 | ../dataset/resize_128/test/1_defeituoso/defeito (729).jpeg |   0.996094   |\n",
      "| 132 | ../dataset/resize_128/test/1_defeituoso/defeito (730).jpeg |   0.996094   |\n",
      "| 133 | ../dataset/resize_128/test/1_defeituoso/defeito (731).jpeg |   0.996094   |\n",
      "| 134 | ../dataset/resize_128/test/1_defeituoso/defeito (732).jpeg |   0.996094   |\n",
      "| 135 | ../dataset/resize_128/test/1_defeituoso/defeito (733).jpeg |   0.96875    |\n",
      "| 136 | ../dataset/resize_128/test/1_defeituoso/defeito (734).jpeg |   0.996094   |\n",
      "| 137 | ../dataset/resize_128/test/1_defeituoso/defeito (735).jpeg |   0.0273438  |\n",
      "| 138 | ../dataset/resize_128/test/1_defeituoso/defeito (736).jpeg |   0.996094   |\n",
      "| 139 | ../dataset/resize_128/test/1_defeituoso/defeito (737).jpeg |   0.996094   |\n",
      "| 140 | ../dataset/resize_128/test/1_defeituoso/defeito (738).jpeg |   0.996094   |\n",
      "| 141 | ../dataset/resize_128/test/1_defeituoso/defeito (739).jpeg |   0.996094   |\n",
      "| 142 | ../dataset/resize_128/test/1_defeituoso/defeito (740).jpeg |   0.992188   |\n",
      "| 143 | ../dataset/resize_128/test/1_defeituoso/defeito (741).jpeg |   0.980469   |\n",
      "| 144 | ../dataset/resize_128/test/1_defeituoso/defeito (742).jpeg |   0.980469   |\n",
      "| 145 | ../dataset/resize_128/test/1_defeituoso/defeito (743).jpeg |   0.980469   |\n",
      "| 146 | ../dataset/resize_128/test/1_defeituoso/defeito (744).jpeg |   0.996094   |\n",
      "| 147 | ../dataset/resize_128/test/1_defeituoso/defeito (745).jpeg |   0.996094   |\n",
      "| 148 | ../dataset/resize_128/test/1_defeituoso/defeito (746).jpeg |   0.996094   |\n",
      "| 149 | ../dataset/resize_128/test/1_defeituoso/defeito (747).jpeg |   0.996094   |\n",
      "| 150 | ../dataset/resize_128/test/1_defeituoso/defeito (748).jpeg |   0.996094   |\n",
      "| 151 | ../dataset/resize_128/test/1_defeituoso/defeito (749).jpeg |   0.992188   |\n",
      "| 152 | ../dataset/resize_128/test/1_defeituoso/defeito (750).jpeg |   0.996094   |\n",
      "| 153 | ../dataset/resize_128/test/1_defeituoso/defeito (751).jpeg |   0.621094   |\n",
      "| 154 | ../dataset/resize_128/test/1_defeituoso/defeito (752).jpeg |   0.996094   |\n",
      "| 155 | ../dataset/resize_128/test/1_defeituoso/defeito (753).jpeg |   0.996094   |\n",
      "| 156 | ../dataset/resize_128/test/1_defeituoso/defeito (754).jpeg |   0.996094   |\n",
      "| 157 | ../dataset/resize_128/test/1_defeituoso/defeito (755).jpeg |   0.996094   |\n",
      "| 158 | ../dataset/resize_128/test/1_defeituoso/defeito (756).jpeg |   0.996094   |\n",
      "| 159 | ../dataset/resize_128/test/1_defeituoso/defeito (757).jpeg |   0.996094   |\n",
      "| 160 | ../dataset/resize_128/test/1_defeituoso/defeito (758).jpeg |   0.753906   |\n",
      "| 161 | ../dataset/resize_128/test/1_defeituoso/defeito (759).jpeg |   0.996094   |\n",
      "| 162 | ../dataset/resize_128/test/1_defeituoso/defeito (760).jpeg |   0.996094   |\n",
      "| 163 | ../dataset/resize_128/test/1_defeituoso/defeito (761).jpeg |   0.863281   |\n",
      "| 164 | ../dataset/resize_128/test/1_defeituoso/defeito (762).jpeg |   0.996094   |\n",
      "| 165 | ../dataset/resize_128/test/1_defeituoso/defeito (763).jpeg |   0.996094   |\n",
      "| 166 | ../dataset/resize_128/test/1_defeituoso/defeito (764).jpeg |   0.957031   |\n",
      "| 167 | ../dataset/resize_128/test/1_defeituoso/defeito (765).jpeg |   0.996094   |\n",
      "| 168 | ../dataset/resize_128/test/1_defeituoso/defeito (766).jpeg |   0.996094   |\n",
      "| 169 | ../dataset/resize_128/test/1_defeituoso/defeito (767).jpeg |   0.816406   |\n",
      "| 170 | ../dataset/resize_128/test/1_defeituoso/defeito (768).jpeg |   0.996094   |\n",
      "| 171 | ../dataset/resize_128/test/1_defeituoso/defeito (769).jpeg |   0.96875    |\n",
      "| 172 | ../dataset/resize_128/test/1_defeituoso/defeito (770).jpeg |   0.992188   |\n",
      "| 173 | ../dataset/resize_128/test/1_defeituoso/defeito (771).jpeg |   0.996094   |\n",
      "| 174 | ../dataset/resize_128/test/1_defeituoso/defeito (772).jpeg |   0.996094   |\n",
      "| 175 | ../dataset/resize_128/test/1_defeituoso/defeito (773).jpeg |   0.0976562  |\n",
      "| 176 | ../dataset/resize_128/test/1_defeituoso/defeito (774).jpeg |   0.929688   |\n",
      "| 177 | ../dataset/resize_128/test/1_defeituoso/defeito (775).jpeg |   0.996094   |\n",
      "| 178 | ../dataset/resize_128/test/1_defeituoso/defeito (776).jpeg |   0.816406   |\n",
      "| 179 | ../dataset/resize_128/test/1_defeituoso/defeito (777).jpeg |   0.980469   |\n",
      "| 180 | ../dataset/resize_128/test/1_defeituoso/defeito (778).jpeg |   0.5625     |\n",
      "| 181 | ../dataset/resize_128/test/1_defeituoso/defeito (779).jpeg |   0.996094   |\n",
      "| 182 | ../dataset/resize_128/test/1_defeituoso/defeito (780).jpeg |   0.996094   |\n"
     ]
    }
   ],
   "source": [
    "y_pred_df = pd.DataFrame({\n",
    "    \"filename\": test_files,\n",
    "    \"prediction\": y_pred\n",
    "})\n",
    "print(y_pred_df.to_markdown())"
   ]
  },
  {
   "cell_type": "markdown",
   "metadata": {},
   "source": [
    "# C IMAGE DATABASE"
   ]
  },
  {
   "cell_type": "code",
   "execution_count": 7,
   "metadata": {},
   "outputs": [],
   "source": [
    "def get_img_array(path: str) -> tuple:\n",
    "    name = path.split(os.sep)[-1]\n",
    "    name = name.replace(' ', '_')\n",
    "    name = name.replace(\"(\", \"\")\n",
    "    name = name.replace(\")\", \"\")\n",
    "    name = name.split('.')[0]\n",
    "    img_array = \"const unsigned char \" + name + \"[] = \"\n",
    "    return (name, img_array)"
   ]
  },
  {
   "cell_type": "code",
   "execution_count": 20,
   "metadata": {},
   "outputs": [
    {
     "name": "stdout",
     "output_type": "stream",
     "text": [
      "0 - 0.078125 - utiliza_445\n",
      "1 - 0.0078125 - utiliza_450\n",
      "2 - 0.109375 - utiliza_455\n",
      "3 - 0.62109375 - utiliza_460\n",
      "4 - 0.04296875 - utiliza_465\n",
      "5 - 0.078125 - utiliza_471\n",
      "6 - 0.0078125 - utiliza_476\n",
      "7 - 0.0859375 - utiliza_481\n",
      "8 - 0.37890625 - utiliza_486\n",
      "9 - 0.0859375 - utiliza_491\n",
      "10 - 0.01953125 - utiliza_496\n",
      "11 - 0.0234375 - utiliza_501\n",
      "12 - 0.02734375 - utiliza_506\n",
      "13 - 0.0078125 - utiliza_511\n",
      "14 - 0.04296875 - utiliza_516\n",
      "15 - 0.703125 - defeito_673\n",
      "16 - 0.99609375 - defeito_678\n",
      "17 - 0.99609375 - defeito_683\n",
      "18 - 0.99609375 - defeito_688\n",
      "19 - 0.99609375 - defeito_693\n",
      "20 - 0.890625 - defeito_698\n",
      "21 - 0.9921875 - defeito_703\n",
      "22 - 0.98828125 - defeito_708\n",
      "23 - 0.99609375 - defeito_713\n",
      "24 - 0.99609375 - defeito_718\n",
      "25 - 0.99609375 - defeito_723\n",
      "26 - 0.9453125 - defeito_728\n",
      "27 - 0.96875 - defeito_733\n",
      "28 - 0.99609375 - defeito_738\n",
      "29 - 0.98046875 - defeito_743\n",
      "30 - 0.99609375 - defeito_748\n",
      "31 - 0.99609375 - defeito_753\n",
      "32 - 0.75390625 - defeito_758\n",
      "33 - 0.99609375 - defeito_763\n",
      "34 - 0.99609375 - defeito_768\n",
      "35 - 0.09765625 - defeito_773\n"
     ]
    }
   ],
   "source": [
    "arrays_list = list()\n",
    "names_list = list()\n",
    "\n",
    "IMPORTS = \"\"\"// test images as bit arrays.\n",
    "\n",
    "#include \"esp_main.h\"\n",
    "#include \"images.h\"\n",
    "#include <freertos/FreeRTOS.h>\n",
    "\"\"\"\n",
    "with open(\"./img_arrays.txt\", \"w\") as file:\n",
    "    file.write(IMPORTS + \"\\n\")\n",
    "\n",
    "IMG_TO_SAVE = 36\n",
    "for counter in range(IMG_TO_SAVE):\n",
    "    idx = int(np.floor(len(test_set.filepaths) / IMG_TO_SAVE)*counter)\n",
    "    image_path = test_set.filepaths[idx]\n",
    "    (name, c_array) = get_img_array(image_path)\n",
    "    names_list.append(name)\n",
    "\n",
    "    img = cv2.imread(image_path, cv2.IMREAD_GRAYSCALE)\n",
    "    array_values = str(img.flatten().tolist()).replace(\"[\", \"{\").replace(\"]\", \"}\")\n",
    "    c_array = c_array + array_values + \";\"\n",
    "    arrays_list.append(c_array)\n",
    "    \n",
    "    with open(\"./img_arrays.txt\", \"a\") as file:\n",
    "        file.write(c_array + \"\\n\")\n",
    "    \n",
    "    print(counter, \"-\", y_pred[idx], '-', name)"
   ]
  },
  {
   "cell_type": "code",
   "execution_count": 16,
   "metadata": {},
   "outputs": [],
   "source": [
    "ALL_ARRAY = \"\"\"\n",
    "const unsigned char* test_img[] = {\n",
    "\"\"\"\n",
    "with open(\"./img_arrays.txt\", \"a\") as file:\n",
    "    file.write(ALL_ARRAY)\n",
    "    \n",
    "    for name in names_list:\n",
    "        file.write(str(name) + \",\\n\")\n",
    "    \n",
    "    file.write(\"};\\n\")"
   ]
  }
 ],
 "metadata": {
  "kernelspec": {
   "display_name": "env_ML_pipeline",
   "language": "python",
   "name": "python3"
  },
  "language_info": {
   "codemirror_mode": {
    "name": "ipython",
    "version": 3
   },
   "file_extension": ".py",
   "mimetype": "text/x-python",
   "name": "python",
   "nbconvert_exporter": "python",
   "pygments_lexer": "ipython3",
   "version": "3.9.2"
  },
  "orig_nbformat": 4
 },
 "nbformat": 4,
 "nbformat_minor": 2
}
