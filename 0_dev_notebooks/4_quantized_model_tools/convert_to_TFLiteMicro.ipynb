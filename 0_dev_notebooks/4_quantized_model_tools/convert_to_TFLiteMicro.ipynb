{
 "cells": [
  {
   "cell_type": "code",
   "execution_count": 1,
   "metadata": {},
   "outputs": [],
   "source": [
    "import os"
   ]
  },
  {
   "cell_type": "code",
   "execution_count": 2,
   "metadata": {},
   "outputs": [],
   "source": [
    "MODEL_TFLITE = \"../../model/qt/models/qt_model.tflite\"\n",
    "MODEL_TFLMICRO = \"./model.cpp\""
   ]
  },
  {
   "cell_type": "code",
   "execution_count": 3,
   "metadata": {},
   "outputs": [],
   "source": [
    "# Convert to a C source file.\n",
    "!xxd -i {MODEL_TFLITE} > {MODEL_TFLMICRO}"
   ]
  }
 ],
 "metadata": {
  "kernelspec": {
   "display_name": "env_ML_pipeline",
   "language": "python",
   "name": "python3"
  },
  "language_info": {
   "codemirror_mode": {
    "name": "ipython",
    "version": 3
   },
   "file_extension": ".py",
   "mimetype": "text/x-python",
   "name": "python",
   "nbconvert_exporter": "python",
   "pygments_lexer": "ipython3",
   "version": "3.9.2"
  },
  "orig_nbformat": 4
 },
 "nbformat": 4,
 "nbformat_minor": 2
}
