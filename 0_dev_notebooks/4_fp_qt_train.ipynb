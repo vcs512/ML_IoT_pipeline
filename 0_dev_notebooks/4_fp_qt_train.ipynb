{
 "cells": [
  {
   "cell_type": "code",
   "execution_count": 1,
   "metadata": {},
   "outputs": [],
   "source": [
    "DRAW = True"
   ]
  },
  {
   "cell_type": "markdown",
   "metadata": {},
   "source": [
    "## Dev parameters"
   ]
  },
  {
   "cell_type": "code",
   "execution_count": 2,
   "metadata": {},
   "outputs": [
    {
     "name": "stderr",
     "output_type": "stream",
     "text": [
      "2023-08-13 11:35:48.706019: I tensorflow/tsl/cuda/cudart_stub.cc:28] Could not find cuda drivers on your machine, GPU will not be used.\n",
      "2023-08-13 11:35:48.753791: I tensorflow/tsl/cuda/cudart_stub.cc:28] Could not find cuda drivers on your machine, GPU will not be used.\n",
      "2023-08-13 11:35:48.754840: I tensorflow/core/platform/cpu_feature_guard.cc:182] This TensorFlow binary is optimized to use available CPU instructions in performance-critical operations.\n",
      "To enable the following instructions: AVX2 FMA, in other operations, rebuild TensorFlow with the appropriate compiler flags.\n",
      "2023-08-13 11:35:49.842380: W tensorflow/compiler/tf2tensorrt/utils/py_utils.cc:38] TF-TRT Warning: Could not find TensorRT\n"
     ]
    }
   ],
   "source": [
    "import sys\n",
    "sys.path.insert(1, '../')\n",
    "\n",
    "# get trainer.\n",
    "from src.Trainer import Trainer"
   ]
  },
  {
   "cell_type": "markdown",
   "metadata": {},
   "source": [
    "# IMPORTS"
   ]
  },
  {
   "cell_type": "code",
   "execution_count": 3,
   "metadata": {},
   "outputs": [],
   "source": [
    "# data visualization.\n",
    "import pandas as pd\n",
    "import numpy as np\n",
    "import matplotlib.pyplot as plt\n",
    "import seaborn as sns\n",
    "import os\n",
    "\n",
    "# confere data.\n",
    "import sklearn.metrics\n",
    "import cv2\n",
    "import natsort\n",
    "\n",
    "# logger.\n",
    "import pickle\n",
    "import mlflow"
   ]
  },
  {
   "cell_type": "markdown",
   "metadata": {},
   "source": [
    "# DATASETs"
   ]
  },
  {
   "cell_type": "code",
   "execution_count": 4,
   "metadata": {},
   "outputs": [
    {
     "name": "stdout",
     "output_type": "stream",
     "text": [
      "Found 892 images belonging to 2 classes.\n",
      "Training set:\n",
      " {'0_utilizavel': 0, '1_defeituoso': 1}\n",
      "Found 222 images belonging to 2 classes.\n",
      "\n",
      "Validation set:\n",
      " {'0_utilizavel': 0, '1_defeituoso': 1}\n"
     ]
    }
   ],
   "source": [
    "# separate datasets.\n",
    "trainer = Trainer()\n",
    "[train_set, val_set] = trainer.train_val_split(augment=True)"
   ]
  },
  {
   "cell_type": "markdown",
   "metadata": {},
   "source": [
    "# FP MODEL"
   ]
  },
  {
   "cell_type": "markdown",
   "metadata": {},
   "source": [
    "## Train"
   ]
  },
  {
   "cell_type": "code",
   "execution_count": 5,
   "metadata": {},
   "outputs": [
    {
     "name": "stdout",
     "output_type": "stream",
     "text": [
      "Model: \"sequential\"\n",
      "_________________________________________________________________\n",
      " Layer (type)                Output Shape              Param #   \n",
      "=================================================================\n",
      " conv2d (Conv2D)             (None, 128, 128, 2)       20        \n",
      "                                                                 \n",
      " average_pooling2d (Average  (None, 64, 64, 2)         0         \n",
      " Pooling2D)                                                      \n",
      "                                                                 \n",
      " conv2d_1 (Conv2D)           (None, 64, 64, 4)         76        \n",
      "                                                                 \n",
      " average_pooling2d_1 (Avera  (None, 32, 32, 4)         0         \n",
      " gePooling2D)                                                    \n",
      "                                                                 \n",
      " conv2d_2 (Conv2D)           (None, 32, 32, 8)         296       \n",
      "                                                                 \n",
      " average_pooling2d_2 (Avera  (None, 16, 16, 8)         0         \n",
      " gePooling2D)                                                    \n",
      "                                                                 \n",
      " dropout (Dropout)           (None, 16, 16, 8)         0         \n",
      "                                                                 \n",
      " conv2d_3 (Conv2D)           (None, 16, 16, 8)         584       \n",
      "                                                                 \n",
      " average_pooling2d_3 (Avera  (None, 8, 8, 8)           0         \n",
      " gePooling2D)                                                    \n",
      "                                                                 \n",
      " dropout_1 (Dropout)         (None, 8, 8, 8)           0         \n",
      "                                                                 \n",
      " conv2d_4 (Conv2D)           (None, 8, 8, 16)          1168      \n",
      "                                                                 \n",
      " dropout_2 (Dropout)         (None, 8, 8, 16)          0         \n",
      "                                                                 \n",
      " flatten (Flatten)           (None, 1024)              0         \n",
      "                                                                 \n",
      " dense (Dense)               (None, 1)                 1025      \n",
      "                                                                 \n",
      "=================================================================\n",
      "Total params: 3169 (12.38 KB)\n",
      "Trainable params: 3169 (12.38 KB)\n",
      "Non-trainable params: 0 (0.00 Byte)\n",
      "_________________________________________________________________\n"
     ]
    },
    {
     "data": {
      "text/plain": [
       "<keras.src.engine.sequential.Sequential at 0x7f3d83f697c0>"
      ]
     },
     "execution_count": 5,
     "metadata": {},
     "output_type": "execute_result"
    }
   ],
   "source": [
    "trainer.build_fp_model()"
   ]
  },
  {
   "cell_type": "code",
   "execution_count": 6,
   "metadata": {},
   "outputs": [
    {
     "name": "stderr",
     "output_type": "stream",
     "text": [
      "2023/08/13 11:35:52 WARNING mlflow.tensorflow: Unrecognized dataset type <class 'keras.src.preprocessing.image.DirectoryIterator'>. Dataset logging skipped.\n",
      "2023/08/13 11:35:52 WARNING mlflow.tensorflow: Unrecognized dataset type <class 'keras.src.preprocessing.image.DirectoryIterator'>. Dataset logging skipped.\n"
     ]
    },
    {
     "name": "stdout",
     "output_type": "stream",
     "text": [
      "Epoch 1/45\n",
      "56/56 - 5s - loss: 0.6472 - recall: 0.9328 - binary_accuracy: 0.6143 - precision: 0.6188 - false_negatives: 36.0000 - false_positives: 308.0000 - val_loss: 0.6117 - val_recall: 0.8284 - val_binary_accuracy: 0.7072 - val_precision: 0.7255 - val_false_negatives: 23.0000 - val_false_positives: 42.0000 - 5s/epoch - 92ms/step\n",
      "Epoch 2/45\n"
     ]
    },
    {
     "name": "stderr",
     "output_type": "stream",
     "text": [
      "/home/vuser/Documents/backup_07302023/3_tcc_code/ML_IoT_pipeline/ML_IoT_pipeline/env_ML_pipeline/lib/python3.9/site-packages/keras/src/engine/training.py:3000: UserWarning: You are saving your model as an HDF5 file via `model.save()`. This file format is considered legacy. We recommend using instead the native Keras format, e.g. `model.save('my_model.keras')`.\n",
      "  saving_api.save_model(\n"
     ]
    },
    {
     "name": "stdout",
     "output_type": "stream",
     "text": [
      "56/56 - 3s - loss: 0.5791 - recall: 0.8004 - binary_accuracy: 0.6973 - precision: 0.7247 - false_negatives: 107.0000 - false_positives: 163.0000 - val_loss: 0.5910 - val_recall: 0.8209 - val_binary_accuracy: 0.6847 - val_precision: 0.7051 - val_false_negatives: 24.0000 - val_false_positives: 46.0000 - 3s/epoch - 52ms/step\n",
      "Epoch 3/45\n",
      "56/56 - 3s - loss: 0.5537 - recall: 0.8097 - binary_accuracy: 0.7298 - precision: 0.7574 - false_negatives: 102.0000 - false_positives: 139.0000 - val_loss: 0.5662 - val_recall: 0.7761 - val_binary_accuracy: 0.7027 - val_precision: 0.7429 - val_false_negatives: 30.0000 - val_false_positives: 36.0000 - 3s/epoch - 51ms/step\n",
      "Epoch 4/45\n",
      "56/56 - 3s - loss: 0.5334 - recall: 0.8041 - binary_accuracy: 0.7478 - precision: 0.7822 - false_negatives: 105.0000 - false_positives: 120.0000 - val_loss: 0.5492 - val_recall: 0.7463 - val_binary_accuracy: 0.7387 - val_precision: 0.8065 - val_false_negatives: 34.0000 - val_false_positives: 24.0000 - 3s/epoch - 53ms/step\n",
      "Epoch 5/45\n",
      "56/56 - 3s - loss: 0.5390 - recall: 0.7966 - binary_accuracy: 0.7265 - precision: 0.7598 - false_negatives: 109.0000 - false_positives: 135.0000 - val_loss: 0.5756 - val_recall: 0.6343 - val_binary_accuracy: 0.7072 - val_precision: 0.8416 - val_false_negatives: 49.0000 - val_false_positives: 16.0000 - 3s/epoch - 53ms/step\n",
      "Epoch 6/45\n",
      "56/56 - 3s - loss: 0.4930 - recall: 0.7873 - binary_accuracy: 0.7702 - precision: 0.8226 - false_negatives: 114.0000 - false_positives: 91.0000 - val_loss: 0.4846 - val_recall: 0.8209 - val_binary_accuracy: 0.7793 - val_precision: 0.8148 - val_false_negatives: 24.0000 - val_false_positives: 25.0000 - 3s/epoch - 53ms/step\n",
      "Epoch 7/45\n",
      "56/56 - 3s - loss: 0.4670 - recall: 0.8228 - binary_accuracy: 0.7724 - precision: 0.8033 - false_negatives: 95.0000 - false_positives: 108.0000 - val_loss: 0.4840 - val_recall: 0.7090 - val_binary_accuracy: 0.7658 - val_precision: 0.8796 - val_false_negatives: 39.0000 - val_false_positives: 13.0000 - 3s/epoch - 56ms/step\n",
      "Epoch 8/45\n",
      "56/56 - 3s - loss: 0.4261 - recall: 0.8302 - binary_accuracy: 0.8004 - precision: 0.8365 - false_negatives: 91.0000 - false_positives: 87.0000 - val_loss: 0.4421 - val_recall: 0.8060 - val_binary_accuracy: 0.8018 - val_precision: 0.8571 - val_false_negatives: 26.0000 - val_false_positives: 18.0000 - 3s/epoch - 55ms/step\n",
      "Epoch 9/45\n",
      "56/56 - 3s - loss: 0.4271 - recall: 0.8358 - binary_accuracy: 0.7892 - precision: 0.8175 - false_negatives: 88.0000 - false_positives: 100.0000 - val_loss: 0.3971 - val_recall: 0.8284 - val_binary_accuracy: 0.7928 - val_precision: 0.8284 - val_false_negatives: 23.0000 - val_false_positives: 23.0000 - 3s/epoch - 51ms/step\n",
      "Epoch 10/45\n",
      "56/56 - 3s - loss: 0.3957 - recall: 0.8545 - binary_accuracy: 0.8173 - precision: 0.8435 - false_negatives: 78.0000 - false_positives: 85.0000 - val_loss: 0.4123 - val_recall: 0.7687 - val_binary_accuracy: 0.7793 - val_precision: 0.8512 - val_false_negatives: 31.0000 - val_false_positives: 18.0000 - 3s/epoch - 53ms/step\n",
      "Epoch 11/45\n",
      "56/56 - 3s - loss: 0.4054 - recall: 0.8340 - binary_accuracy: 0.7960 - precision: 0.8278 - false_negatives: 89.0000 - false_positives: 93.0000 - val_loss: 0.4282 - val_recall: 0.7537 - val_binary_accuracy: 0.8198 - val_precision: 0.9352 - val_false_negatives: 33.0000 - val_false_positives: 7.0000 - 3s/epoch - 56ms/step\n",
      "Epoch 12/45\n",
      "56/56 - 3s - loss: 0.3866 - recall: 0.8396 - binary_accuracy: 0.8049 - precision: 0.8364 - false_negatives: 86.0000 - false_positives: 88.0000 - val_loss: 0.2979 - val_recall: 0.8881 - val_binary_accuracy: 0.8559 - val_precision: 0.8750 - val_false_negatives: 15.0000 - val_false_positives: 17.0000 - 3s/epoch - 51ms/step\n",
      "Epoch 13/45\n",
      "56/56 - 3s - loss: 0.3264 - recall: 0.8489 - binary_accuracy: 0.8475 - precision: 0.8922 - false_negatives: 81.0000 - false_positives: 55.0000 - val_loss: 0.3098 - val_recall: 0.8806 - val_binary_accuracy: 0.8423 - val_precision: 0.8613 - val_false_negatives: 16.0000 - val_false_positives: 19.0000 - 3s/epoch - 51ms/step\n",
      "Epoch 14/45\n",
      "56/56 - 4s - loss: 0.3299 - recall: 0.8787 - binary_accuracy: 0.8666 - precision: 0.8971 - false_negatives: 65.0000 - false_positives: 54.0000 - val_loss: 0.2813 - val_recall: 0.8134 - val_binary_accuracy: 0.8739 - val_precision: 0.9732 - val_false_negatives: 25.0000 - val_false_positives: 3.0000 - 4s/epoch - 71ms/step\n",
      "Epoch 15/45\n",
      "56/56 - 3s - loss: 0.3303 - recall: 0.8601 - binary_accuracy: 0.8565 - precision: 0.8969 - false_negatives: 75.0000 - false_positives: 53.0000 - val_loss: 0.2660 - val_recall: 0.8955 - val_binary_accuracy: 0.9009 - val_precision: 0.9375 - val_false_negatives: 14.0000 - val_false_positives: 8.0000 - 3s/epoch - 55ms/step\n",
      "Epoch 16/45\n",
      "56/56 - 3s - loss: 0.3193 - recall: 0.8750 - binary_accuracy: 0.8621 - precision: 0.8933 - false_negatives: 67.0000 - false_positives: 56.0000 - val_loss: 0.2976 - val_recall: 0.9627 - val_binary_accuracy: 0.8694 - val_precision: 0.8431 - val_false_negatives: 5.0000 - val_false_positives: 24.0000 - 3s/epoch - 54ms/step\n",
      "Epoch 17/45\n",
      "56/56 - 3s - loss: 0.2968 - recall: 0.8825 - binary_accuracy: 0.8610 - precision: 0.8858 - false_negatives: 63.0000 - false_positives: 61.0000 - val_loss: 0.3157 - val_recall: 0.8806 - val_binary_accuracy: 0.8559 - val_precision: 0.8806 - val_false_negatives: 16.0000 - val_false_positives: 16.0000 - 3s/epoch - 56ms/step\n",
      "Epoch 18/45\n",
      "56/56 - 3s - loss: 0.3475 - recall: 0.8507 - binary_accuracy: 0.8498 - precision: 0.8941 - false_negatives: 80.0000 - false_positives: 54.0000 - val_loss: 0.4165 - val_recall: 0.8358 - val_binary_accuracy: 0.7973 - val_precision: 0.8296 - val_false_negatives: 22.0000 - val_false_positives: 23.0000 - 3s/epoch - 53ms/step\n",
      "Epoch 19/45\n",
      "56/56 - 3s - loss: 0.3425 - recall: 0.8993 - binary_accuracy: 0.8599 - precision: 0.8716 - false_negatives: 54.0000 - false_positives: 71.0000 - val_loss: 0.2581 - val_recall: 0.8433 - val_binary_accuracy: 0.8874 - val_precision: 0.9658 - val_false_negatives: 21.0000 - val_false_positives: 4.0000 - 3s/epoch - 54ms/step\n",
      "Epoch 20/45\n",
      "56/56 - 3s - loss: 0.2832 - recall: 0.8843 - binary_accuracy: 0.8733 - precision: 0.9029 - false_negatives: 62.0000 - false_positives: 51.0000 - val_loss: 0.2262 - val_recall: 0.8881 - val_binary_accuracy: 0.9189 - val_precision: 0.9754 - val_false_negatives: 15.0000 - val_false_positives: 3.0000 - 3s/epoch - 56ms/step\n",
      "Epoch 21/45\n",
      "56/56 - 3s - loss: 0.2824 - recall: 0.8862 - binary_accuracy: 0.8733 - precision: 0.9013 - false_negatives: 61.0000 - false_positives: 52.0000 - val_loss: 0.3176 - val_recall: 0.8955 - val_binary_accuracy: 0.8604 - val_precision: 0.8759 - val_false_negatives: 14.0000 - val_false_positives: 17.0000 - 3s/epoch - 52ms/step\n",
      "Epoch 22/45\n",
      "56/56 - 3s - loss: 0.2582 - recall: 0.8881 - binary_accuracy: 0.8890 - precision: 0.9243 - false_negatives: 60.0000 - false_positives: 39.0000 - val_loss: 0.2375 - val_recall: 0.8657 - val_binary_accuracy: 0.9054 - val_precision: 0.9748 - val_false_negatives: 18.0000 - val_false_positives: 3.0000 - 3s/epoch - 52ms/step\n",
      "Epoch 23/45\n",
      "56/56 - 3s - loss: 0.2395 - recall: 0.9086 - binary_accuracy: 0.8991 - precision: 0.9223 - false_negatives: 49.0000 - false_positives: 41.0000 - val_loss: 0.1491 - val_recall: 0.9627 - val_binary_accuracy: 0.9505 - val_precision: 0.9556 - val_false_negatives: 5.0000 - val_false_positives: 6.0000 - 3s/epoch - 55ms/step\n",
      "Epoch 24/45\n",
      "56/56 - 3s - loss: 0.3396 - recall: 0.8563 - binary_accuracy: 0.8442 - precision: 0.8810 - false_negatives: 77.0000 - false_positives: 62.0000 - val_loss: 0.3031 - val_recall: 0.7985 - val_binary_accuracy: 0.8694 - val_precision: 0.9817 - val_false_negatives: 27.0000 - val_false_positives: 2.0000 - 3s/epoch - 53ms/step\n",
      "Epoch 25/45\n",
      "56/56 - 3s - loss: 0.2596 - recall: 0.9104 - binary_accuracy: 0.9070 - precision: 0.9331 - false_negatives: 48.0000 - false_positives: 35.0000 - val_loss: 0.2290 - val_recall: 0.9627 - val_binary_accuracy: 0.9189 - val_precision: 0.9085 - val_false_negatives: 5.0000 - val_false_positives: 13.0000 - 3s/epoch - 53ms/step\n",
      "Epoch 26/45\n",
      "56/56 - 3s - loss: 0.2843 - recall: 0.8825 - binary_accuracy: 0.8767 - precision: 0.9096 - false_negatives: 63.0000 - false_positives: 47.0000 - val_loss: 0.2585 - val_recall: 0.8731 - val_binary_accuracy: 0.8964 - val_precision: 0.9512 - val_false_negatives: 17.0000 - val_false_positives: 6.0000 - 3s/epoch - 53ms/step\n",
      "Epoch 27/45\n",
      "56/56 - 3s - loss: 0.2369 - recall: 0.9142 - binary_accuracy: 0.9047 - precision: 0.9263 - false_negatives: 46.0000 - false_positives: 39.0000 - val_loss: 0.2074 - val_recall: 0.9254 - val_binary_accuracy: 0.9099 - val_precision: 0.9254 - val_false_negatives: 10.0000 - val_false_positives: 10.0000 - 3s/epoch - 54ms/step\n",
      "Epoch 28/45\n",
      "56/56 - 3s - loss: 0.2288 - recall: 0.9104 - binary_accuracy: 0.9126 - precision: 0.9421 - false_negatives: 48.0000 - false_positives: 30.0000 - val_loss: 0.1521 - val_recall: 0.9254 - val_binary_accuracy: 0.9414 - val_precision: 0.9764 - val_false_negatives: 10.0000 - val_false_positives: 3.0000 - 3s/epoch - 54ms/step\n",
      "Epoch 29/45\n",
      "56/56 - 3s - loss: 0.2278 - recall: 0.9123 - binary_accuracy: 0.9025 - precision: 0.9244 - false_negatives: 47.0000 - false_positives: 40.0000 - val_loss: 0.2052 - val_recall: 0.9403 - val_binary_accuracy: 0.9234 - val_precision: 0.9333 - val_false_negatives: 8.0000 - val_false_positives: 9.0000 - 3s/epoch - 54ms/step\n",
      "Epoch 30/45\n",
      "56/56 - 3s - loss: 0.2287 - recall: 0.9179 - binary_accuracy: 0.8991 - precision: 0.9145 - false_negatives: 44.0000 - false_positives: 46.0000 - val_loss: 0.1862 - val_recall: 0.9104 - val_binary_accuracy: 0.9189 - val_precision: 0.9531 - val_false_negatives: 12.0000 - val_false_positives: 6.0000 - 3s/epoch - 56ms/step\n",
      "Epoch 31/45\n",
      "56/56 - 3s - loss: 0.2127 - recall: 0.9030 - binary_accuracy: 0.9070 - precision: 0.9398 - false_negatives: 52.0000 - false_positives: 31.0000 - val_loss: 0.1692 - val_recall: 0.9776 - val_binary_accuracy: 0.9279 - val_precision: 0.9097 - val_false_negatives: 3.0000 - val_false_positives: 13.0000 - 3s/epoch - 55ms/step\n",
      "Epoch 32/45\n",
      "56/56 - 3s - loss: 0.1833 - recall: 0.9366 - binary_accuracy: 0.9238 - precision: 0.9366 - false_negatives: 34.0000 - false_positives: 34.0000 - val_loss: 0.1591 - val_recall: 0.9254 - val_binary_accuracy: 0.9505 - val_precision: 0.9920 - val_false_negatives: 10.0000 - val_false_positives: 1.0000 - 3s/epoch - 54ms/step\n",
      "Epoch 33/45\n",
      "56/56 - 3s - loss: 0.1920 - recall: 0.9216 - binary_accuracy: 0.9193 - precision: 0.9427 - false_negatives: 42.0000 - false_positives: 30.0000 - val_loss: 0.2036 - val_recall: 0.8657 - val_binary_accuracy: 0.9189 - val_precision: 1.0000 - val_false_negatives: 18.0000 - val_false_positives: 0.0000e+00 - 3s/epoch - 52ms/step\n",
      "Epoch 34/45\n",
      "56/56 - 3s - loss: 0.2124 - recall: 0.9086 - binary_accuracy: 0.9103 - precision: 0.9402 - false_negatives: 49.0000 - false_positives: 31.0000 - val_loss: 0.2573 - val_recall: 0.8955 - val_binary_accuracy: 0.8919 - val_precision: 0.9231 - val_false_negatives: 14.0000 - val_false_positives: 10.0000 - 3s/epoch - 52ms/step\n",
      "Epoch 35/45\n",
      "56/56 - 3s - loss: 0.1924 - recall: 0.9179 - binary_accuracy: 0.9204 - precision: 0.9480 - false_negatives: 44.0000 - false_positives: 27.0000 - val_loss: 0.1751 - val_recall: 0.9254 - val_binary_accuracy: 0.9414 - val_precision: 0.9764 - val_false_negatives: 10.0000 - val_false_positives: 3.0000 - 3s/epoch - 55ms/step\n",
      "Epoch 36/45\n",
      "56/56 - 3s - loss: 0.1822 - recall: 0.9328 - binary_accuracy: 0.9226 - precision: 0.9381 - false_negatives: 36.0000 - false_positives: 33.0000 - val_loss: 0.2135 - val_recall: 0.8806 - val_binary_accuracy: 0.9099 - val_precision: 0.9672 - val_false_negatives: 16.0000 - val_false_positives: 4.0000 - 3s/epoch - 57ms/step\n",
      "Epoch 37/45\n",
      "56/56 - 3s - loss: 0.1689 - recall: 0.9384 - binary_accuracy: 0.9249 - precision: 0.9367 - false_negatives: 33.0000 - false_positives: 34.0000 - val_loss: 0.1893 - val_recall: 0.9478 - val_binary_accuracy: 0.9189 - val_precision: 0.9203 - val_false_negatives: 7.0000 - val_false_positives: 11.0000 - 3s/epoch - 54ms/step\n",
      "Epoch 38/45\n",
      "56/56 - 3s - loss: 0.1859 - recall: 0.9422 - binary_accuracy: 0.9283 - precision: 0.9387 - false_negatives: 31.0000 - false_positives: 33.0000 - val_loss: 0.1650 - val_recall: 0.8881 - val_binary_accuracy: 0.9279 - val_precision: 0.9917 - val_false_negatives: 15.0000 - val_false_positives: 1.0000 - 3s/epoch - 53ms/step\n",
      "Epoch 39/45\n",
      "56/56 - 3s - loss: 0.1758 - recall: 0.9328 - binary_accuracy: 0.9339 - precision: 0.9560 - false_negatives: 36.0000 - false_positives: 23.0000 - val_loss: 0.1381 - val_recall: 0.9851 - val_binary_accuracy: 0.9324 - val_precision: 0.9103 - val_false_negatives: 2.0000 - val_false_positives: 13.0000 - 3s/epoch - 55ms/step\n",
      "Epoch 40/45\n",
      "56/56 - 3s - loss: 0.2027 - recall: 0.9272 - binary_accuracy: 0.9204 - precision: 0.9395 - false_negatives: 39.0000 - false_positives: 32.0000 - val_loss: 0.1161 - val_recall: 0.9627 - val_binary_accuracy: 0.9640 - val_precision: 0.9773 - val_false_negatives: 5.0000 - val_false_positives: 3.0000 - 3s/epoch - 54ms/step\n",
      "Epoch 41/45\n",
      "56/56 - 3s - loss: 0.1748 - recall: 0.9459 - binary_accuracy: 0.9417 - precision: 0.9566 - false_negatives: 29.0000 - false_positives: 23.0000 - val_loss: 0.1639 - val_recall: 0.9328 - val_binary_accuracy: 0.9414 - val_precision: 0.9690 - val_false_negatives: 9.0000 - val_false_positives: 4.0000 - 3s/epoch - 54ms/step\n",
      "Epoch 42/45\n",
      "56/56 - 3s - loss: 0.1581 - recall: 0.9422 - binary_accuracy: 0.9383 - precision: 0.9546 - false_negatives: 31.0000 - false_positives: 24.0000 - val_loss: 0.1717 - val_recall: 0.9478 - val_binary_accuracy: 0.9324 - val_precision: 0.9407 - val_false_negatives: 7.0000 - val_false_positives: 8.0000 - 3s/epoch - 54ms/step\n",
      "Epoch 43/45\n",
      "56/56 - 3s - loss: 0.1695 - recall: 0.9254 - binary_accuracy: 0.9226 - precision: 0.9448 - false_negatives: 40.0000 - false_positives: 29.0000 - val_loss: 0.1523 - val_recall: 0.9328 - val_binary_accuracy: 0.9369 - val_precision: 0.9615 - val_false_negatives: 9.0000 - val_false_positives: 5.0000 - 3s/epoch - 52ms/step\n",
      "Epoch 44/45\n",
      "56/56 - 3s - loss: 0.1628 - recall: 0.9440 - binary_accuracy: 0.9383 - precision: 0.9529 - false_negatives: 30.0000 - false_positives: 25.0000 - val_loss: 0.1867 - val_recall: 0.9776 - val_binary_accuracy: 0.9144 - val_precision: 0.8912 - val_false_negatives: 3.0000 - val_false_positives: 16.0000 - 3s/epoch - 54ms/step\n",
      "Epoch 45/45\n",
      "56/56 - 3s - loss: 0.1437 - recall: 0.9515 - binary_accuracy: 0.9439 - precision: 0.9551 - false_negatives: 26.0000 - false_positives: 24.0000 - val_loss: 0.1116 - val_recall: 0.9552 - val_binary_accuracy: 0.9505 - val_precision: 0.9624 - val_false_negatives: 6.0000 - val_false_positives: 5.0000 - 3s/epoch - 54ms/step\n"
     ]
    },
    {
     "name": "stderr",
     "output_type": "stream",
     "text": [
      "2023/08/13 11:38:18 WARNING mlflow.tensorflow: Failed to infer model signature: could not sample data to infer model signature: '>=' not supported between instances of 'slice' and 'int'\n",
      "2023/08/13 11:38:18 WARNING mlflow.tensorflow: You are saving a TensorFlow Core model or Keras model without a signature. Inference with mlflow.pyfunc.spark_udf() will not work unless the model's pyfunc representation accepts pandas DataFrames as inference inputs.\n"
     ]
    },
    {
     "name": "stdout",
     "output_type": "stream",
     "text": [
      "INFO:tensorflow:Assets written to: /tmp/tmpe07xocqk/model/data/model/assets\n"
     ]
    },
    {
     "name": "stderr",
     "output_type": "stream",
     "text": [
      "INFO:tensorflow:Assets written to: /tmp/tmpe07xocqk/model/data/model/assets\n"
     ]
    },
    {
     "data": {
      "text/plain": [
       "<keras.src.callbacks.History at 0x7f3da7bbad30>"
      ]
     },
     "execution_count": 6,
     "metadata": {},
     "output_type": "execute_result"
    }
   ],
   "source": [
    "trainer.training_loop()"
   ]
  },
  {
   "cell_type": "code",
   "execution_count": 7,
   "metadata": {},
   "outputs": [],
   "source": [
    "trainer.load_model_trained()"
   ]
  },
  {
   "cell_type": "markdown",
   "metadata": {},
   "source": [
    "## Results evaluation"
   ]
  },
  {
   "cell_type": "code",
   "execution_count": 8,
   "metadata": {},
   "outputs": [
    {
     "name": "stdout",
     "output_type": "stream",
     "text": [
      "Found 892 images belonging to 2 classes.\n",
      "Training set:\n",
      " {'0_utilizavel': 0, '1_defeituoso': 1}\n",
      "Found 222 images belonging to 2 classes.\n",
      "\n",
      "Validation set:\n",
      " {'0_utilizavel': 0, '1_defeituoso': 1}\n"
     ]
    }
   ],
   "source": [
    "# turn off data augmentation to reproducible results.\n",
    "[train_set, val_set] = trainer.train_val_split(augment=False)"
   ]
  },
  {
   "cell_type": "code",
   "execution_count": 9,
   "metadata": {},
   "outputs": [
    {
     "name": "stdout",
     "output_type": "stream",
     "text": [
      "56/56 [==============================] - 2s 28ms/step\n",
      "fp_Train_Metrics\n",
      " {'fp_Train_recall': 0.9757462686567164, 'fp_Train_acc': 0.9742152466367713, 'fp_Train_precision': 0.9812382739212008}\n",
      "Confusion matrix Train \n",
      " [[346  10]\n",
      " [ 13 523]]\n",
      "56/56 [==============================] - 2s 28ms/step\n",
      "Errors list Train \n",
      " ['../dataset/resize_128/train/0_utilizavel/utiliza (20).jpeg', '../dataset/resize_128/train/0_utilizavel/utiliza (224).jpeg', '../dataset/resize_128/train/0_utilizavel/utiliza (3).jpeg', '../dataset/resize_128/train/0_utilizavel/utiliza (301).jpeg', '../dataset/resize_128/train/0_utilizavel/utiliza (325).jpeg', '../dataset/resize_128/train/0_utilizavel/utiliza (343).jpeg', '../dataset/resize_128/train/0_utilizavel/utiliza (357).jpeg', '../dataset/resize_128/train/0_utilizavel/utiliza (370).jpeg', '../dataset/resize_128/train/0_utilizavel/utiliza (47).jpeg', '../dataset/resize_128/train/0_utilizavel/utiliza (76).jpeg', '../dataset/resize_128/train/1_defeituoso/defeito (303).jpeg', '../dataset/resize_128/train/1_defeituoso/defeito (328).jpeg', '../dataset/resize_128/train/1_defeituoso/defeito (336).jpeg', '../dataset/resize_128/train/1_defeituoso/defeito (469).jpeg', '../dataset/resize_128/train/1_defeituoso/defeito (487).jpeg', '../dataset/resize_128/train/1_defeituoso/defeito (516).jpeg', '../dataset/resize_128/train/1_defeituoso/defeito (56).jpeg', '../dataset/resize_128/train/1_defeituoso/defeito (602).jpeg', '../dataset/resize_128/train/1_defeituoso/defeito (613).jpeg', '../dataset/resize_128/train/1_defeituoso/defeito (637).jpeg', '../dataset/resize_128/train/1_defeituoso/defeito (66).jpeg', '../dataset/resize_128/train/1_defeituoso/defeito (8).jpeg', '../dataset/resize_128/train/1_defeituoso/defeito (9).jpeg']\n",
      "14/14 [==============================] - 1s 35ms/step\n",
      "fp_Validation_Metrics\n",
      " {'fp_Validation_recall': 0.9776119402985075, 'fp_Validation_acc': 0.972972972972973, 'fp_Validation_precision': 0.9776119402985075}\n",
      "Confusion matrix Validation \n",
      " [[ 85   3]\n",
      " [  3 131]]\n",
      "14/14 [==============================] - 0s 28ms/step\n",
      "Errors list Validation \n",
      " ['../dataset/resize_128/train/0_utilizavel/utiliza (124).jpeg', '../dataset/resize_128/train/0_utilizavel/utiliza (128).jpeg', '../dataset/resize_128/train/0_utilizavel/utiliza (149).jpeg', '../dataset/resize_128/train/1_defeituoso/defeito (100).jpeg', '../dataset/resize_128/train/1_defeituoso/defeito (131).jpeg', '../dataset/resize_128/train/1_defeituoso/defeito (194).jpeg']\n"
     ]
    },
    {
     "data": {
      "image/png": "[encoded data removed]",
      "text/plain": [
       "<Figure size 640x480 with 1 Axes>"
      ]
     },
     "metadata": {},
     "output_type": "display_data"
    },
    {
     "data": {
      "image/png": "[encoded data removed]",
      "text/plain": [
       "<Figure size 640x480 with 1 Axes>"
      ]
     },
     "metadata": {},
     "output_type": "display_data"
    }
   ],
   "source": [
    "# get confusion matrix and wrong inferences.\n",
    "trainer.init_metrics_handler()\n",
    "for name, set in zip([\"Train\", \"Validation\"], [train_set, val_set]):\n",
    "    trainer.get_confusion_matrix(set, name, \"fp\")\n",
    "    trainer.get_errors(set, name, \"fp\", draw_errors=DRAW)"
   ]
  },
  {
   "cell_type": "markdown",
   "metadata": {},
   "source": [
    "# QT MODEL"
   ]
  },
  {
   "cell_type": "markdown",
   "metadata": {},
   "source": [
    "## Build"
   ]
  },
  {
   "cell_type": "code",
   "execution_count": 10,
   "metadata": {},
   "outputs": [
    {
     "name": "stdout",
     "output_type": "stream",
     "text": [
      "INFO:tensorflow:Assets written to: /tmp/tmpoduwuhaq/assets\n"
     ]
    },
    {
     "name": "stderr",
     "output_type": "stream",
     "text": [
      "INFO:tensorflow:Assets written to: /tmp/tmpoduwuhaq/assets\n",
      "/home/vuser/Documents/backup_07302023/3_tcc_code/ML_IoT_pipeline/ML_IoT_pipeline/env_ML_pipeline/lib/python3.9/site-packages/tensorflow/lite/python/convert.py:887: UserWarning: Statistics for quantized inputs were expected, but not specified; continuing anyway.\n",
      "  warnings.warn(\n",
      "2023-08-13 11:38:33.623809: W tensorflow/compiler/mlir/lite/python/tf_tfl_flatbuffer_helpers.cc:364] Ignored output_format.\n",
      "2023-08-13 11:38:33.623855: W tensorflow/compiler/mlir/lite/python/tf_tfl_flatbuffer_helpers.cc:367] Ignored drop_control_dependency.\n",
      "2023-08-13 11:38:33.624282: I tensorflow/cc/saved_model/reader.cc:45] Reading SavedModel from: /tmp/tmpoduwuhaq\n",
      "2023-08-13 11:38:33.626885: I tensorflow/cc/saved_model/reader.cc:91] Reading meta graph with tags { serve }\n",
      "2023-08-13 11:38:33.626921: I tensorflow/cc/saved_model/reader.cc:132] Reading SavedModel debug info (if present) from: /tmp/tmpoduwuhaq\n",
      "2023-08-13 11:38:33.632573: I tensorflow/compiler/mlir/mlir_graph_optimization_pass.cc:375] MLIR V1 optimization pass is not enabled\n",
      "2023-08-13 11:38:33.636164: I tensorflow/cc/saved_model/loader.cc:231] Restoring SavedModel bundle.\n",
      "2023-08-13 11:38:33.726956: I tensorflow/cc/saved_model/loader.cc:215] Running initialization op on SavedModel bundle at path: /tmp/tmpoduwuhaq\n",
      "2023-08-13 11:38:33.756057: I tensorflow/cc/saved_model/loader.cc:314] SavedModel load for tags { serve }; Status: success: OK. Took 131783 microseconds.\n",
      "2023-08-13 11:38:33.780860: I tensorflow/compiler/mlir/tensorflow/utils/dump_mlir_util.cc:255] disabling MLIR crash reproducer, set env var `MLIR_CRASH_REPRODUCER_DIRECTORY` to enable.\n"
     ]
    },
    {
     "name": "stdout",
     "output_type": "stream",
     "text": [
      "QT model detais:\n",
      "input details = {'name': 'serving_default_conv2d_input:0', 'index': 0, 'shape': array([  1, 128, 128,   1], dtype=int32), 'shape_signature': array([ -1, 128, 128,   1], dtype=int32), 'dtype': <class 'numpy.int8'>, 'quantization': (1.0, -128), 'quantization_parameters': {'scales': array([1.], dtype=float32), 'zero_points': array([-128], dtype=int32), 'quantized_dimension': 0}, 'sparsity_parameters': {}}\n",
      "output details = {'name': 'StatefulPartitionedCall:0', 'index': 25, 'shape': array([1, 1], dtype=int32), 'shape_signature': array([-1,  1], dtype=int32), 'dtype': <class 'numpy.int8'>, 'quantization': (0.00390625, -128), 'quantization_parameters': {'scales': array([0.00390625], dtype=float32), 'zero_points': array([-128], dtype=int32), 'quantized_dimension': 0}, 'sparsity_parameters': {}}\n"
     ]
    },
    {
     "name": "stderr",
     "output_type": "stream",
     "text": [
      "fully_quantize: 0, inference_type: 6, input_inference_type: INT8, output_inference_type: INT8\n"
     ]
    },
    {
     "data": {
      "text/plain": [
       "b' \\x00\\x00\\x00TFL3\\x00\\x00\\x00\\x00\\x14\\x00 \\x00\\x1c\\x00\\x18\\x00\\x14\\x00\\x10\\x00\\x0c\\x00\\x00\\x00\\x08\\x00\\x04\\x00\\x14\\x00\\x00\\x00\\x1c\\x00\\x00\\x00\\x88\\x00\\x00\\x00\\xe0\\x00\\x00\\x00\\x90\\x0f\\x00\\x00\\xa0\\x0f\\x00\\x00\\x84%\\x00\\x00\\x03\\x00\\x00\\x00\\x01\\x00\\x00\\x00\\x04\\x00\\x00\\x00\\xae\\xef\\xff\\xff\\x0c\\x00\\x00\\x00\\x1c\\x00\\x00\\x008\\x00\\x00\\x00\\x0f\\x00\\x00\\x00serving_default\\x00\\x01\\x00\\x00\\x00\\x04\\x00\\x00\\x00\\x94\\xff\\xff\\xff\\x19\\x00\\x00\\x00\\x04\\x00\\x00\\x00\\x05\\x00\\x00\\x00dense\\x00\\x00\\x00\\x01\\x00\\x00\\x00\\x04\\x00\\x00\\x00\\xf6\\xf0\\xff\\xff\\x04\\x00\\x00\\x00\\x0c\\x00\\x00\\x00conv2d_input\\x00\\x00\\x00\\x00\\x02\\x00\\x00\\x004\\x00\\x00\\x00\\x04\\x00\\x00\\x00\\xdc\\xff\\xff\\xff\\x1c\\x00\\x00\\x00\\x04\\x00\\x00\\x00\\x13\\x00\\x00\\x00CONVERSION_METADATA\\x00\\x08\\x00\\x0c\\x00\\x08\\x00\\x04\\x00\\x08\\x00\\x00\\x00\\x1b\\x00\\x00\\x00\\x04\\x00\\x00\\x00\\x13\\x00\\x00\\x00min_runtime_version\\x00\\x1d\\x00\\x00\\x00\\xac\\x0e\\x00\\x00\\xa4\\x0e\\x00\\x00\\x8c\\x0e\\x00\\x00p\\x0e\\x00\\x00`\\n\\x00\\x00\\x10\\n\\x00\\x00\\x80\\x05\\x00\\x00P\\x05\\x00\\x00\\x00\\x03\\x00\\x00\\xd0\\x02\\x00\\x00\\xa0\\x01\\x00\\x00\\x80\\x01\\x00\\x00(\\x01\\x00\\x00\\x10\\x01\\x00\\x00\\xec\\x00\\x00\\x00\\xe4\\x00\\x00\\x00\\xdc\\x00\\x00\\x00\\xd4\\x00\\x00\\x00\\xcc\\x00\\x00\\x00\\xc4\\x00\\x00\\x00\\xbc\\x00\\x00\\x00\\xb4\\x00\\x00\\x00\\xac\\x00\\x00\\x00\\xa4\\x00\\x00\\x00\\x9c\\x00\\x00\\x00\\x94\\x00\\x00\\x00\\x8c\\x00\\x00\\x00l\\x00\\x00\\x00\\x04\\x00\\x00\\x00\\xe6\\xf1\\xff\\xff\\x04\\x00\\x00\\x00X\\x00\\x00\\x00\\x0c\\x00\\x00\\x00\\x08\\x00\\x0e\\x00\\x08\\x00\\x04\\x00\\x08\\x00\\x00\\x00\\x10\\x00\\x00\\x00(\\x00\\x00\\x00\\x00\\x00\\x06\\x00\\x08\\x00\\x04\\x00\\x06\\x00\\x00\\x00\\x04\\x00\\x00\\x00\\x01\\x00\\x00\\x00\\xeb\\x03\\x00\\x00\\x00\\x00\\n\\x00\\x10\\x00\\x0c\\x00\\x08\\x00\\x04\\x00\\n\\x00\\x00\\x00\\x02\\x00\\x00\\x00\\x02\\x00\\x00\\x00\\x04\\x00\\x00\\x00\\x06\\x00\\x00\\x002.13.0\\x00\\x00J\\xf2\\xff\\xff\\x04\\x00\\x00\\x00\\x10\\x00\\x00\\x001.14.0\\x00\\x00\\x00\\x00\\x00\\x00\\x00\\x00\\x00\\x00,\\xdd\\xff\\xff0\\xdd\\xff\\xff4\\xdd\\xff\\xff8\\xdd\\xff\\xff<\\xdd\\xff\\xff@\\xdd\\xff\\xffD\\xdd\\xff\\xffH\\xdd\\xff\\xffL\\xdd\\xff\\xffP\\xdd\\xff\\xffT\\xdd\\xff\\xffX\\xdd\\xff\\xff\\x96\\xf2\\xff\\xff\\x04\\x00\\x00\\x00\\x12\\x00\\x00\\x00\\x01r\\xde\\xf8\\x12^\\xf8\\x81\\xf5\\xc5\\x92\\xa6~\\xf3\\x15\\xfc/\\x7f\\x00\\x00\\xb6\\xf2\\xff\\xff\\x04\\x00\\x00\\x00\\x08\\x00\\x00\\x00\\xd6\\xff\\xff\\xff\\x0b\\x00\\x00\\x00\\xca\\xf2\\xff\\xff\\x04\\x00\\x00\\x00H\\x00\\x00\\x00\\x08[\\xf5\\xbb\\xae\\xbe\\x0e\\xa8\\x7fr\\xd1\\x06\\xb6&Q\\x94\\xcb0\\xc8\\xdf\\x01\\x81@\\x13\\xee4\\x9d\\xc2\\xfa\\xe0\\xa8!\\xb1\\xf5\\t2\\xcf\\xc6u\\x81\\xb5\\xc9\\xc7\\xe9\"\\x9eoX9\\x16\\x00\\xc5m[G\\x02\\xa3]U\\x81;a1\\x9d\\x96\\x890\\xcf\\xde\\xf7r\\xdb\\x1e\\xf3\\xff\\xff\\x04\\x00\\x00\\x00\\x10\\x00\\x00\\x00\\xc8\\xff\\xff\\xff\\x1d\\x00\\x00\\x00\\xf7\\xff\\xff\\xff\\xef\\xff\\xff\\xff:\\xf3\\xff\\xff\\x04\\x00\\x00\\x00 \\x01\\x00\\x00\\x16\\xe6\\xf6Y\\x11\\xfe\\xc8\\x0f*\\xea\"\\xf8\\x17$\\xb1,\\x9f\\x1f\\x87\\x12\\xe1\\xf7\\xd93A\\xd3\\xbf\\xfd\\x1d\\x04\\x81\\t\\x9d\\xce\\xd1J$\\n23\\\\\\xd4\\xf06\\x10\\xc2\\xf4\\x16\\xf3\\xf7\\xf6\\x16\\x1b\\x1c\\xfa\\xe7!\\xe0\\n\\xb7\\xff\\xe4\\xccD\\xc7/\\xe7\\x81\\xcb\\x12\\xdd\\xb1:\\xe4\\xee\\xf8\\xe2\\xc65)\\xf8\\x0b\\x19\\x17\\x1e+\\xa8\\xc1\\xcb\\xe6a\\xf5\\x0c\\xfbi\\xf4\\x13\\xca\"\\x81\\x9c\\x04\\x11\\xfe\\x08\\xf4G\\x02:\\xa7X\\x16\\t\\xef\\xee\\xf3@\\x8e_\\x07\\n\\xc4\\x1f\\xc37\\x81\\xfd\\x0eA\\x91\\x14\\xf2J\\xa2\\xfc\\xc7<\\xe0\\xaf\\xecC\\xdd\\x14$\\xe43\\x18:\\xdb\\x11P\\xe0\\xea\\x0b\\xf0:)\\xe9\\xd3\\xe9\\x0c\\'KI\\x814\\x199\\xa0\\xf2\\xb7\\xdd<\\x9aG\\x121\\xb5EB\\xf1F\\xe90>\\xd2:\\xdb$DE\\x0b\\x14\\xee\\xb8\\x14\\x0e\\xb6KH\\x08\\x81\\xcd\\xd9;\\rB/\\x11\\x95KL^\\xa8E\\x02?\\x04\\xf6\\xd1\\xc4L;5\\x13\\x7f\\x1e\\xf9\\x7f,\\x02\\xd8\\xbb\\xdarF\\xa2\\x1b\\x04Ye\\x8a*h\\xd7\\x8e_\\xda\\xd6\\xb9e\\xd5\\xcb\\xbb@Q+\\xe3\\x02aE\\xe7\\xd5\\x12!\\xcc\\xb1\\xe1.\\xf8\\x81+\\x1e*\\xca\\xe3\\\\\\x10,\\x064\\xc7\\xc5J\\xef\\xc1\\xb6cf\\xf4\\xff\\xff\\x04\\x00\\x00\\x00 \\x00\\x00\\x00\\xd7\\x00\\x00\\x00\\xe8\\xff\\xff\\xff\\x14\\x00\\x00\\x00\\x00\\x00\\x00\\x00\\x80\\xff\\xff\\xff\\xf2\\xff\\xff\\xff\\xde\\xff\\xff\\xff\\xeb\\xff\\xff\\xff\\x92\\xf4\\xff\\xff\\x04\\x00\\x00\\x00@\\x02\\x00\\x00\\xb4B\\xdd\\xdc\\xd3\\xd1\\xf27\\xfe\\xd6\\xc8\\xbd\\x12\\xb6\\xd0A\\xb4\\xc9\\x0c\\xf0\\n\\xc7!\\xc3\\xcc-\\xfb<\\xbd\\xfb3,\\xfd\\x13\\xdd\\xd7/\\x11%\\xdc\\xa2\\xa0\\xdd\\x18\\x04;\\xe2/\\xd7R1\\xe3\\xe9\\xf65\\xe1\\x81\\x0e\"p:D\\xd6\\xaa\\x0b\\x07\\xc6\\xdb[[$-\\x17\\xdf\\x1a\\xf8\\xde\\xd6\\x07\\xfdZ\\xf8\\xee\\x0c\\xc6\\xc8\\xcf\\xdd\\xb1\\xe1K\\xe8\\x08\\x10+\\xec!\\xe3@\\xba$\\xc9\\n\\xdf\\x03=\\xc6\\x12\\xea\\xee\\xb1\\xe7+\\xa4T\\nfNG\\xf0Q\"\\xf8\\xe8%\\x0e\\xf9\\x14\\xeb\\x04\\xec\\x81\\xba\\xd2\\xc5\\x9d(\\xcc=\\x0c\\xeb\\xdc\\xfd\\x07^\\xf3\\xd8\\xf5#5\\xf1H;&\\xec\\x1b@\\xf1\\x00^$l\\xd3@\\x01^\\x1e>R\\xcb\\xd9\\xbb\\x0e\\x0b\\xeeKB\\x12\\xca\\xc1\\x1a\\xc2\\x11\\xe0p\\x7f\\xedH\\xc2\\xdd\\xe3M\\xf0\\x0f\\xd1\\xd5\\xf6\\x0e\\xea\\xcd\\xe9V\\xff\\xe1\\x15\\xdf\\xe7\\xc9\\xc7\\xe4\\xcf\\xa7\\xaa\\x02\\xc2\\x02\\xc5\\xe7\\xe9\\x02\\x13A\\xf3\\x0e\\xc1\\xa1\\xda\\xb4\\x14 5\\x12\\xdd\\xd5\\xe4\\xd5\\x15\\xbd\\xe5\\xf9\\x94\\x00\\x0fl\\xf7\\xfe\\x1e\\x10\\xbb\\x81\\x07-.\\xff\\x15\\xf7\\x98\\x04\\x10F\\x0c\\xf7\\n\\x15\\xc4\\x04:(\\xed\\x05\\xc9\\xd7\\xedT\\xf8)\\xce3\\xcfL\\xf0J8y\\xdf\\xf3\\x0b\\x17\\xe8\\xb5\\xcf\\x0f\\xdc\\xf1\\xc8\\xbb\\xe8\\xea\\xca\\xd5\\xca\\xfd\\xea\\xa1\\xe3\\xcbB\\xcd!\\x1d;\\xca\\xae\\xd7\\xee\\x15\\xe4\\xe2O\\xe9\\x01;2\\xeb\\xfa\\x13\\r\\xb3\\xcf\\xef\\xe0\\xf8\\xfd\\x14\\xeb\\xdf\\x9d\\x0e\\n\\x0f4Jx\\x13\\xd5\\xd43,M\\xf9\\x13\\xfa\\xd7\\x81\\x10*\\x12\\x1a\\xf0\\x08\\xff\\xcd\\x183E\\xe3,)\\x0e!\\xec\\x8f$\\xe6\\xfc\\x16\\x81\\xd9\\x01\\xaf+\\xda\\xf5\\xe8qJ\\xfa\\x0e\\xe3\\xe5\\x12/\\xf3GR\\x1an\\xfd!\\xe9\\xc0\\xd4\\rW\\xcd\\xf0>\\xcb3\\x18\\xa1\\xc4\\x9e\\xa7\\xb4:\\x1f\\xdf\\xd3\\x1e\\xcb\\x12\\xe9\\xd9\\xbb\\xde\\x1e0F\\xf1\\xd4\\x0c\\x13\\xf7?8\\xc75\\xdf\\xee\\xf4\\r\\x0f\\x0e\\x1c\\xf2\\r\\xcc\\x9f\\x01\\x7f i:3\\xce\\xed\\xec\\tH\\xf1\\xc8\\xb2\\xb0\\x85\\x1a9\\xfa+\\xcd\\xe7\\xd6!\\xb3\\x08\\xf1\\xe9.!\\xf1\\xb1\\x87&\\x0e\\x02\\xd4\\xe8\\xb0\\xda0\\xfc\\xcd\\x16\\xbb\\xff\\x01\\x08\\xde(\\x1c\\x08\\xc1\\xd4\\xcc\\xf2+\\'\\xdf-\\n)\\x06\\xec\\x16\\xcb\\xf8\\x9c\\xc8\\xd4\\xf7\\xf5\\x81\\xda\\xb3,\\xf3\\x1e\\xe0\\'\\x07\\xe4D>9(\\x1b\\xbb\\xb0\\xf3b\\xe3\\xbb\\xee\\xdc\\x03\\xd1\\xd8\\xfa&\\xca\\xdc\\xfc\\x02Q\\x1b2\\xcfB\\xec\\x1a\\x13G\\xbeI\\xc8\\xf6\\xcaC\\x05\\xec(\\xd3D\\xc4\\xe7\\x10\\xde\\xf6\\xff\\xff\\x04\\x00\\x00\\x00 \\x00\\x00\\x00C\\xff\\xff\\xffS\\x01\\x00\\x00\\x06\\x00\\x00\\x00t\\xff\\xff\\xff\\x8c\\xff\\xff\\xffi\\xff\\xff\\xff\\xd6\\x00\\x00\\x00\\xff\\xff\\xff\\xff\\n\\xf7\\xff\\xff\\x04\\x00\\x00\\x00\\x80\\x04\\x00\\x00\\xe8+;&#\\x81f\\x0e\\x0e\\xf3\\x11\\xfd\\xfc:.(\\x1b\\x18/\\xbd\\xb7\\x0e\\xdb-\\xb4\\xea\\xe0\\xeb\\x01/`\\xc3\\x10\\xe7\\xd4\\'\\xfe\\xe9:\\xe2*\\x84=\\xd7\\x1a\\xb6\\xb0\\x06)\\xbc\\xcd\\x1d\\xed\\xf7:\\xf0\\x918\\x05\\xf5\\xe4\\xe9[\\xce\\xa6\\'\\xe2\\xfe\\x99\\xd1\\x0c\\xfc\\xb2,\\x04(\\xfc\\xda+\\xc3\\xc1\\x13\\x81 \\xf3\\xfeIE\\xca\\x04\\xb6*\\xe3\\x102\\xedW\\xed\\xa2\\xe2&\\xa7\\x15\\xf4G\\x9f\\xcf\\xd05\\xa1\\xe4-ON:)\\xf7\\xe7\\x12\\x12M\\x0e\\xe2\\xe5\\xc6~\\x0e\\xe1\\xb0\\xd9\\xe5L\\xfbS\\xc0j\\xednJ\\xb7\\xb5\\x02\\xeb\\xbf\"\\xf4\\x06B\\x03\\xc9\\x0c#\\xc9D\\x17\\xaf8\\xb0K,\\xf7\\x07\\xe9\\t2\\x7fS\\xf9\\xd8\\xd0\\xd2\\xf7(\\xf6\\x04\\x12\\x10?\\xb7\\xe4\\xde+\\x11\\x02\\x0b\\xfa\\xf1\\xd7\\t\\xf7^\\x15)3\\xbb$\\x0f\\xe0\\x05)\\x0e\\xac\\x18\\xdc\\xf2\\x16$O\\x0c\\xb9\\xcd\\xce\\xce\\xcd\\x12\\xd2\\xe3\\x16\\x10\\xf2)\\r\\xb8\\xed\\xaa\\x02\\xe2\\xfa\\x13\\x01\\rE\\xdf;4%\\xb7\\x18\\x16\\xf5\\xf4\\xc3\\x0c\\xf8\\xe8\\x03\\xc7 \\x1f\\xfb\\r#\\x05\\xe6\\x1d\\x1d\\xe4o\\xff\\xc2\\t\\xfd\\x7f\\x19\\xf3\\xd5D\\xd8\\xc9O \\xc8\\x08$\\x11\\xfb\\xfe\\x1c\\xd1\\xff\\xefO\\xc5\\xfeC\\xe89\\xfa\\xbdR^\\xf2\\xa8\\xe4\\x0b\\xd5\\xe7\\x0c\\xf4\\x03\\xba\\xdc%9\\x0b\\xff\\x11\\xd8\\x18\\xc7?; &\\xdf\\xd2\\xfd;\\xfd;\\xfc1\\xd3(\\xd4\\xc9\\xf6\\xefa7\\xeb\\xf3\\xda\\xe6\\xf0\\xa4#\\'1#\\xc0\\xc4\\x1e\\x048\\x7f\\xcf\\xf9&>@\\x01\\xda\\x1e\\xcf7\\xe5\\xeeO\\x14\\n& \\x1b\\n\\xee-\\xdb\\x02\\xf9\\xd5>\\xff\\xfb\\x18\\x13\\x0e\\xb6\\xc7r\\x0e \\t\"\\x1d\\x0e\\x03\\xe1\\xfa\\xeb\\x19\\xc9\\x13\\xf0\\xc4\\x12\\xf3,\\xfb\\xf4\\xfa\\xf0\\xf6\\x17\\x11\\xe4\\x0f\\xc9\\xdd\\x10\\xd3\\xd6\\x11\\x1f\\x12\\xdb\\xc9*\\xe3\\xfb\\xf0\\x004,\\xc8\\xa8c\\xe2\\x81%\\xbd\\x16&\\xe4[\\x06\\x12@\\xb4\\xe7\\xef\\xfb(\\x19\\x1b#\\xf8\\xb0\\x1b:\\xf1\\xfb?\\x03.I\\xffWU\\x03\\xbf\\xf0\\x19\\xc6\\xd4\\xe7\\xea\\xf7\\xd6\\xce]) \\xf7\\xc5\\'\\'\\x9a\\x07\\x1b\\xe4P\\x97\\xc0\\xda\\x8e\\xd3B.\\xdc\\xbd,\\x03\\xec!\\x1d\\xe3\\xf0\\xcf\"%\\xec\\x1b\\x81\\x08\\xc7\\xb9,\\x1c\\xb0\\xea9\\xdd\\xf3\\x0e\\xc4\\xe2\\x16\\xee\\xaa\\xf3T\\xfcK\\x18J\\x0c\\xd8,\\xd5\\xc2FF\\xde5J\\x05\\xd7:\\xd1\"\\xea\\xcf\\xe7*\\xf3\\x0f\\x134\\xf9X\\xbe\\xb1\\xa3\\x7f\\xde\\xc9\\'$\\xf1\\xa6\\xbeP\\xcf\\xa0\\xfa0\\x12\\xcf\\xf3#\\t\\xbbA[\\t19\\xc4V\\x08\\xf9\\xe6=2\\x05\\xbf8\\xf3$\\x9f/H\\xef\\x81\\x1d,\\xc8\\xf2\\xed\\xf1\\x18\\xfd\\xfc\\xe4\\xd8\\x04\\xe1\\xf3\\xf0\\x0c\\xea(\\x1e\\xf1\\xcb-\\n\\xe30\\x1f\\xc6;\\x16\\x14\\x11\"\\x15\\'\\x107\\xc5\\x0f/\\xc0,\\xdf\\xfb\\xfa\\xcf\\xd3\\x05\\xe7\\x11\\x0c\\xfd)\\xca\\xd0\\xf4\\xb8\\xd2\\xc5\\x14\\xd19.E\\xe9\\xeeZ\\x99\\xfb\\xd5\\x1e\\xe0\\xcf\\xe07lGk\\x98h\"\\x05\\xba\\rC\\x15*I\\xe3\\x01$\\x13k\\xfeJ\\x1c\\xbc`8 \\xfcR-\\x0f\\xc7\\xc3\\xea0\\xf6\\x81\\xbd\\xcf\\xca,)\\x10\\x1f\\x0c\\xfb+\\x06:\\xd3\\xb5\\x15\\xc6\\x02I.\\xc88\\xbc\\xcc\\xe7\\xca\\xda\\x04\\x1e\\xba\\xbf\\x9c\\'\\xf8[\\x08\\xbc\\x14`\\x7f\\xb29\\xf8\\xf2f\\xc2-\\xfd\\xf8\\xfe\\x8e\\x14\\x01)\\n\\xd3L\\xfd\\x14\\xcd\\xb6\\x17\\x89M56 \\xf5\\x91\\xc7\\xef\\'\\xbb\\xf6\\xbc\\xef\\x1a\\xdcN\\xc6!9c\\xdc\\xf5,\\xc7\\xe8h\\xea\\xda\\x7f\\x12\\xe8\\x01\\xf4D\\n\\x1dR!\\x16\\x01*\\xe9\\xe1\\xb82\\xff\\x12\\xbb\\x00?\\xda\\x86\"\\xc1\\xd2\\xe2\\xb29\\xe7\\x0b:\\xae\\x05\\xe6\\xf7\\xef\\xd3\\xb9\\xbe\\t\\xde9\\x14\\xf0\\xef\\xa8\\xf0\\n=\\xfc\\xe33$,\\x19+\\x03\\xf4!>\\x14\\x15\\x1b\\x15\\xe4\\x10\\x15\\xd1\\xf4H\\xceAC\\x907\\\\\\x08\\xdc\\xb0\\xfb\\xcd-:\\xf9\\xf9\\xcc \\xb9\\xd0\\xc7\\xe0<+L\\x90\\xfb$\\xdeB\\xb69\\xa4\\xd5/\\xfe#\\xdc,\\x11\\x81\\xa2S,\\x0f\\xc9\\x15\\xed\\xd3\\xe6\\xed\\x100=\\xfaX\\x14\\xe3\\x07\\xc2\\nP\\xe5\\x1a\\xd5o\\x0f\\xc9\\xb4\\x10\\xaf\\n\\xd1\\x816\\xbbLJJ\\x05\\xb3\\xf94\\xcc\\xe0\\xe8\\xf0X,\\x0b)\\xd28EU:\\xd6\\x05\\xddE@\\xce\\xf6\\xec\\'\\x06\\xf4\\x04*\\x12\\n\\xf7\\'\\x02\\x99\\xba\\xddMX\\xd5\\xdf;=\\xc4\\xe0\\xb8\\x06\\xeb\\xdc/\\xed\\xfa\\xbb\\xe5\\xe2K\\xd4\\x97S5\\r\\xe9\\xc5\\xb4\\xb1\\xfb\\x158\\xf3\\xa8)\\xf5\\x18\\xe6\\x1a\\x19<y\\xa5?\\xff\\\\\\xc6;\\x7fE\\xce\\x07\\xb1\\x12\\'\\x08\\x1f\\xf0N)2\\xea\\xe0\\xcd\\x90\\xb1\\x97\\xf1\\xd8\\xf3\\x1d\\x15\\x03\\xfbVA\\xfa+)\\xe0\\x15E2\\xdf\\x08\\x0eF\\xad\\xbd\\xba\\x06\\xf0\\x1e\\xcd\\xe4\\xd9\\xc3\\x08=\\xd9\\xb8\\tC1\\xe7\\xd5?\\xcd(\\xf6\\xe2\"\\xb1\\xe6\\xd6\\xe6\\x15)\\xe1\\x14.j\\x02\\xe0\\x9e\\x7f\\xd0\\xd18\\x07\\xfe\\x10\\xb4\\xf3\\xf5\\xb0\\xf8\\xc9\\x00-<-\\xd5\\x05\\xe2^\\x04, \\xee\\x11\\xf9:\\xe3?\\xc8\\xf1\\xf0%\\x0f\\xf8\\xea\\xe7[\\xcdJ\\x06\\xea.\\xf2\\x10\\x96\\xfb\\xff\\xff\\x04\\x00\\x00\\x00@\\x00\\x00\\x00\\xff\\xff\\xff\\xffU\\x01\\x00\\x00\\xf9\\xff\\xff\\xff\\xd4\\xff\\xff\\xff\\xa7\\xff\\xff\\xff\\x12\\x01\\x00\\x00\\x0e\\xff\\xff\\xff\\x8d\\x00\\x00\\x00\\x93\\x00\\x00\\x00P\\xff\\xff\\xfft\\x00\\x00\\x006\\x00\\x00\\x00\\xe5\\x00\\x00\\x00\\x12\\x01\\x00\\x00@\\x00\\x00\\x00\\xf8\\x01\\x00\\x00\\xe2\\xfb\\xff\\xff\\x04\\x00\\x00\\x00\\x00\\x04\\x00\\x00\\xf3\\xe1\\xe9\\x07\\x1b\\x02\\xfa\\xec\\x18\\xeb\\x12\\xed\\x0f-\\t\\xff\\xfa,\\x04$\\xe8\\x1d\\x03\\xf1\\x0f\\x15\\x04\\x1b\\xff\\xf1\\x12\\t\\x17\\x10:\\xe0\\x07.\\xe1$\\x18\\r\\xef\\x04\\x0c\\xf3\\x06\\x00\\x14\\x10\\xd9\\xea\\x04_\\x01\\x16\\x0b\\x10\\xf9\\xfb\\x12\\xf4\\xfb\\xdc\\x07\\x00\\xdb\\xfc\\xf5G\\xd04\\x03\\x0c\\xf5\\xea\\x18\\x00\\x05\\x0e\\x1c\\xf6\\x1f\\xfc\\xef\\x1a\\xde=\\xe4\\xe8\\x02\\x19\\x02D\\x07\\x19\\x00\\xed\\x11 \\x08\\x18\\xfam\\xfa\\xf5&B\\xe6\\x11\\x10\\x0e\\xfb\\xf3\\x02\\xe4\\x18\\xed\\x13\\x1d\\x03\\xfc\\x0c\\x16\\xda\\x1c\\x1c\\x03\\x1b\\xe7\\xf0\\x08\\xf3\\x19\\xf0\\xd6\\xf3\\xfc\\xed\\xf5,\\xec!\\xefFB+\\x0b\\x14@\\xd6 \\x06\\xfcK\\xdf\\xed\\x07\\x13\\x08\\r,\\x01\\xf1\\xdb\\x02\\xef6\\xfb\\xf5\\xe5\\xfe\\n\\x1b\\t\\xe4\\x08\\x1c\\x15\\x18\\xf7:\\xfd\\x1c\\xef\\t\\x06\\xf6\\xfe\\xea\\xef\\xec\\xfc\\xe3\\xed\\x1a\\x02\\xfe\\x0f!\\x15\\xdf\\xf8\\x08\\xff\\x14\\xf2\\xec\\r\\x1a\\t/\\x06\\x0c\\x08R\\xf4\\x05\\x0b\\x00\\x08\\xdf\\x120\\xe2\\x0f\\x19\\'\\r\\xe7\\x06\\xf1\\xeb\\x1c\"\\x16\\xfd\\x14\\x07\\x0b\\xf5/\\x0f\\x11-\\xf8\\x0c1\\xf0\\xf0\\xef\\xe8\\x08\\x1f\\x0c\\x08)\\xe4\\xda\\xfc\\x9c\\x01\\xf5\\xe5\\x05\\xea\\xe6\\xf3\\xd51\\x0e\\xef\\x13{\\xe6\\x8e\\xf2\\x16\\x0e\\x0c\\xf7\\xfb\\xf4\\x0b\\xf8\\xe4\\xf0\\xf50\\xf14\\xe0\\xcb9\\xe3\\xed\\xfc\\xeb\\xd21\\xe2+ W\\xec\\x13\\xe0Q\\xf2A\\xdf\\x04\\xf5\\xf3/\\xe2\\x12!\\xfa\\xfd\\xfa\\xf3\\xd7\\x1a\\x1c\\xfe\\xed0\\xf5\\xfa\\xc20\\xdd\\x01\\xf7\\xff*\\x1c\\r\\xdf\\x03\\x0e\\x0e?\\xfc\\xff\\xea\\x08\\t\\x12\\xed\\xed\\x1e\\xee\\x1d\\xfb\\x0f\\x0b\\xf8\\xf2\\x06\\x02\\xeb\\x15\\xf9\\xf9\\n/\\n\\xd1\\xfa#\\x0c\\x12\\xea\\x10\\x1a\\t.]\\n!\\x01,\\xdc\\xdb\\x8b\\xe6\\xff\\xee\\xfbU\\xd1\\x05\\x08%\\x04\\xf6\\xf7\\xf0\\xd1,\\xc3\\x1c\\xed\\x04\\xf4\\xc5\\xda\\xb9\\xf0\\t\\xde\\xef\\xda\\x05\\x1b\\x18\\xc1\\xf7%\\xc8\\xdb\\xf2\\xe4\\xd8*\\x1d\\xd3\\x04\\x15\\n\\xbb\\xc8\\xe5\\t \\xcb\\x1c\\xd5\\xfd\\x13?\\x0c\\xd3)\\x01$\\xeb\\xee\\xf0\\xf5\\xfb\\xde\\x19\\xb0\\xfb\\xfc\\xf1&\\xeb\\x03\\x0c#\\x13\\xd2\\xf8\\x04\\x02\\x04$.\\x00\\xf9\\xdc\\x16\\x06\\xf5\\xed0\\xfa\\xee\\xf7\\x0c\\xee\\xf9\\x07T\\xfa\\x05\\x13\\xbf\\xed\\xee\"!\\xffN\\xf0)\\xe5\\x14\\xd6\\r\\xfe\\xff\\xb8+\\x03\\xf2\\x08\\x19$\\xf3\\xf4\\xec\\xf2\\t\\xff\\x06\\xf6\\xf8\\x0c\\x1c!A\\xe6 \\xd0\\xfc\\xf4\\n\\xea\\xd7\"\\xe7\\xe9\\xf7T\\xf5\\x1f\\x1f\\xf8\\x11\\xb1\\xe4M\\xf8\\xe5\\xc1\\xea\\xb5\\xe9\\x00\\x1b\\x1b\\xf73,\\x12\\xee\\xd5\\xc5\\xfb\\x1a\\xda\\x1e\\xdb\\xf5\\x0e\\x10\\x01\\xfe\\xf2\\xf6\\xd1\\xd6\\xf7\"\\x01\\xfb\\xf5\\r\\xcd\\xdbL,D\\xe2\\xfe\\xe8\\xf0\\x01\\x06\\xe9\\xed7\\xf3\\xec\\x04\\x0b\\xf4\\x99\\x118\\xbf\\xfb\\xd4\\xf2\\xf2\\x0b\\xce\\t\\x12\\xc6\\x1a\\t=\\xe2\\xd5\\x0e?%/\\x195\\xf77\\xe2\\x05\\xdd\\xe8\\xfd\\x03m\\x04\\x07\\xfd\\xf5%\\x01\\xea\\xf3\\xe4\\xf0\\t\\x02\\x12\\xf3\\x14%\\xf6+%\\xe1\"-\\x1c\\xc4\\xef/\\r\\xf1\\x1b\\x02\\xe2/\\x1bG\\xed\\xfa\\x94\\xf26\\x04\\r\\x1b\\xec\\t\\x18\\x15\\xef\\x18\\xd2\\xfaH\\x163\\xfa\\x06\\xfc\\x19\\xf5\\r\\x0f\\xde\\x19%\\xf5\\xe0\\xfb\\xef\\xe61\\x14+\\xe3\\xfe\\x04\\x01\\xfe\\xfe)%\\x10\\x14%\\xde\"\\xecdV\"\\xe4H\\x15\\xdc&\\x12\\x18\\x04\\xc8! 1\\x06\\xe4\\x1a\\xef\\xea\\xf0\\x0b\\xed\\x11\\xfe4\\xfc\\x07\\tJ\"\\xd8\\xd1\\xca\\xc9\\r\\xab\\x13\\xed\\x0b\\x13\\x12d\\xd2\\xdb6\\xfa\\xda\\xf9\\n\\xec\\x03\\xf6D\\x04\\x04#\\x19\\x04\\xfc\\xda\\x0f\\xee\\x01\\xfe\\xe5\\xde\\xfd\\xba\\r\\x07\\xd0\\x12\\xf6\\xe3\\x11\\xfe\\xe6\\xf8\\xf1\\xac\\xab\\xec\\xe4%\\xe7IU$-\\xbd\\x0e\\xf7\\xe9\\xeb\\x08\\xfe\\xc2\\x02\\xf6(\\x14\\x1f%\\x1748\\xec\\x01\\xb1\\x1e\\xe8\\x1b\\xc9\\x1fP\\xcb!\\x04B\\x15\\x0f6\\xd9-\\xfd\\x0b\\xf5\\xcd\\x13\\xee\\x02\\xe1\\x01\\xf2n\\x1c& \\xda\\xf4\\xe9%\\x06.\\xcc\\x13\\xe7\\xc3\\x18\\rA3F\\xee\\xe7\\xe9\\x19\\xf1\\xf4\\xfa\\xe3\\xf4\\x07#\\xdf\\xf3\\x1d\\x16\\xe4\\x13\\x06\\x04\\xed\\x00\\xfb\\x08\\xe7\\x02\\x00\\x0c\\xf6\\x03,\\xe9\\x0f\\xf0\\xdc\\x02\"\\t=\\xf9\\x12\\x07\\x05\\xf6\\n\\xec\\xf6\\r\\xf0&\\x1b\\xe0\\xf1\\xe2\\xfc\\xee\\x12\\xfd\\x07\\x16\\x1c\\x1f\\xf9&\\x1e\\xfa\\x03\\x0f\\x00\\xfb\\xc5\\xe1\\x053\\xf7\\x03@ )\\x0e\\x10\\xf5\\x07\\xfc\\x05\\xf6\\xe5\\x1e\\xe9[4\\xea+\\x1b\\x1d \\xf0\\x7f\\x1a\\t\\x1a\\t\"\\x05\\x0cC\\x01\\x11)\\x18\\x14!\\xe7\\xf8\\xe3#\\x0e!\\x0f-\\xf2\\x1e\\xeb\\x16\\x0b\\xcb\\x0f\\x1a\\xe7\\xeb\\xef\\x08\\x05\\xfc\\xfd\\xf2\\xe6#\\xe3\\xf6\\xe7\\xee\\xe5\\r\\x03\\xe4\\xf0\\xf0\\xf4\\xef?\\xee\\xff\\xff\\xff\\x04\\x00\\x00\\x00\\x04\\x00\\x00\\x00\\xe9\\x01\\x00\\x00\\x00\\x00\\x06\\x00\\x08\\x00\\x04\\x00\\x06\\x00\\x00\\x00\\x04\\x00\\x00\\x00\\x08\\x00\\x00\\x00\\xff\\xff\\xff\\xff\\x00\\x04\\x00\\x00\\xe0\\xea\\xff\\xff\\xe4\\xea\\xff\\xff\\x0f\\x00\\x00\\x00MLIR Converted.\\x00\\x01\\x00\\x00\\x00\\x14\\x00\\x00\\x00\\x00\\x00\\x0e\\x00\\x18\\x00\\x14\\x00\\x10\\x00\\x0c\\x00\\x08\\x00\\x04\\x00\\x0e\\x00\\x00\\x00\\x14\\x00\\x00\\x00\\x1c\\x00\\x00\\x008\\x03\\x00\\x00<\\x03\\x00\\x00@\\x03\\x00\\x00\\x04\\x00\\x00\\x00main\\x00\\x00\\x00\\x00\\x0c\\x00\\x00\\x00\\xd4\\x02\\x00\\x00p\\x02\\x00\\x00 \\x02\\x00\\x00\\xdc\\x01\\x00\\x00\\x9c\\x01\\x00\\x00X\\x01\\x00\\x00\\x18\\x01\\x00\\x00\\xd4\\x00\\x00\\x00\\x94\\x00\\x00\\x00l\\x00\\x00\\x00(\\x00\\x00\\x00\\x04\\x00\\x00\\x00\\xaa\\xff\\xff\\xff\\x0c\\x00\\x00\\x00\\x10\\x00\\x00\\x00\\x04\\x00\\x00\\x00\\x01\\x00\\x00\\x00\\x19\\x00\\x00\\x00\\x01\\x00\\x00\\x00\\x18\\x00\\x00\\x00\\xea\\xfd\\xff\\xff\\x14\\x00\\x00\\x00\\x00\\x00\\x00\\x08\\x10\\x00\\x00\\x00\\x14\\x00\\x00\\x00\\x03\\x00\\x00\\x00\\xa4\\xeb\\xff\\xff\\x01\\x00\\x00\\x00\\x18\\x00\\x00\\x00\\x03\\x00\\x00\\x00\\x17\\x00\\x00\\x00\\x03\\x00\\x00\\x00\\x02\\x00\\x00\\x00\\x00\\x00\\n\\x00\\x10\\x00\\x0c\\x00\\x08\\x00\\x04\\x00\\n\\x00\\x00\\x00\\x0c\\x00\\x00\\x00\\x10\\x00\\x00\\x00\\x02\\x00\\x00\\x00\\x01\\x00\\x00\\x00\\x17\\x00\\x00\\x00\\x02\\x00\\x00\\x00\\x16\\x00\\x00\\x00\\x01\\x00\\x00\\x00\\xee\\xfd\\xff\\xff\\x10\\x00\\x00\\x00\\x00\\x00\\x00\\x01\\x18\\x00\\x00\\x00\\x1c\\x00\\x00\\x00\\xe0\\xfd\\xff\\xff\\x00\\x00\\x00\\x01\\x01\\x00\\x00\\x00\\x01\\x00\\x00\\x00\\x01\\x00\\x00\\x00\\x16\\x00\\x00\\x00\\x03\\x00\\x00\\x00\\x15\\x00\\x00\\x00\\x05\\x00\\x00\\x00\\x04\\x00\\x00\\x00\\x8a\\xfe\\xff\\xff\\x14\\x00\\x00\\x00\\x00\\x00\\x00\\x05$\\x00\\x00\\x00(\\x00\\x00\\x00\\x01\\x00\\x00\\x00z\\xfe\\xff\\xff\\x02\\x00\\x00\\x00\\x02\\x00\\x00\\x00\\x02\\x00\\x00\\x00\\x02\\x00\\x00\\x00\\x00\\x00\\x00\\x01\\x01\\x00\\x00\\x00\\x15\\x00\\x00\\x00\\x01\\x00\\x00\\x00\\x14\\x00\\x00\\x00j\\xfe\\xff\\xff\\x10\\x00\\x00\\x00\\x00\\x00\\x00\\x01\\x18\\x00\\x00\\x00\\x1c\\x00\\x00\\x00\\\\\\xfe\\xff\\xff\\x00\\x00\\x00\\x01\\x01\\x00\\x00\\x00\\x01\\x00\\x00\\x00\\x01\\x00\\x00\\x00\\x14\\x00\\x00\\x00\\x03\\x00\\x00\\x00\\x13\\x00\\x00\\x00\\x07\\x00\\x00\\x00\\x06\\x00\\x00\\x00\\x06\\xff\\xff\\xff\\x14\\x00\\x00\\x00\\x00\\x00\\x00\\x05$\\x00\\x00\\x00(\\x00\\x00\\x00\\x01\\x00\\x00\\x00\\xf6\\xfe\\xff\\xff\\x02\\x00\\x00\\x00\\x02\\x00\\x00\\x00\\x02\\x00\\x00\\x00\\x02\\x00\\x00\\x00\\x00\\x00\\x00\\x01\\x01\\x00\\x00\\x00\\x13\\x00\\x00\\x00\\x01\\x00\\x00\\x00\\x12\\x00\\x00\\x00\\xe6\\xfe\\xff\\xff\\x10\\x00\\x00\\x00\\x00\\x00\\x00\\x01\\x18\\x00\\x00\\x00\\x1c\\x00\\x00\\x00\\xd8\\xfe\\xff\\xff\\x00\\x00\\x00\\x01\\x01\\x00\\x00\\x00\\x01\\x00\\x00\\x00\\x01\\x00\\x00\\x00\\x12\\x00\\x00\\x00\\x03\\x00\\x00\\x00\\x11\\x00\\x00\\x00\\t\\x00\\x00\\x00\\x08\\x00\\x00\\x00\\x82\\xff\\xff\\xff\\x14\\x00\\x00\\x00\\x00\\x00\\x00\\x05$\\x00\\x00\\x00(\\x00\\x00\\x00\\x01\\x00\\x00\\x00r\\xff\\xff\\xff\\x02\\x00\\x00\\x00\\x02\\x00\\x00\\x00\\x02\\x00\\x00\\x00\\x02\\x00\\x00\\x00\\x00\\x00\\x00\\x01\\x01\\x00\\x00\\x00\\x11\\x00\\x00\\x00\\x01\\x00\\x00\\x00\\x10\\x00\\x00\\x00b\\xff\\xff\\xff\\x10\\x00\\x00\\x00\\x00\\x00\\x00\\x01\\x18\\x00\\x00\\x00\\x1c\\x00\\x00\\x00T\\xff\\xff\\xff\\x00\\x00\\x00\\x01\\x01\\x00\\x00\\x00\\x01\\x00\\x00\\x00\\x01\\x00\\x00\\x00\\x10\\x00\\x00\\x00\\x03\\x00\\x00\\x00\\x0f\\x00\\x00\\x00\\x0b\\x00\\x00\\x00\\n\\x00\\x00\\x00\\x00\\x00\\x0e\\x00\\x1a\\x00\\x14\\x00\\x10\\x00\\x0c\\x00\\x0b\\x00\\x04\\x00\\x0e\\x00\\x00\\x00$\\x00\\x00\\x00\\x00\\x00\\x00\\x054\\x00\\x00\\x008\\x00\\x00\\x00\\x01\\x00\\x00\\x00\\x00\\x00\\x0e\\x00\\x18\\x00\\x17\\x00\\x10\\x00\\x0c\\x00\\x08\\x00\\x04\\x00\\x0e\\x00\\x00\\x00\\x02\\x00\\x00\\x00\\x02\\x00\\x00\\x00\\x02\\x00\\x00\\x00\\x02\\x00\\x00\\x00\\x00\\x00\\x00\\x01\\x01\\x00\\x00\\x00\\x0f\\x00\\x00\\x00\\x01\\x00\\x00\\x00\\x0e\\x00\\x00\\x00\\x00\\x00\\x0e\\x00\\x14\\x00\\x00\\x00\\x10\\x00\\x0c\\x00\\x0b\\x00\\x04\\x00\\x0e\\x00\\x00\\x00\\x1c\\x00\\x00\\x00\\x00\\x00\\x00\\x01$\\x00\\x00\\x00(\\x00\\x00\\x00\\x0c\\x00\\x10\\x00\\x00\\x00\\x0c\\x00\\x08\\x00\\x07\\x00\\x0c\\x00\\x00\\x00\\x00\\x00\\x00\\x01\\x01\\x00\\x00\\x00\\x01\\x00\\x00\\x00\\x01\\x00\\x00\\x00\\x0e\\x00\\x00\\x00\\x03\\x00\\x00\\x00\\x00\\x00\\x00\\x00\\r\\x00\\x00\\x00\\x0c\\x00\\x00\\x00\\x01\\x00\\x00\\x00\\x19\\x00\\x00\\x00\\x01\\x00\\x00\\x00\\x00\\x00\\x00\\x00\\x1a\\x00\\x00\\x00\\xdc\\x11\\x00\\x00t\\x11\\x00\\x00\\xe8\\x10\\x00\\x00|\\x10\\x00\\x00P\\x0f\\x00\\x00$\\x0e\\x00\\x00X\\r\\x00\\x00\\x8c\\x0c\\x00\\x00\\xc0\\x0b\\x00\\x00\\xf4\\n\\x00\\x00X\\n\\x00\\x00\\xbc\\t\\x00\\x008\\t\\x00\\x00\\xb4\\x08\\x00\\x00\\xd0\\x07\\x00\\x004\\x07\\x00\\x00H\\x06\\x00\\x00\\xac\\x05\\x00\\x00\\xa0\\x04\\x00\\x00\\x04\\x04\\x00\\x00\\x18\\x03\\x00\\x00|\\x02\\x00\\x00\\x90\\x01\\x00\\x00\\x14\\x01\\x00\\x00\\x80\\x00\\x00\\x00\\x04\\x00\\x00\\x00\\xa2\\xee\\xff\\xff\\x00\\x00\\x00\\x01\\x18\\x00\\x00\\x00 \\x00\\x00\\x00<\\x00\\x00\\x00\\x1a\\x00\\x00\\x00\\x00\\x00\\x00\\tP\\x00\\x00\\x00\\x02\\x00\\x00\\x00\\xff\\xff\\xff\\xff\\x01\\x00\\x00\\x00\\x84\\xee\\xff\\xff\\x08\\x00\\x00\\x00\\x10\\x00\\x00\\x00\\x01\\x00\\x00\\x00\\x80\\xff\\xff\\xff\\xff\\xff\\xff\\xff\\x01\\x00\\x00\\x00\\x00\\x00\\x80;\\x19\\x00\\x00\\x00StatefulPartitionedCall:0\\x00\\x00\\x00\\x02\\x00\\x00\\x00\\x01\\x00\\x00\\x00\\x01\\x00\\x00\\x00\\x1a\\xef\\xff\\xff\\x00\\x00\\x00\\x01\\x18\\x00\\x00\\x00 \\x00\\x00\\x00<\\x00\\x00\\x00\\x19\\x00\\x00\\x00\\x00\\x00\\x00\\th\\x00\\x00\\x00\\x02\\x00\\x00\\x00\\xff\\xff\\xff\\xff\\x01\\x00\\x00\\x00\\xfc\\xee\\xff\\xff\\x08\\x00\\x00\\x00\\x10\\x00\\x00\\x00\\x01\\x00\\x00\\x00\\xc7\\xff\\xff\\xff\\xff\\xff\\xff\\xff\\x01\\x00\\x00\\x00\\x162\\xfe=0\\x00\\x00\\x00sequential/dense/MatMul;sequential/dense/BiasAdd\\x00\\x00\\x00\\x00\\x02\\x00\\x00\\x00\\x01\\x00\\x00\\x00\\x01\\x00\\x00\\x00\\xaa\\xef\\xff\\xff\\x00\\x00\\x00\\x01\\x18\\x00\\x00\\x00 \\x00\\x00\\x00<\\x00\\x00\\x00\\x18\\x00\\x00\\x00\\x00\\x00\\x00\\tP\\x00\\x00\\x00\\x02\\x00\\x00\\x00\\xff\\xff\\xff\\xff\\x00\\x04\\x00\\x00\\x8c\\xef\\xff\\xff\\x08\\x00\\x00\\x00\\x10\\x00\\x00\\x00\\x01\\x00\\x00\\x00\\x80\\xff\\xff\\xff\\xff\\xff\\xff\\xff\\x01\\x00\\x00\\x00X~%=\\x1a\\x00\\x00\\x00sequential/flatten/Reshape\\x00\\x00\\x02\\x00\\x00\\x00\\x01\\x00\\x00\\x00\\x00\\x04\\x00\\x00\"\\xf0\\xff\\xff\\x00\\x00\\x00\\x01\\x18\\x00\\x00\\x00(\\x00\\x00\\x00D\\x00\\x00\\x00\\x17\\x00\\x00\\x00\\x00\\x00\\x00\\t\\xb8\\x00\\x00\\x00\\x04\\x00\\x00\\x00\\xff\\xff\\xff\\xff\\x08\\x00\\x00\\x00\\x08\\x00\\x00\\x00\\x10\\x00\\x00\\x00\\x0c\\xf0\\xff\\xff\\x08\\x00\\x00\\x00\\x10\\x00\\x00\\x00\\x01\\x00\\x00\\x00\\x80\\xff\\xff\\xff\\xff\\xff\\xff\\xff\\x01\\x00\\x00\\x00X~%=z\\x00\\x00\\x00sequential/conv2d_4/Relu;sequential/conv2d_4/BiasAdd;sequential/conv2d_4/Conv2D;sequential/conv2d_4/BiasAdd/ReadVariableOp\\x00\\x00\\x04\\x00\\x00\\x00\\x01\\x00\\x00\\x00\\x08\\x00\\x00\\x00\\x08\\x00\\x00\\x00\\x10\\x00\\x00\\x00\\n\\xf1\\xff\\xff\\x00\\x00\\x00\\x01\\x18\\x00\\x00\\x00(\\x00\\x00\\x00H\\x00\\x00\\x00\\x16\\x00\\x00\\x00\\x00\\x00\\x00\\th\\x00\\x00\\x00\\x04\\x00\\x00\\x00\\xff\\xff\\xff\\xff\\x08\\x00\\x00\\x00\\x08\\x00\\x00\\x00\\x08\\x00\\x00\\x00\\xf4\\xf0\\xff\\xff\\x08\\x00\\x00\\x00\\x14\\x00\\x00\\x00\\x01\\x00\\x00\\x00\\x80\\xff\\xff\\xff\\xff\\xff\\xff\\xff\\x00\\x00\\x00\\x00\\x01\\x00\\x00\\x00\\xd4K\\xb9=&\\x00\\x00\\x00sequential/average_pooling2d_3/AvgPool\\x00\\x00\\x04\\x00\\x00\\x00\\x01\\x00\\x00\\x00\\x08\\x00\\x00\\x00\\x08\\x00\\x00\\x00\\x08\\x00\\x00\\x00\\xa2\\xf1\\xff\\xff\\x00\\x00\\x00\\x01\\x18\\x00\\x00\\x00(\\x00\\x00\\x00D\\x00\\x00\\x00\\x15\\x00\\x00\\x00\\x00\\x00\\x00\\t\\xb8\\x00\\x00\\x00\\x04\\x00\\x00\\x00\\xff\\xff\\xff\\xff\\x10\\x00\\x00\\x00\\x10\\x00\\x00\\x00\\x08\\x00\\x00\\x00\\x8c\\xf1\\xff\\xff\\x08\\x00\\x00\\x00\\x10\\x00\\x00\\x00\\x01\\x00\\x00\\x00\\x80\\xff\\xff\\xff\\xff\\xff\\xff\\xff\\x01\\x00\\x00\\x00\\xd4K\\xb9=z\\x00\\x00\\x00sequential/conv2d_3/Relu;sequential/conv2d_3/BiasAdd;sequential/conv2d_3/Conv2D;sequential/conv2d_3/BiasAdd/ReadVariableOp\\x00\\x00\\x04\\x00\\x00\\x00\\x01\\x00\\x00\\x00\\x10\\x00\\x00\\x00\\x10\\x00\\x00\\x00\\x08\\x00\\x00\\x00\\x8a\\xf2\\xff\\xff\\x00\\x00\\x00\\x01\\x18\\x00\\x00\\x00(\\x00\\x00\\x00H\\x00\\x00\\x00\\x14\\x00\\x00\\x00\\x00\\x00\\x00\\th\\x00\\x00\\x00\\x04\\x00\\x00\\x00\\xff\\xff\\xff\\xff\\x10\\x00\\x00\\x00\\x10\\x00\\x00\\x00\\x08\\x00\\x00\\x00t\\xf2\\xff\\xff\\x08\\x00\\x00\\x00\\x14\\x00\\x00\\x00\\x01\\x00\\x00\\x00\\x80\\xff\\xff\\xff\\xff\\xff\\xff\\xff\\x00\\x00\\x00\\x00\\x01\\x00\\x00\\x00?\\x96\\xe3=&\\x00\\x00\\x00sequential/average_pooling2d_2/AvgPool\\x00\\x00\\x04\\x00\\x00\\x00\\x01\\x00\\x00\\x00\\x10\\x00\\x00\\x00\\x10\\x00\\x00\\x00\\x08\\x00\\x00\\x00\"\\xf3\\xff\\xff\\x00\\x00\\x00\\x01\\x18\\x00\\x00\\x00(\\x00\\x00\\x00H\\x00\\x00\\x00\\x13\\x00\\x00\\x00\\x00\\x00\\x00\\t\\xd8\\x00\\x00\\x00\\x04\\x00\\x00\\x00\\xff\\xff\\xff\\xff \\x00\\x00\\x00 \\x00\\x00\\x00\\x08\\x00\\x00\\x00\\x0c\\xf3\\xff\\xff\\x08\\x00\\x00\\x00\\x14\\x00\\x00\\x00\\x01\\x00\\x00\\x00\\x80\\xff\\xff\\xff\\xff\\xff\\xff\\xff\\x00\\x00\\x00\\x00\\x01\\x00\\x00\\x00?\\x96\\xe3=\\x95\\x00\\x00\\x00sequential/conv2d_2/Relu;sequential/conv2d_2/BiasAdd;sequential/conv2d_3/Conv2D;sequential/conv2d_2/Conv2D;sequential/conv2d_2/BiasAdd/ReadVariableOp\\x00\\x00\\x00\\x04\\x00\\x00\\x00\\x01\\x00\\x00\\x00 \\x00\\x00\\x00 \\x00\\x00\\x00\\x08\\x00\\x00\\x00*\\xf4\\xff\\xff\\x00\\x00\\x00\\x01\\x18\\x00\\x00\\x00(\\x00\\x00\\x00H\\x00\\x00\\x00\\x12\\x00\\x00\\x00\\x00\\x00\\x00\\th\\x00\\x00\\x00\\x04\\x00\\x00\\x00\\xff\\xff\\xff\\xff \\x00\\x00\\x00 \\x00\\x00\\x00\\x04\\x00\\x00\\x00\\x14\\xf4\\xff\\xff\\x08\\x00\\x00\\x00\\x14\\x00\\x00\\x00\\x01\\x00\\x00\\x00\\x80\\xff\\xff\\xff\\xff\\xff\\xff\\xff\\x00\\x00\\x00\\x00\\x01\\x00\\x00\\x00O\\xcd\\xa4>&\\x00\\x00\\x00sequential/average_pooling2d_1/AvgPool\\x00\\x00\\x04\\x00\\x00\\x00\\x01\\x00\\x00\\x00 \\x00\\x00\\x00 \\x00\\x00\\x00\\x04\\x00\\x00\\x00\\xc2\\xf4\\xff\\xff\\x00\\x00\\x00\\x01\\x18\\x00\\x00\\x00(\\x00\\x00\\x00D\\x00\\x00\\x00\\x11\\x00\\x00\\x00\\x00\\x00\\x00\\t\\xb8\\x00\\x00\\x00\\x04\\x00\\x00\\x00\\xff\\xff\\xff\\xff@\\x00\\x00\\x00@\\x00\\x00\\x00\\x04\\x00\\x00\\x00\\xac\\xf4\\xff\\xff\\x08\\x00\\x00\\x00\\x10\\x00\\x00\\x00\\x01\\x00\\x00\\x00\\x80\\xff\\xff\\xff\\xff\\xff\\xff\\xff\\x01\\x00\\x00\\x00O\\xcd\\xa4>z\\x00\\x00\\x00sequential/conv2d_1/Relu;sequential/conv2d_1/BiasAdd;sequential/conv2d_1/Conv2D;sequential/conv2d_1/BiasAdd/ReadVariableOp\\x00\\x00\\x04\\x00\\x00\\x00\\x01\\x00\\x00\\x00@\\x00\\x00\\x00@\\x00\\x00\\x00\\x04\\x00\\x00\\x00\\xaa\\xf5\\xff\\xff\\x00\\x00\\x00\\x01\\x18\\x00\\x00\\x00(\\x00\\x00\\x00H\\x00\\x00\\x00\\x10\\x00\\x00\\x00\\x00\\x00\\x00\\th\\x00\\x00\\x00\\x04\\x00\\x00\\x00\\xff\\xff\\xff\\xff@\\x00\\x00\\x00@\\x00\\x00\\x00\\x02\\x00\\x00\\x00\\x94\\xf5\\xff\\xff\\x08\\x00\\x00\\x00\\x14\\x00\\x00\\x00\\x01\\x00\\x00\\x00\\x80\\xff\\xff\\xff\\xff\\xff\\xff\\xff\\x00\\x00\\x00\\x00\\x01\\x00\\x00\\x00\\xdd<\\x8b?$\\x00\\x00\\x00sequential/average_pooling2d/AvgPool\\x00\\x00\\x00\\x00\\x04\\x00\\x00\\x00\\x01\\x00\\x00\\x00@\\x00\\x00\\x00@\\x00\\x00\\x00\\x02\\x00\\x00\\x00B\\xf6\\xff\\xff\\x00\\x00\\x00\\x01\\x18\\x00\\x00\\x00(\\x00\\x00\\x00D\\x00\\x00\\x00\\x0f\\x00\\x00\\x00\\x00\\x00\\x00\\t\\xb0\\x00\\x00\\x00\\x04\\x00\\x00\\x00\\xff\\xff\\xff\\xff\\x80\\x00\\x00\\x00\\x80\\x00\\x00\\x00\\x02\\x00\\x00\\x00,\\xf6\\xff\\xff\\x08\\x00\\x00\\x00\\x10\\x00\\x00\\x00\\x01\\x00\\x00\\x00\\x80\\xff\\xff\\xff\\xff\\xff\\xff\\xff\\x01\\x00\\x00\\x00\\xdd<\\x8b?r\\x00\\x00\\x00sequential/conv2d/Relu;sequential/conv2d/BiasAdd;sequential/conv2d/Conv2D;sequential/conv2d/BiasAdd/ReadVariableOp\\x00\\x00\\x04\\x00\\x00\\x00\\x01\\x00\\x00\\x00\\x80\\x00\\x00\\x00\\x80\\x00\\x00\\x00\\x02\\x00\\x00\\x00\\x86\\xf7\\xff\\xff\\x00\\x00\\x00\\x01\\x14\\x00\\x00\\x00@\\x00\\x00\\x00\\x0e\\x00\\x00\\x00\\x00\\x00\\x00\\tT\\x00\\x00\\x00\\xf4\\xf6\\xff\\xff\\x08\\x00\\x00\\x00\\x1c\\x00\\x00\\x00\\x02\\x00\\x00\\x00\\x00\\x00\\x00\\x00\\x00\\x00\\x00\\x00\\x00\\x00\\x00\\x00\\x00\\x00\\x00\\x00\\x00\\x00\\x00\\x00\\x02\\x00\\x00\\x00\\xd5\\xed7;\\x91\\x87j;\\x18\\x00\\x00\\x00sequential/conv2d/Conv2D\\x00\\x00\\x00\\x00\\x04\\x00\\x00\\x00\\x02\\x00\\x00\\x00\\x03\\x00\\x00\\x00\\x03\\x00\\x00\\x00\\x01\\x00\\x00\\x00\\x06\\xf8\\xff\\xff\\x00\\x00\\x00\\x01\\x14\\x00\\x00\\x00<\\x00\\x00\\x00\\r\\x00\\x00\\x00\\x00\\x00\\x00\\x02`\\x00\\x00\\x00t\\xf7\\xff\\xff\\x08\\x00\\x00\\x00\\x18\\x00\\x00\\x00\\x02\\x00\\x00\\x00\\x00\\x00\\x00\\x00\\x00\\x00\\x00\\x00\\x00\\x00\\x00\\x00\\x00\\x00\\x00\\x00\\x02\\x00\\x00\\x00\\xd5\\xed7;\\x91\\x87j;(\\x00\\x00\\x00sequential/conv2d/BiasAdd/ReadVariableOp\\x00\\x00\\x00\\x00\\x01\\x00\\x00\\x00\\x02\\x00\\x00\\x00\\x86\\xf8\\xff\\xff\\x00\\x00\\x00\\x01\\x14\\x00\\x00\\x00X\\x00\\x00\\x00\\x0c\\x00\\x00\\x00\\x00\\x00\\x00\\tl\\x00\\x00\\x00\\xf4\\xf7\\xff\\xff\\x08\\x00\\x00\\x00,\\x00\\x00\\x00\\x04\\x00\\x00\\x00\\x00\\x00\\x00\\x00\\x00\\x00\\x00\\x00\\x00\\x00\\x00\\x00\\x00\\x00\\x00\\x00\\x00\\x00\\x00\\x00\\x00\\x00\\x00\\x00\\x00\\x00\\x00\\x00\\x00\\x00\\x00\\x00\\x00\\x00\\x00\\x00\\x04\\x00\\x00\\x00\\x10\\xd2);\\xcd\\xc3\\x99;\\xf7\\xe4%;\\xc1\\xe89;\\x1a\\x00\\x00\\x00sequential/conv2d_1/Conv2D\\x00\\x00\\x04\\x00\\x00\\x00\\x04\\x00\\x00\\x00\\x03\\x00\\x00\\x00\\x03\\x00\\x00\\x00\\x02\\x00\\x00\\x00\\x1e\\xf9\\xff\\xff\\x00\\x00\\x00\\x01\\x14\\x00\\x00\\x00T\\x00\\x00\\x00\\x0b\\x00\\x00\\x00\\x00\\x00\\x00\\x02x\\x00\\x00\\x00\\x8c\\xf8\\xff\\xff\\x08\\x00\\x00\\x00(\\x00\\x00\\x00\\x04\\x00\\x00\\x00\\x00\\x00\\x00\\x00\\x00\\x00\\x00\\x00\\x00\\x00\\x00\\x00\\x00\\x00\\x00\\x00\\x00\\x00\\x00\\x00\\x00\\x00\\x00\\x00\\x00\\x00\\x00\\x00\\x00\\x00\\x00\\x00\\x04\\x00\\x00\\x00\\xdd\\xba8;\\xbeC\\xa7;\\x86u4;(;J;*\\x00\\x00\\x00sequential/conv2d_1/BiasAdd/ReadVariableOp\\x00\\x00\\x01\\x00\\x00\\x00\\x04\\x00\\x00\\x00\\xb6\\xf9\\xff\\xff\\x00\\x00\\x00\\x01\\x14\\x00\\x00\\x00\\x88\\x00\\x00\\x00\\n\\x00\\x00\\x00\\x00\\x00\\x00\\t\\x9c\\x00\\x00\\x00$\\xf9\\xff\\xff\\x08\\x00\\x00\\x00L\\x00\\x00\\x00\\x08\\x00\\x00\\x00\\x00\\x00\\x00\\x00\\x00\\x00\\x00\\x00\\x00\\x00\\x00\\x00\\x00\\x00\\x00\\x00\\x00\\x00\\x00\\x00\\x00\\x00\\x00\\x00\\x00\\x00\\x00\\x00\\x00\\x00\\x00\\x00\\x00\\x00\\x00\\x00\\x00\\x00\\x00\\x00\\x00\\x00\\x00\\x00\\x00\\x00\\x00\\x00\\x00\\x00\\x00\\x00\\x00\\x00\\x00\\x00\\x00\\x00\\x00\\x00\\x00\\x00\\x00\\x00\\x00\\x00\\x00\\x00\\x08\\x00\\x00\\x00\\xa4\\xd1t;\\xed\\xc2\\x8c;\\xf0\\xc6_;\\x0b\\xb6x;F%V;Tw;;\\x9aS<;SME;\\x1a\\x00\\x00\\x00sequential/conv2d_2/Conv2D\\x00\\x00\\x04\\x00\\x00\\x00\\x08\\x00\\x00\\x00\\x03\\x00\\x00\\x00\\x03\\x00\\x00\\x00\\x04\\x00\\x00\\x00~\\xfa\\xff\\xff\\x00\\x00\\x00\\x01\\x14\\x00\\x00\\x00\\x84\\x00\\x00\\x00\\t\\x00\\x00\\x00\\x00\\x00\\x00\\x02\\xa8\\x00\\x00\\x00\\xec\\xf9\\xff\\xff\\x08\\x00\\x00\\x00H\\x00\\x00\\x00\\x08\\x00\\x00\\x00\\x00\\x00\\x00\\x00\\x00\\x00\\x00\\x00\\x00\\x00\\x00\\x00\\x00\\x00\\x00\\x00\\x00\\x00\\x00\\x00\\x00\\x00\\x00\\x00\\x00\\x00\\x00\\x00\\x00\\x00\\x00\\x00\\x00\\x00\\x00\\x00\\x00\\x00\\x00\\x00\\x00\\x00\\x00\\x00\\x00\\x00\\x00\\x00\\x00\\x00\\x00\\x00\\x00\\x00\\x00\\x00\\x00\\x00\\x00\\x00\\x00\\x00\\x00\\x00\\x08\\x00\\x00\\x00\\xa4\\x9a\\x9d:\\x87;\\xb5:\\xe9\\x0e\\x90:\\x16\\x1c\\xa0:\\x9f\\xdb\\x89:\\x94]q:/yr:\\x8a\\x07~:*\\x00\\x00\\x00sequential/conv2d_2/BiasAdd/ReadVariableOp\\x00\\x00\\x01\\x00\\x00\\x00\\x08\\x00\\x00\\x00F\\xfb\\xff\\xff\\x00\\x00\\x00\\x01\\x14\\x00\\x00\\x00\\x88\\x00\\x00\\x00\\x08\\x00\\x00\\x00\\x00\\x00\\x00\\t\\x9c\\x00\\x00\\x00\\xb4\\xfa\\xff\\xff\\x08\\x00\\x00\\x00L\\x00\\x00\\x00\\x08\\x00\\x00\\x00\\x00\\x00\\x00\\x00\\x00\\x00\\x00\\x00\\x00\\x00\\x00\\x00\\x00\\x00\\x00\\x00\\x00\\x00\\x00\\x00\\x00\\x00\\x00\\x00\\x00\\x00\\x00\\x00\\x00\\x00\\x00\\x00\\x00\\x00\\x00\\x00\\x00\\x00\\x00\\x00\\x00\\x00\\x00\\x00\\x00\\x00\\x00\\x00\\x00\\x00\\x00\\x00\\x00\\x00\\x00\\x00\\x00\\x00\\x00\\x00\\x00\\x00\\x00\\x00\\x00\\x00\\x00\\x00\\x08\\x00\\x00\\x00\\x9a\\xa89;\\xa9\\x89c;\\xa5KV;\\x80\\xb4Y;\\xa6\\x0fC;6~T;\\x1e\\x94U;\\xc55r;\\x1a\\x00\\x00\\x00sequential/conv2d_3/Conv2D\\x00\\x00\\x04\\x00\\x00\\x00\\x08\\x00\\x00\\x00\\x03\\x00\\x00\\x00\\x03\\x00\\x00\\x00\\x08\\x00\\x00\\x00\\x0e\\xfc\\xff\\xff\\x00\\x00\\x00\\x01\\x14\\x00\\x00\\x00\\x84\\x00\\x00\\x00\\x07\\x00\\x00\\x00\\x00\\x00\\x00\\x02\\xa8\\x00\\x00\\x00|\\xfb\\xff\\xff\\x08\\x00\\x00\\x00H\\x00\\x00\\x00\\x08\\x00\\x00\\x00\\x00\\x00\\x00\\x00\\x00\\x00\\x00\\x00\\x00\\x00\\x00\\x00\\x00\\x00\\x00\\x00\\x00\\x00\\x00\\x00\\x00\\x00\\x00\\x00\\x00\\x00\\x00\\x00\\x00\\x00\\x00\\x00\\x00\\x00\\x00\\x00\\x00\\x00\\x00\\x00\\x00\\x00\\x00\\x00\\x00\\x00\\x00\\x00\\x00\\x00\\x00\\x00\\x00\\x00\\x00\\x00\\x00\\x00\\x00\\x00\\x00\\x00\\x00\\x00\\x08\\x00\\x00\\x00w\\r\\xa59\\x9cH\\xca9\\xd8\\x82\\xbe9\\xd3\\x8a\\xc19[i\\xad9\\xa0\\xe8\\xbc9\\xb0\\xdf\\xbd9\\xd5S\\xd79*\\x00\\x00\\x00sequential/conv2d_3/BiasAdd/ReadVariableOp\\x00\\x00\\x01\\x00\\x00\\x00\\x08\\x00\\x00\\x00\\xd6\\xfc\\xff\\xff\\x00\\x00\\x00\\x01\\x14\\x00\\x00\\x00\\xe8\\x00\\x00\\x00\\x06\\x00\\x00\\x00\\x00\\x00\\x00\\t\\xfc\\x00\\x00\\x00D\\xfc\\xff\\xff\\x08\\x00\\x00\\x00\\x8c\\x00\\x00\\x00\\x10\\x00\\x00\\x00\\x00\\x00\\x00\\x00\\x00\\x00\\x00\\x00\\x00\\x00\\x00\\x00\\x00\\x00\\x00\\x00\\x00\\x00\\x00\\x00\\x00\\x00\\x00\\x00\\x00\\x00\\x00\\x00\\x00\\x00\\x00\\x00\\x00\\x00\\x00\\x00\\x00\\x00\\x00\\x00\\x00\\x00\\x00\\x00\\x00\\x00\\x00\\x00\\x00\\x00\\x00\\x00\\x00\\x00\\x00\\x00\\x00\\x00\\x00\\x00\\x00\\x00\\x00\\x00\\x00\\x00\\x00\\x00\\x00\\x00\\x00\\x00\\x00\\x00\\x00\\x00\\x00\\x00\\x00\\x00\\x00\\x00\\x00\\x00\\x00\\x00\\x00\\x00\\x00\\x00\\x00\\x00\\x00\\x00\\x00\\x00\\x00\\x00\\x00\\x00\\x00\\x00\\x00\\x00\\x00\\x00\\x00\\x00\\x00\\x00\\x00\\x00\\x00\\x00\\x00\\x00\\x00\\x00\\x00\\x00\\x00\\x00\\x00\\x00\\x00\\x00\\x00\\x00\\x00\\x00\\x00\\x00\\x10\\x00\\x00\\x00\\xe7\\xfd1;\\x12E\\x0f;\\x01\\'G;\\x0eHR;#\\xb21;\\xc7\\x1ff;\\x01\\xe5.;\\x18\\x0c);\\xcf\\xf2>;Z\\x12\\x1b;k6(;\\xc8\\x0fd;\\xd3w\";H\\xd4$;X\\xbf\\r;\\x8e\\xcb4;\\x1a\\x00\\x00\\x00sequential/conv2d_4/Conv2D\\x00\\x00\\x04\\x00\\x00\\x00\\x10\\x00\\x00\\x00\\x03\\x00\\x00\\x00\\x03\\x00\\x00\\x00\\x08\\x00\\x00\\x00\\xfe\\xfd\\xff\\xff\\x00\\x00\\x00\\x01\\x14\\x00\\x00\\x00\\xe4\\x00\\x00\\x00\\x05\\x00\\x00\\x00\\x00\\x00\\x00\\x02\\x08\\x01\\x00\\x00l\\xfd\\xff\\xff\\x08\\x00\\x00\\x00\\x88\\x00\\x00\\x00\\x10\\x00\\x00\\x00\\x00\\x00\\x00\\x00\\x00\\x00\\x00\\x00\\x00\\x00\\x00\\x00\\x00\\x00\\x00\\x00\\x00\\x00\\x00\\x00\\x00\\x00\\x00\\x00\\x00\\x00\\x00\\x00\\x00\\x00\\x00\\x00\\x00\\x00\\x00\\x00\\x00\\x00\\x00\\x00\\x00\\x00\\x00\\x00\\x00\\x00\\x00\\x00\\x00\\x00\\x00\\x00\\x00\\x00\\x00\\x00\\x00\\x00\\x00\\x00\\x00\\x00\\x00\\x00\\x00\\x00\\x00\\x00\\x00\\x00\\x00\\x00\\x00\\x00\\x00\\x00\\x00\\x00\\x00\\x00\\x00\\x00\\x00\\x00\\x00\\x00\\x00\\x00\\x00\\x00\\x00\\x00\\x00\\x00\\x00\\x00\\x00\\x00\\x00\\x00\\x00\\x00\\x00\\x00\\x00\\x00\\x00\\x00\\x00\\x00\\x00\\x00\\x00\\x00\\x00\\x00\\x00\\x00\\x00\\x00\\x00\\x00\\x00\\x00\\x00\\x00\\x00\\x00\\x10\\x00\\x00\\x005\\xd5\\x809\\xb4fO9-&\\x909[4\\x989^\\x9e\\x809!\\x91\\xa69\\x97.}9\\xa0\\xb7t9\\x076\\x8a9d|`9M\\x82s9\\xf5\\x12\\xa59n1k9u\\x9cn9\\x862M9\\xa7\\xdc\\x829*\\x00\\x00\\x00sequential/conv2d_4/BiasAdd/ReadVariableOp\\x00\\x00\\x01\\x00\\x00\\x00\\x10\\x00\\x00\\x00&\\xff\\xff\\xff\\x00\\x00\\x00\\x01\\x14\\x00\\x00\\x004\\x00\\x00\\x00\\x04\\x00\\x00\\x00\\x00\\x00\\x00\\tD\\x00\\x00\\x00\\x94\\xfe\\xff\\xff\\x08\\x00\\x00\\x00\\x14\\x00\\x00\\x00\\x01\\x00\\x00\\x00\\x00\\x00\\x00\\x00\\x00\\x00\\x00\\x00\\x00\\x00\\x00\\x00\\x01\\x00\\x00\\x00\\x94\\x05P;\\x17\\x00\\x00\\x00sequential/dense/MatMul\\x00\\x02\\x00\\x00\\x00\\x01\\x00\\x00\\x00\\x00\\x04\\x00\\x00\\x8e\\xff\\xff\\xff\\x00\\x00\\x00\\x01\\x14\\x00\\x00\\x000\\x00\\x00\\x00\\x03\\x00\\x00\\x00\\x00\\x00\\x00\\x02P\\x00\\x00\\x00\\xfc\\xfe\\xff\\xff\\x08\\x00\\x00\\x00\\x10\\x00\\x00\\x00\\x01\\x00\\x00\\x00\\x00\\x00\\x00\\x00\\x00\\x00\\x00\\x00\\x01\\x00\\x00\\x00Cz\\x069\\'\\x00\\x00\\x00sequential/dense/BiasAdd/ReadVariableOp\\x00\\x01\\x00\\x00\\x00\\x01\\x00\\x00\\x00\\x00\\x00\\x16\\x00\\x1c\\x00\\x18\\x00\\x17\\x00\\x10\\x00\\x0c\\x00\\x08\\x00\\x00\\x00\\x00\\x00\\x00\\x00\\x07\\x00\\x16\\x00\\x00\\x00\\x00\\x00\\x00\\x01\\x18\\x00\\x00\\x00\\x18\\x00\\x00\\x00\\x02\\x00\\x00\\x00\\x00\\x00\\x00\\x02,\\x00\\x00\\x00\\x04\\x00\\x04\\x00\\x04\\x00\\x00\\x00\\x18\\x00\\x00\\x00sequential/flatten/Const\\x00\\x00\\x00\\x00\\x01\\x00\\x00\\x00\\x02\\x00\\x00\\x00\\x00\\x00\\x16\\x00 \\x00\\x1c\\x00\\x1b\\x00\\x14\\x00\\x10\\x00\\x0c\\x00\\x00\\x00\\x00\\x00\\x08\\x00\\x07\\x00\\x16\\x00\\x00\\x00\\x00\\x00\\x00\\x01\\x18\\x00\\x00\\x004\\x00\\x00\\x00T\\x00\\x00\\x00\\x01\\x00\\x00\\x00\\x00\\x00\\x00\\tl\\x00\\x00\\x00\\x04\\x00\\x00\\x00\\xff\\xff\\xff\\xff\\x80\\x00\\x00\\x00\\x80\\x00\\x00\\x00\\x01\\x00\\x00\\x00\\x0c\\x00\\x0c\\x00\\x00\\x00\\x00\\x00\\x08\\x00\\x04\\x00\\x0c\\x00\\x00\\x00\\x08\\x00\\x00\\x00\\x14\\x00\\x00\\x00\\x01\\x00\\x00\\x00\\x80\\xff\\xff\\xff\\xff\\xff\\xff\\xff\\x00\\x00\\x00\\x00\\x01\\x00\\x00\\x00\\x00\\x00\\x80?\\x1e\\x00\\x00\\x00serving_default_conv2d_input:0\\x00\\x00\\x04\\x00\\x00\\x00\\x01\\x00\\x00\\x00\\x80\\x00\\x00\\x00\\x80\\x00\\x00\\x00\\x01\\x00\\x00\\x00\\x05\\x00\\x00\\x00h\\x00\\x00\\x00H\\x00\\x00\\x008\\x00\\x00\\x00\\x18\\x00\\x00\\x00\\x04\\x00\\x00\\x00\\xb8\\xff\\xff\\xff\\x0e\\x00\\x00\\x00\\x02\\x00\\x00\\x00\\x00\\x00\\x00\\x0e\\xc8\\xff\\xff\\xff\\t\\x00\\x00\\x00\\x04\\x00\\x00\\x00\\x00\\x00\\x00\\t\\x0c\\x00\\x0c\\x00\\x0b\\x00\\x00\\x00\\x00\\x00\\x04\\x00\\x0c\\x00\\x00\\x00\\x16\\x00\\x00\\x00\\x00\\x00\\x00\\x16\\xf0\\xff\\xff\\xff\\x01\\x00\\x00\\x00\\x02\\x00\\x00\\x00\\x00\\x00\\x00\\x01\\x0c\\x00\\x10\\x00\\x0f\\x00\\x00\\x00\\x08\\x00\\x04\\x00\\x0c\\x00\\x00\\x00\\x03\\x00\\x00\\x00\\x03\\x00\\x00\\x00\\x00\\x00\\x00\\x03'"
      ]
     },
     "execution_count": 10,
     "metadata": {},
     "output_type": "execute_result"
    }
   ],
   "source": [
    "# build qt model.\n",
    "trainer.build_qt_model()"
   ]
  },
  {
   "cell_type": "markdown",
   "metadata": {},
   "source": [
    "## Compare QT and FP models"
   ]
  },
  {
   "cell_type": "code",
   "execution_count": 11,
   "metadata": {},
   "outputs": [
    {
     "name": "stdout",
     "output_type": "stream",
     "text": [
      "56/56 [==============================] - 2s 25ms/step\n"
     ]
    },
    {
     "name": "stderr",
     "output_type": "stream",
     "text": [
      "INFO: Created TensorFlow Lite XNNPACK delegate for CPU.\n"
     ]
    },
    {
     "name": "stdout",
     "output_type": "stream",
     "text": [
      "qt_Metrics\n",
      " {'qt_mean': -0.0022028908, 'qt_std': 0.021983253, 'qt_abs_mean': 0.0114318095, 'qt_abs_std': 0.018905815}\n"
     ]
    },
    {
     "data": {
      "text/plain": [
       "{'diff': array([ 1.87325180e-02, -5.64286560e-02,  3.10107600e-03,  1.81681477e-04,\n",
       "         2.45330483e-03,  3.25445924e-03,  4.23942693e-04,  3.68174911e-02,\n",
       "         5.00142761e-03,  1.49697997e-03,  1.22594368e-03,  6.79665059e-03,\n",
       "         1.56150386e-03, -9.32437927e-03,  9.89967287e-02, -2.92934012e-04,\n",
       "         1.51291639e-02,  2.39861012e-03,  2.55741179e-04,  4.61505651e-02,\n",
       "        -3.57395038e-03,  6.05143141e-05,  3.44314892e-03,  2.91831791e-02,\n",
       "        -3.80969048e-02, -5.86207956e-04,  6.28121197e-04,  6.04284555e-02,\n",
       "         2.70774364e-02,  2.64815241e-03,  3.10100988e-02,  1.87104940e-03,\n",
       "         1.65284239e-03,  1.53529644e-02,  4.98640910e-03, -1.47011951e-02,\n",
       "        -2.46241689e-05,  4.11559716e-02, -7.93401734e-04, -6.41604071e-04,\n",
       "         1.56317325e-03, -9.87141393e-05,  3.44384760e-02,  6.71519898e-04,\n",
       "        -1.21954829e-03, -1.67025439e-03,  1.03204921e-02,  2.93794274e-02,\n",
       "         5.79946488e-03,  1.19085535e-02, -1.47291133e-03,  2.32118964e-02,\n",
       "         9.18436330e-04,  5.19799069e-05, -2.61593610e-02,  2.03466564e-02,\n",
       "        -1.33023113e-02,  1.00878486e-03,  7.68826902e-03, -1.43107958e-03,\n",
       "         5.30768931e-03, -8.97231698e-03,  1.94828212e-03, -3.95800769e-02,\n",
       "        -1.08872838e-02,  1.12113178e-01,  2.76825158e-04,  6.54652156e-03,\n",
       "        -1.51981003e-04, -2.53037438e-02,  5.07557299e-04,  6.10723905e-03,\n",
       "         4.37755510e-03, -2.78856307e-02, -6.17219321e-03,  1.34151871e-03,\n",
       "        -5.35971893e-04,  9.02118161e-04,  8.41385499e-03,  1.24140526e-03,\n",
       "         2.77840048e-02,  5.96748814e-02,  4.82865982e-03, -1.95412487e-02,\n",
       "        -4.72959876e-03,  5.31292800e-03,  4.75224666e-02,  2.49445438e-05,\n",
       "         2.26198584e-02, -3.98916658e-04, -9.14193690e-04,  6.23821914e-02,\n",
       "         8.65465216e-03, -1.01911381e-03, -2.21526949e-03, -1.76704081e-03,\n",
       "        -2.37272084e-02,  7.90658221e-03, -2.31263414e-03,  1.80356856e-03,\n",
       "         5.97699173e-03,  1.00049516e-03, -2.37668641e-02,  1.21775270e-02,\n",
       "         2.20641540e-03, -8.48740339e-04, -9.23270732e-03,  1.37070101e-03,\n",
       "         3.45303416e-02, -4.66904044e-03, -7.01318961e-04,  4.72993106e-02,\n",
       "        -2.81526707e-04, -3.46258283e-03, -1.11874849e-01,  5.56142032e-02,\n",
       "        -4.49752063e-02,  3.13199498e-03, -1.27855986e-02, -2.15727556e-03,\n",
       "         6.24524057e-03,  8.21249932e-03, -8.43018293e-02, -2.88411453e-02,\n",
       "         5.26053831e-04,  1.15889572e-02, -7.31518492e-03, -8.84020235e-04,\n",
       "         2.39016186e-03,  7.78810531e-02, -2.64528394e-03, -1.52017325e-02,\n",
       "        -1.67632848e-03, -3.99370864e-03, -4.54163551e-03, -9.08899307e-03,\n",
       "         3.72940395e-03,  2.13701725e-02,  1.33782020e-03,  2.88531277e-03,\n",
       "        -5.60168177e-04,  1.85415754e-03, -7.14558177e-04, -2.91153640e-02,\n",
       "        -8.12274218e-03, -1.70469135e-02, -6.35159314e-02, -6.89627230e-03,\n",
       "         1.60333216e-02, -2.93614343e-03,  7.68535733e-02,  6.51428103e-02,\n",
       "        -1.63644552e-02,  4.52007633e-03,  1.42190023e-03, -3.92542593e-03,\n",
       "        -2.66559571e-02, -3.18974163e-03,  7.01053999e-04,  1.48315728e-02,\n",
       "         1.32282972e-02,  2.74114311e-04, -1.92340165e-02,  1.82334185e-02,\n",
       "        -3.12158912e-02, -1.75263453e-03, -7.22628832e-03, -6.03997707e-03,\n",
       "         9.68516767e-02,  2.32802145e-03,  5.21464692e-03, -2.79023349e-02,\n",
       "         1.77944899e-02, -7.56654888e-02,  2.24653771e-03,  1.01226778e-03,\n",
       "         2.84089521e-03,  9.38203186e-03, -9.67415124e-02,  5.24785370e-04,\n",
       "         2.16449313e-02, -4.54927236e-03,  4.33343351e-02,  6.82125092e-02,\n",
       "         2.56393664e-03,  1.71782146e-03, -2.79054493e-02,  3.05642933e-03,\n",
       "         2.97638774e-03, -9.88506526e-03,  5.33127692e-04,  3.78219411e-05,\n",
       "        -2.61691399e-04,  3.79282702e-03,  9.22429934e-03, -2.92674638e-04,\n",
       "         1.69838499e-03,  1.18776131e-03,  9.01114941e-03,  1.15451887e-02,\n",
       "         2.51210295e-05,  3.08648646e-02, -1.35947019e-04,  2.18923669e-03,\n",
       "         1.86584610e-03, -5.15896827e-03, -6.18200749e-04, -1.48220942e-03,\n",
       "        -1.07918307e-03, -1.48953795e-02, -1.21278362e-03, -9.65072215e-03,\n",
       "         4.03733850e-02,  1.32190108e-01, -4.28601488e-04,  1.52131310e-03,\n",
       "         3.51407528e-02,  1.29433442e-03, -2.52113417e-02, -1.32644810e-02,\n",
       "        -5.88937663e-04, -2.68329233e-02,  5.67236636e-03, -2.16494352e-02,\n",
       "         3.49543393e-02, -1.05771841e-03, -8.27945769e-03,  3.16423737e-03,\n",
       "        -1.47850253e-03,  5.45203090e-02,  1.59714185e-03, -4.42509651e-02,\n",
       "        -8.01815093e-03, -6.08689785e-02,  7.90940821e-02,  8.94010067e-04,\n",
       "         1.21778212e-02,  5.73773086e-02, -2.84535289e-02, -5.40661812e-03,\n",
       "         5.54735959e-03, -7.69691169e-03,  5.71092591e-03, -1.69068575e-02,\n",
       "         2.18212456e-02,  1.52739789e-03,  1.26822665e-03,  2.39412487e-03,\n",
       "        -5.34294993e-02,  4.40826416e-02,  9.59515572e-03,  2.83616409e-03,\n",
       "         5.67794219e-03,  3.12671624e-03,  7.93675780e-02,  6.49962109e-04,\n",
       "         1.05378479e-02, -1.25238448e-02, -1.61847398e-02, -2.26949528e-03,\n",
       "         6.95278123e-03,  2.34697573e-03, -1.46528706e-04,  2.05540322e-02,\n",
       "        -2.81276256e-02,  2.49091256e-03, -4.57762554e-03,  1.08124409e-03,\n",
       "        -2.98868939e-02,  3.58261354e-03,  1.03039742e-02, -1.83738917e-02,\n",
       "         5.30421734e-04, -2.20603589e-03,  2.34926632e-03, -5.14859683e-04,\n",
       "         4.78114327e-03,  5.59102744e-04,  1.65273733e-02,  8.73816013e-03,\n",
       "         3.41746584e-03, -9.46265180e-04, -8.31590593e-03, -3.28575075e-03,\n",
       "         1.34053407e-03,  4.99583781e-04,  1.46706402e-02, -1.93908289e-02,\n",
       "         2.65265256e-03,  4.70033661e-03, -2.28996389e-04,  4.37210500e-02,\n",
       "         1.09039173e-02, -2.68701091e-02,  5.94032854e-02,  1.02645229e-03,\n",
       "        -4.98673469e-02, -1.06481276e-03, -1.23906136e-02,  1.31040290e-02,\n",
       "        -1.42872632e-02, -9.62167978e-05,  2.26163305e-03,  3.76358628e-03,\n",
       "        -1.03975041e-03, -2.59076059e-03,  3.42501551e-02,  5.71011007e-03,\n",
       "         6.02333341e-04, -1.15675270e-03,  2.22205371e-03,  1.41252689e-02,\n",
       "         1.67994341e-03, -2.24734172e-02, -7.27562234e-04, -4.80627269e-03,\n",
       "        -4.54220921e-02, -1.06921338e-03, -1.17333233e-02, -2.29741621e-04,\n",
       "         3.92472744e-03, -4.42422926e-02, -2.80045718e-02,  9.41284746e-03,\n",
       "         1.01554796e-01,  2.19701976e-02,  1.45776570e-03, -2.08234787e-03,\n",
       "        -3.36305201e-02,  3.87243275e-03,  1.39403343e-03,  4.57337499e-03,\n",
       "         2.80025043e-03,  4.59199995e-02,  1.72898136e-02,  3.80167039e-04,\n",
       "        -6.75554574e-03,  5.66391181e-03,  9.40819643e-03,  4.50177584e-04,\n",
       "         1.37726068e-02,  2.60315835e-02, -5.10464609e-03,  1.36475265e-03,\n",
       "        -4.78897989e-03,  1.96921676e-02,  1.29335970e-02, -1.16707087e-02,\n",
       "         6.48104213e-03,  4.18211147e-03,  1.85325667e-02,  9.83333681e-04,\n",
       "         8.08019191e-03,  7.60678761e-03,  1.93990953e-03,  2.14066682e-03,\n",
       "        -7.57831335e-03, -3.90625000e-03, -3.74495983e-03, -1.79654360e-03,\n",
       "        -7.79116154e-03, -7.79688358e-04, -3.52692604e-03, -4.25660610e-03,\n",
       "         7.52236247e-02, -3.74627113e-03, -1.75237656e-03, -7.30437040e-03,\n",
       "         1.38235092e-03, -4.42451239e-03, -5.06043434e-05,  1.01983547e-04,\n",
       "        -3.81785631e-03,  7.78868794e-02, -3.63570452e-03, -2.45380402e-03,\n",
       "         1.19805336e-04, -2.85267830e-04, -1.17772818e-03, -3.60769033e-03,\n",
       "        -4.06253338e-03,  1.28028393e-02, -3.74639034e-03, -2.38962173e-02,\n",
       "         2.25549340e-02,  9.14031267e-03,  2.68185139e-03, -3.56340408e-03,\n",
       "        -3.67927551e-03, -3.35788727e-03, -2.93785334e-03, -3.83943319e-03,\n",
       "        -3.84700298e-03, -6.94423914e-03, -4.95076180e-03, -2.31735706e-02,\n",
       "        -9.97662544e-04, -1.75708532e-03, -7.61568546e-04, -2.53534317e-03,\n",
       "        -2.01966166e-02, -3.64428759e-03, -3.76784801e-03, -3.57198715e-03,\n",
       "        -3.86083126e-03, -3.10403109e-03, -2.10344791e-03, -2.82275677e-03,\n",
       "        -2.42865086e-03,  1.54674053e-03, -1.01554394e-03, -7.31605291e-03,\n",
       "        -3.89909744e-03, -2.47871876e-03, -2.21353769e-03, -3.22461128e-03,\n",
       "        -3.81249189e-03, -3.81380320e-03, -7.05301762e-04, -3.70109081e-03,\n",
       "        -2.61110067e-03,  8.83936882e-05,  3.35752964e-04, -2.60710716e-03,\n",
       "        -2.94154882e-03, -5.32656908e-03, -2.25217342e-02,  4.82320786e-03,\n",
       "        -3.90625000e-03, -3.34084034e-03, -5.44255972e-03, -4.87029552e-04,\n",
       "        -8.12824368e-02,  1.23824477e-02, -2.76219845e-03, -1.47950649e-03,\n",
       "        -1.11157298e-02, -2.42590904e-03, -1.15104139e-01, -3.87161970e-03,\n",
       "        -3.90386581e-03, -3.84259224e-03, -3.90309095e-03, -1.82849169e-03,\n",
       "        -1.45147443e-02, -3.90034914e-03, -3.73524427e-03, -3.70496511e-03,\n",
       "        -3.43132019e-03,  5.43962717e-02,  4.14168835e-03, -3.16005945e-03,\n",
       "        -5.21600246e-04, -1.27890706e-02, -3.88818979e-03, -2.52181292e-03,\n",
       "        -1.14910603e-02, -3.10254097e-03,  2.24053860e-04, -2.05212831e-03,\n",
       "        -3.73500586e-03, -1.25899315e-02, -2.60867476e-02, -1.66807175e-02,\n",
       "        -4.76908684e-03, -4.64427471e-03, -3.90613079e-03, -3.85010242e-03,\n",
       "        -3.26430798e-03, -3.90112400e-03, -1.17835045e-01, -3.88866663e-03,\n",
       "        -1.56754255e-03, -4.77254391e-03, -3.90619040e-03, -3.90368700e-03,\n",
       "        -6.85340464e-02, -3.81517410e-03, -7.65864849e-02, -4.49694395e-02,\n",
       "        -1.65879726e-03, -1.44779682e-03, -2.45559216e-03, -3.88777256e-03,\n",
       "        -3.87310982e-03, -3.95105183e-02, -1.35099888e-03, -3.18595171e-02,\n",
       "        -4.50063944e-02, -4.52548265e-03, -8.72939825e-03, -3.84479761e-03,\n",
       "        -1.68478489e-03, -3.48961353e-03, -3.21906805e-03, -3.80641222e-03,\n",
       "        -8.23910832e-02, -3.89939547e-03, -1.40672922e-03, -1.72215700e-03,\n",
       "        -2.36582756e-03, -3.90410423e-03, -3.89373302e-03, -1.50473714e-02,\n",
       "        -3.90613079e-03, -3.63248587e-03, -1.81540847e-02, -2.89869308e-03,\n",
       "        -2.82800198e-03, -2.24399567e-02, -3.90619040e-03, -2.03859806e-03,\n",
       "        -3.90625000e-03,  8.89670849e-03, -3.90130281e-03, -1.13069415e-01,\n",
       "        -3.86359096e-02, -1.21289492e-02,  3.81029844e-02, -2.05892324e-03,\n",
       "        -6.69097900e-03, -3.88938189e-03, -3.89128923e-03,  1.63412094e-03,\n",
       "        -2.32642889e-03, -3.09574604e-03, -3.38143110e-03, -6.47127628e-04,\n",
       "        -3.90619040e-03, -1.93455815e-02,  2.88534164e-03, -2.74193287e-03,\n",
       "        -1.68979168e-03, -3.11638713e-02, -8.03470612e-04, -1.24586821e-02,\n",
       "        -4.38749790e-03, -3.41302156e-03, -1.83695555e-03,  2.29048729e-03,\n",
       "        -9.50151682e-02, -4.22304869e-03, -2.13704109e-02, -9.04107094e-03,\n",
       "        -2.58493423e-03, -3.89099121e-03, -2.13811398e-02, -3.08597088e-03,\n",
       "        -5.37484884e-03, -1.55015588e-02, -1.24001503e-03, -3.88659239e-02,\n",
       "        -3.37874889e-03, -1.63722038e-03, -2.61944532e-03,  4.01305556e-02,\n",
       "        -2.56621838e-03, -3.90177965e-03, -1.73151493e-04, -3.87531519e-03,\n",
       "        -1.58739090e-03, -3.88669968e-03, -3.87048721e-03,  1.46490335e-03,\n",
       "        -8.68678093e-04, -1.76954269e-03,  8.51422548e-03, -2.42948532e-03,\n",
       "        -1.91375017e-02, -7.26032257e-03, -3.90607119e-03, -1.54322386e-03,\n",
       "        -3.88163328e-03, -3.69852781e-03, -8.65018368e-03, -1.49813890e-02,\n",
       "        -3.88365984e-03, -1.31955743e-02, -3.83949280e-03, -3.39746475e-03,\n",
       "         1.49250031e-04, -7.07713366e-02,  1.49267912e-03,  7.44771957e-03,\n",
       "        -4.56636548e-02, -3.89862061e-03, -3.32659483e-03, -3.28516960e-03,\n",
       "        -5.57832122e-02, -3.30609083e-03, -2.76190042e-03, -5.92470169e-04,\n",
       "        -3.90309095e-03, -3.73715162e-03,  5.37514687e-04, -2.40331888e-03,\n",
       "        -5.97596169e-04, -2.99221277e-03, -3.89951468e-03,  2.65067816e-03,\n",
       "        -2.05260515e-03, -9.07897949e-04,  4.09740210e-03, -1.86753273e-03,\n",
       "         3.24571133e-03, -3.69733572e-03, -3.04734707e-03, -3.05771828e-03,\n",
       "        -3.60715389e-03, -2.38204002e-03, -3.57437134e-03, -3.90344858e-03,\n",
       "        -2.40945816e-03, -1.38056278e-03, -3.56787443e-03, -1.99152231e-02,\n",
       "        -3.73899937e-03, -6.82592392e-04, -2.14565396e-02,  4.04602289e-02,\n",
       "        -9.53078270e-05,  3.88514996e-02, -3.90487909e-03, -3.36545706e-02,\n",
       "        -3.76605988e-03, -3.57383490e-03, -3.83549929e-03, -3.16375494e-03,\n",
       "        -1.96695328e-05, -1.05326772e-02, -2.18731165e-03, -1.34055018e-02,\n",
       "         4.72425669e-02, -2.84117460e-03, -3.45647335e-03, -3.89713049e-03,\n",
       "        -3.12703848e-03, -3.41206789e-02, -6.86042309e-02, -1.32734179e-02,\n",
       "        -2.58713961e-03, -3.90416384e-03, -3.53026390e-03, -1.93458796e-03,\n",
       "        -6.04093075e-04, -4.96888161e-03, -3.90398502e-03, -1.57421827e-03,\n",
       "        -3.21705937e-02, -3.23563814e-03, -3.49688530e-03,  2.20694542e-02,\n",
       "         6.64740503e-02, -3.90416384e-03, -3.89409065e-03, -3.90106440e-03,\n",
       "        -1.83796287e-02, -1.21416450e-02, -1.76578760e-03, -1.70171261e-04,\n",
       "        -3.83365154e-03,  8.88562202e-03, -7.83967972e-03, -3.90607119e-03,\n",
       "        -2.29197741e-03, -1.21833086e-02, -9.07957554e-04, -3.79598141e-03,\n",
       "        -3.79860401e-03, -3.04418802e-03,  3.75475287e-02, -5.62375784e-03,\n",
       "        -3.90076637e-03, -5.84125519e-04, -3.42903733e-02, -3.90523672e-03,\n",
       "        -6.46948814e-04, -1.92987919e-03, -1.76376104e-03, -3.89236212e-03,\n",
       "        -3.43501568e-04, -2.58284807e-03, -6.89566135e-04, -4.05746698e-03,\n",
       "        -3.72761488e-03,  3.46268937e-02, -6.00682497e-02, -8.86440277e-04,\n",
       "        -8.30936432e-03,  6.46042824e-03, -9.67502594e-04,  1.27321482e-02,\n",
       "        -2.84314156e-03, -1.02853775e-03, -2.84916162e-03, -3.85057926e-03,\n",
       "        -3.84092331e-03,  7.35044479e-04, -2.69794464e-03, -1.21786594e-02,\n",
       "         1.61439180e-03, -3.83925438e-03, -2.11381912e-03, -2.68304348e-03,\n",
       "         7.41481781e-05, -1.32292509e-03,  1.52677298e-03,  2.04634666e-03,\n",
       "        -1.41245127e-03, -2.77256966e-03, -3.90565395e-03, -1.19549632e-02,\n",
       "         1.51771307e-03, -3.89492512e-03, -3.23722363e-02, -3.87680531e-03,\n",
       "        -2.50142813e-02, -3.88509035e-03, -3.87042761e-03, -7.75688887e-03,\n",
       "        -6.95037842e-03, -3.90505791e-03, -3.90273333e-03, -5.03265858e-03,\n",
       "        -3.71259451e-03, -3.85600328e-03, -3.88705730e-03, -3.13144922e-03,\n",
       "        -3.87293100e-03, -7.67183304e-03, -3.89897823e-03, -1.04296803e-02,\n",
       "        -3.69805098e-03,  8.99885222e-03, -2.93308496e-03, -3.12483311e-03,\n",
       "        -1.64502859e-03, -1.00818872e-02, -2.97337770e-03, -4.57704067e-03,\n",
       "        -1.75803900e-03, -3.50183249e-03, -3.89516354e-03, -5.84229827e-02,\n",
       "        -3.72898579e-03, -2.90238857e-03, -1.71266198e-02, -2.04628706e-03,\n",
       "        -1.68025494e-03,  2.27552652e-03, -5.16712666e-04, -2.16066837e-04,\n",
       "        -3.27318907e-03, -1.34950876e-03, -1.12150908e-02, -8.05318356e-04,\n",
       "         4.17935848e-03, -1.99866295e-03, -1.24893785e-02,  2.18451023e-04,\n",
       "        -2.22965479e-02, -3.60316038e-03,  9.40978527e-04, -3.86333466e-03,\n",
       "         1.84879303e-02,  4.15378809e-03, -4.67009544e-02, -2.56240368e-03,\n",
       "        -3.69858742e-03, -4.23157215e-03, -3.59565020e-03, -3.25763226e-03,\n",
       "        -1.15895271e-03, -3.82494926e-03, -3.45933437e-03, -3.80289555e-03,\n",
       "        -3.67051363e-03, -2.74384618e-02, -3.89134884e-03, -3.90386581e-03,\n",
       "        -3.56912613e-03,  5.00901565e-02, -1.25950575e-03,  8.24183226e-03,\n",
       "        -2.55882740e-04, -1.36131048e-03, -3.89647484e-03, -6.44230843e-03,\n",
       "        -3.85844707e-03, -3.77637148e-03, -6.94048405e-03, -2.95531750e-03,\n",
       "        -5.80072403e-03, -1.63496435e-02, -3.80152464e-03, -4.27860022e-03,\n",
       "         2.74783373e-03, -5.20002246e-02, -3.40795517e-03, -4.68951464e-03,\n",
       "        -2.61863470e-02, -3.72940302e-03, -3.87513638e-03,  5.06584644e-02,\n",
       "         1.62166357e-03, -1.85370445e-03, -3.76701355e-03, -3.80837917e-03,\n",
       "        -1.84732676e-03, -1.11292005e-02, -3.88813019e-03, -3.39084864e-03,\n",
       "         6.08682632e-04, -7.90049434e-02, -9.04691219e-03, -3.21114063e-03,\n",
       "        -1.01146698e-02, -9.74798203e-03, -3.89456749e-03, -3.48978341e-02,\n",
       "        -4.98336554e-03,  3.43322754e-04, -2.06480622e-02,  5.88369370e-03,\n",
       "         5.06520271e-04, -1.35465264e-02, -6.35755062e-03, -2.67148018e-03,\n",
       "        -6.43843412e-03, -3.90607119e-03,  2.41881609e-03, -3.77357006e-03,\n",
       "        -1.31785870e-03, -3.76331806e-03, -4.18382883e-03, -3.64637375e-03,\n",
       "        -2.17318535e-04, -3.90625000e-03, -3.90619040e-03, -3.90577316e-03,\n",
       "        -1.58131123e-04, -3.41749191e-03, -3.90028954e-03, -1.37704611e-03,\n",
       "         2.59326100e-02, -3.05451751e-02, -3.88139486e-03, -3.99218202e-02,\n",
       "        -6.78896904e-04, -3.90625000e-03,  1.14318728e-02, -2.48810053e-02,\n",
       "        -1.23611093e-02, -6.72078133e-03, -5.24103642e-03, -2.81226635e-03,\n",
       "        -1.21161342e-02, -3.59839201e-03, -2.92730331e-03, -6.33418560e-04,\n",
       "        -1.72638893e-03, -3.90076637e-03, -9.79363918e-04, -2.35916376e-02,\n",
       "         6.09630346e-03, -3.86828184e-03, -3.06177139e-03, -3.88646126e-03,\n",
       "        -3.33374739e-03, -3.45933437e-03, -2.73570418e-03, -3.62902880e-03,\n",
       "        -2.00557709e-03, -2.92890072e-02, -2.73466110e-03, -1.31332874e-03,\n",
       "        -3.01092863e-03, -3.80361080e-03, -2.08163261e-03, -8.23616982e-04,\n",
       "         6.13033772e-04, -7.82163441e-02, -3.79484892e-03, -3.83687019e-03,\n",
       "        -3.77601385e-03, -3.84795666e-03, -3.76594067e-03, -3.90595198e-03,\n",
       "        -3.20738554e-03, -3.85087729e-03, -3.05795670e-03, -3.89617682e-03],\n",
       "       dtype=float32),\n",
       " 'mean': -0.0022028908,\n",
       " 'std': 0.021983253,\n",
       " 'abs_diff': array([1.87325180e-02, 5.64286560e-02, 3.10107600e-03, 1.81681477e-04,\n",
       "        2.45330483e-03, 3.25445924e-03, 4.23942693e-04, 3.68174911e-02,\n",
       "        5.00142761e-03, 1.49697997e-03, 1.22594368e-03, 6.79665059e-03,\n",
       "        1.56150386e-03, 9.32437927e-03, 9.89967287e-02, 2.92934012e-04,\n",
       "        1.51291639e-02, 2.39861012e-03, 2.55741179e-04, 4.61505651e-02,\n",
       "        3.57395038e-03, 6.05143141e-05, 3.44314892e-03, 2.91831791e-02,\n",
       "        3.80969048e-02, 5.86207956e-04, 6.28121197e-04, 6.04284555e-02,\n",
       "        2.70774364e-02, 2.64815241e-03, 3.10100988e-02, 1.87104940e-03,\n",
       "        1.65284239e-03, 1.53529644e-02, 4.98640910e-03, 1.47011951e-02,\n",
       "        2.46241689e-05, 4.11559716e-02, 7.93401734e-04, 6.41604071e-04,\n",
       "        1.56317325e-03, 9.87141393e-05, 3.44384760e-02, 6.71519898e-04,\n",
       "        1.21954829e-03, 1.67025439e-03, 1.03204921e-02, 2.93794274e-02,\n",
       "        5.79946488e-03, 1.19085535e-02, 1.47291133e-03, 2.32118964e-02,\n",
       "        9.18436330e-04, 5.19799069e-05, 2.61593610e-02, 2.03466564e-02,\n",
       "        1.33023113e-02, 1.00878486e-03, 7.68826902e-03, 1.43107958e-03,\n",
       "        5.30768931e-03, 8.97231698e-03, 1.94828212e-03, 3.95800769e-02,\n",
       "        1.08872838e-02, 1.12113178e-01, 2.76825158e-04, 6.54652156e-03,\n",
       "        1.51981003e-04, 2.53037438e-02, 5.07557299e-04, 6.10723905e-03,\n",
       "        4.37755510e-03, 2.78856307e-02, 6.17219321e-03, 1.34151871e-03,\n",
       "        5.35971893e-04, 9.02118161e-04, 8.41385499e-03, 1.24140526e-03,\n",
       "        2.77840048e-02, 5.96748814e-02, 4.82865982e-03, 1.95412487e-02,\n",
       "        4.72959876e-03, 5.31292800e-03, 4.75224666e-02, 2.49445438e-05,\n",
       "        2.26198584e-02, 3.98916658e-04, 9.14193690e-04, 6.23821914e-02,\n",
       "        8.65465216e-03, 1.01911381e-03, 2.21526949e-03, 1.76704081e-03,\n",
       "        2.37272084e-02, 7.90658221e-03, 2.31263414e-03, 1.80356856e-03,\n",
       "        5.97699173e-03, 1.00049516e-03, 2.37668641e-02, 1.21775270e-02,\n",
       "        2.20641540e-03, 8.48740339e-04, 9.23270732e-03, 1.37070101e-03,\n",
       "        3.45303416e-02, 4.66904044e-03, 7.01318961e-04, 4.72993106e-02,\n",
       "        2.81526707e-04, 3.46258283e-03, 1.11874849e-01, 5.56142032e-02,\n",
       "        4.49752063e-02, 3.13199498e-03, 1.27855986e-02, 2.15727556e-03,\n",
       "        6.24524057e-03, 8.21249932e-03, 8.43018293e-02, 2.88411453e-02,\n",
       "        5.26053831e-04, 1.15889572e-02, 7.31518492e-03, 8.84020235e-04,\n",
       "        2.39016186e-03, 7.78810531e-02, 2.64528394e-03, 1.52017325e-02,\n",
       "        1.67632848e-03, 3.99370864e-03, 4.54163551e-03, 9.08899307e-03,\n",
       "        3.72940395e-03, 2.13701725e-02, 1.33782020e-03, 2.88531277e-03,\n",
       "        5.60168177e-04, 1.85415754e-03, 7.14558177e-04, 2.91153640e-02,\n",
       "        8.12274218e-03, 1.70469135e-02, 6.35159314e-02, 6.89627230e-03,\n",
       "        1.60333216e-02, 2.93614343e-03, 7.68535733e-02, 6.51428103e-02,\n",
       "        1.63644552e-02, 4.52007633e-03, 1.42190023e-03, 3.92542593e-03,\n",
       "        2.66559571e-02, 3.18974163e-03, 7.01053999e-04, 1.48315728e-02,\n",
       "        1.32282972e-02, 2.74114311e-04, 1.92340165e-02, 1.82334185e-02,\n",
       "        3.12158912e-02, 1.75263453e-03, 7.22628832e-03, 6.03997707e-03,\n",
       "        9.68516767e-02, 2.32802145e-03, 5.21464692e-03, 2.79023349e-02,\n",
       "        1.77944899e-02, 7.56654888e-02, 2.24653771e-03, 1.01226778e-03,\n",
       "        2.84089521e-03, 9.38203186e-03, 9.67415124e-02, 5.24785370e-04,\n",
       "        2.16449313e-02, 4.54927236e-03, 4.33343351e-02, 6.82125092e-02,\n",
       "        2.56393664e-03, 1.71782146e-03, 2.79054493e-02, 3.05642933e-03,\n",
       "        2.97638774e-03, 9.88506526e-03, 5.33127692e-04, 3.78219411e-05,\n",
       "        2.61691399e-04, 3.79282702e-03, 9.22429934e-03, 2.92674638e-04,\n",
       "        1.69838499e-03, 1.18776131e-03, 9.01114941e-03, 1.15451887e-02,\n",
       "        2.51210295e-05, 3.08648646e-02, 1.35947019e-04, 2.18923669e-03,\n",
       "        1.86584610e-03, 5.15896827e-03, 6.18200749e-04, 1.48220942e-03,\n",
       "        1.07918307e-03, 1.48953795e-02, 1.21278362e-03, 9.65072215e-03,\n",
       "        4.03733850e-02, 1.32190108e-01, 4.28601488e-04, 1.52131310e-03,\n",
       "        3.51407528e-02, 1.29433442e-03, 2.52113417e-02, 1.32644810e-02,\n",
       "        5.88937663e-04, 2.68329233e-02, 5.67236636e-03, 2.16494352e-02,\n",
       "        3.49543393e-02, 1.05771841e-03, 8.27945769e-03, 3.16423737e-03,\n",
       "        1.47850253e-03, 5.45203090e-02, 1.59714185e-03, 4.42509651e-02,\n",
       "        8.01815093e-03, 6.08689785e-02, 7.90940821e-02, 8.94010067e-04,\n",
       "        1.21778212e-02, 5.73773086e-02, 2.84535289e-02, 5.40661812e-03,\n",
       "        5.54735959e-03, 7.69691169e-03, 5.71092591e-03, 1.69068575e-02,\n",
       "        2.18212456e-02, 1.52739789e-03, 1.26822665e-03, 2.39412487e-03,\n",
       "        5.34294993e-02, 4.40826416e-02, 9.59515572e-03, 2.83616409e-03,\n",
       "        5.67794219e-03, 3.12671624e-03, 7.93675780e-02, 6.49962109e-04,\n",
       "        1.05378479e-02, 1.25238448e-02, 1.61847398e-02, 2.26949528e-03,\n",
       "        6.95278123e-03, 2.34697573e-03, 1.46528706e-04, 2.05540322e-02,\n",
       "        2.81276256e-02, 2.49091256e-03, 4.57762554e-03, 1.08124409e-03,\n",
       "        2.98868939e-02, 3.58261354e-03, 1.03039742e-02, 1.83738917e-02,\n",
       "        5.30421734e-04, 2.20603589e-03, 2.34926632e-03, 5.14859683e-04,\n",
       "        4.78114327e-03, 5.59102744e-04, 1.65273733e-02, 8.73816013e-03,\n",
       "        3.41746584e-03, 9.46265180e-04, 8.31590593e-03, 3.28575075e-03,\n",
       "        1.34053407e-03, 4.99583781e-04, 1.46706402e-02, 1.93908289e-02,\n",
       "        2.65265256e-03, 4.70033661e-03, 2.28996389e-04, 4.37210500e-02,\n",
       "        1.09039173e-02, 2.68701091e-02, 5.94032854e-02, 1.02645229e-03,\n",
       "        4.98673469e-02, 1.06481276e-03, 1.23906136e-02, 1.31040290e-02,\n",
       "        1.42872632e-02, 9.62167978e-05, 2.26163305e-03, 3.76358628e-03,\n",
       "        1.03975041e-03, 2.59076059e-03, 3.42501551e-02, 5.71011007e-03,\n",
       "        6.02333341e-04, 1.15675270e-03, 2.22205371e-03, 1.41252689e-02,\n",
       "        1.67994341e-03, 2.24734172e-02, 7.27562234e-04, 4.80627269e-03,\n",
       "        4.54220921e-02, 1.06921338e-03, 1.17333233e-02, 2.29741621e-04,\n",
       "        3.92472744e-03, 4.42422926e-02, 2.80045718e-02, 9.41284746e-03,\n",
       "        1.01554796e-01, 2.19701976e-02, 1.45776570e-03, 2.08234787e-03,\n",
       "        3.36305201e-02, 3.87243275e-03, 1.39403343e-03, 4.57337499e-03,\n",
       "        2.80025043e-03, 4.59199995e-02, 1.72898136e-02, 3.80167039e-04,\n",
       "        6.75554574e-03, 5.66391181e-03, 9.40819643e-03, 4.50177584e-04,\n",
       "        1.37726068e-02, 2.60315835e-02, 5.10464609e-03, 1.36475265e-03,\n",
       "        4.78897989e-03, 1.96921676e-02, 1.29335970e-02, 1.16707087e-02,\n",
       "        6.48104213e-03, 4.18211147e-03, 1.85325667e-02, 9.83333681e-04,\n",
       "        8.08019191e-03, 7.60678761e-03, 1.93990953e-03, 2.14066682e-03,\n",
       "        7.57831335e-03, 3.90625000e-03, 3.74495983e-03, 1.79654360e-03,\n",
       "        7.79116154e-03, 7.79688358e-04, 3.52692604e-03, 4.25660610e-03,\n",
       "        7.52236247e-02, 3.74627113e-03, 1.75237656e-03, 7.30437040e-03,\n",
       "        1.38235092e-03, 4.42451239e-03, 5.06043434e-05, 1.01983547e-04,\n",
       "        3.81785631e-03, 7.78868794e-02, 3.63570452e-03, 2.45380402e-03,\n",
       "        1.19805336e-04, 2.85267830e-04, 1.17772818e-03, 3.60769033e-03,\n",
       "        4.06253338e-03, 1.28028393e-02, 3.74639034e-03, 2.38962173e-02,\n",
       "        2.25549340e-02, 9.14031267e-03, 2.68185139e-03, 3.56340408e-03,\n",
       "        3.67927551e-03, 3.35788727e-03, 2.93785334e-03, 3.83943319e-03,\n",
       "        3.84700298e-03, 6.94423914e-03, 4.95076180e-03, 2.31735706e-02,\n",
       "        9.97662544e-04, 1.75708532e-03, 7.61568546e-04, 2.53534317e-03,\n",
       "        2.01966166e-02, 3.64428759e-03, 3.76784801e-03, 3.57198715e-03,\n",
       "        3.86083126e-03, 3.10403109e-03, 2.10344791e-03, 2.82275677e-03,\n",
       "        2.42865086e-03, 1.54674053e-03, 1.01554394e-03, 7.31605291e-03,\n",
       "        3.89909744e-03, 2.47871876e-03, 2.21353769e-03, 3.22461128e-03,\n",
       "        3.81249189e-03, 3.81380320e-03, 7.05301762e-04, 3.70109081e-03,\n",
       "        2.61110067e-03, 8.83936882e-05, 3.35752964e-04, 2.60710716e-03,\n",
       "        2.94154882e-03, 5.32656908e-03, 2.25217342e-02, 4.82320786e-03,\n",
       "        3.90625000e-03, 3.34084034e-03, 5.44255972e-03, 4.87029552e-04,\n",
       "        8.12824368e-02, 1.23824477e-02, 2.76219845e-03, 1.47950649e-03,\n",
       "        1.11157298e-02, 2.42590904e-03, 1.15104139e-01, 3.87161970e-03,\n",
       "        3.90386581e-03, 3.84259224e-03, 3.90309095e-03, 1.82849169e-03,\n",
       "        1.45147443e-02, 3.90034914e-03, 3.73524427e-03, 3.70496511e-03,\n",
       "        3.43132019e-03, 5.43962717e-02, 4.14168835e-03, 3.16005945e-03,\n",
       "        5.21600246e-04, 1.27890706e-02, 3.88818979e-03, 2.52181292e-03,\n",
       "        1.14910603e-02, 3.10254097e-03, 2.24053860e-04, 2.05212831e-03,\n",
       "        3.73500586e-03, 1.25899315e-02, 2.60867476e-02, 1.66807175e-02,\n",
       "        4.76908684e-03, 4.64427471e-03, 3.90613079e-03, 3.85010242e-03,\n",
       "        3.26430798e-03, 3.90112400e-03, 1.17835045e-01, 3.88866663e-03,\n",
       "        1.56754255e-03, 4.77254391e-03, 3.90619040e-03, 3.90368700e-03,\n",
       "        6.85340464e-02, 3.81517410e-03, 7.65864849e-02, 4.49694395e-02,\n",
       "        1.65879726e-03, 1.44779682e-03, 2.45559216e-03, 3.88777256e-03,\n",
       "        3.87310982e-03, 3.95105183e-02, 1.35099888e-03, 3.18595171e-02,\n",
       "        4.50063944e-02, 4.52548265e-03, 8.72939825e-03, 3.84479761e-03,\n",
       "        1.68478489e-03, 3.48961353e-03, 3.21906805e-03, 3.80641222e-03,\n",
       "        8.23910832e-02, 3.89939547e-03, 1.40672922e-03, 1.72215700e-03,\n",
       "        2.36582756e-03, 3.90410423e-03, 3.89373302e-03, 1.50473714e-02,\n",
       "        3.90613079e-03, 3.63248587e-03, 1.81540847e-02, 2.89869308e-03,\n",
       "        2.82800198e-03, 2.24399567e-02, 3.90619040e-03, 2.03859806e-03,\n",
       "        3.90625000e-03, 8.89670849e-03, 3.90130281e-03, 1.13069415e-01,\n",
       "        3.86359096e-02, 1.21289492e-02, 3.81029844e-02, 2.05892324e-03,\n",
       "        6.69097900e-03, 3.88938189e-03, 3.89128923e-03, 1.63412094e-03,\n",
       "        2.32642889e-03, 3.09574604e-03, 3.38143110e-03, 6.47127628e-04,\n",
       "        3.90619040e-03, 1.93455815e-02, 2.88534164e-03, 2.74193287e-03,\n",
       "        1.68979168e-03, 3.11638713e-02, 8.03470612e-04, 1.24586821e-02,\n",
       "        4.38749790e-03, 3.41302156e-03, 1.83695555e-03, 2.29048729e-03,\n",
       "        9.50151682e-02, 4.22304869e-03, 2.13704109e-02, 9.04107094e-03,\n",
       "        2.58493423e-03, 3.89099121e-03, 2.13811398e-02, 3.08597088e-03,\n",
       "        5.37484884e-03, 1.55015588e-02, 1.24001503e-03, 3.88659239e-02,\n",
       "        3.37874889e-03, 1.63722038e-03, 2.61944532e-03, 4.01305556e-02,\n",
       "        2.56621838e-03, 3.90177965e-03, 1.73151493e-04, 3.87531519e-03,\n",
       "        1.58739090e-03, 3.88669968e-03, 3.87048721e-03, 1.46490335e-03,\n",
       "        8.68678093e-04, 1.76954269e-03, 8.51422548e-03, 2.42948532e-03,\n",
       "        1.91375017e-02, 7.26032257e-03, 3.90607119e-03, 1.54322386e-03,\n",
       "        3.88163328e-03, 3.69852781e-03, 8.65018368e-03, 1.49813890e-02,\n",
       "        3.88365984e-03, 1.31955743e-02, 3.83949280e-03, 3.39746475e-03,\n",
       "        1.49250031e-04, 7.07713366e-02, 1.49267912e-03, 7.44771957e-03,\n",
       "        4.56636548e-02, 3.89862061e-03, 3.32659483e-03, 3.28516960e-03,\n",
       "        5.57832122e-02, 3.30609083e-03, 2.76190042e-03, 5.92470169e-04,\n",
       "        3.90309095e-03, 3.73715162e-03, 5.37514687e-04, 2.40331888e-03,\n",
       "        5.97596169e-04, 2.99221277e-03, 3.89951468e-03, 2.65067816e-03,\n",
       "        2.05260515e-03, 9.07897949e-04, 4.09740210e-03, 1.86753273e-03,\n",
       "        3.24571133e-03, 3.69733572e-03, 3.04734707e-03, 3.05771828e-03,\n",
       "        3.60715389e-03, 2.38204002e-03, 3.57437134e-03, 3.90344858e-03,\n",
       "        2.40945816e-03, 1.38056278e-03, 3.56787443e-03, 1.99152231e-02,\n",
       "        3.73899937e-03, 6.82592392e-04, 2.14565396e-02, 4.04602289e-02,\n",
       "        9.53078270e-05, 3.88514996e-02, 3.90487909e-03, 3.36545706e-02,\n",
       "        3.76605988e-03, 3.57383490e-03, 3.83549929e-03, 3.16375494e-03,\n",
       "        1.96695328e-05, 1.05326772e-02, 2.18731165e-03, 1.34055018e-02,\n",
       "        4.72425669e-02, 2.84117460e-03, 3.45647335e-03, 3.89713049e-03,\n",
       "        3.12703848e-03, 3.41206789e-02, 6.86042309e-02, 1.32734179e-02,\n",
       "        2.58713961e-03, 3.90416384e-03, 3.53026390e-03, 1.93458796e-03,\n",
       "        6.04093075e-04, 4.96888161e-03, 3.90398502e-03, 1.57421827e-03,\n",
       "        3.21705937e-02, 3.23563814e-03, 3.49688530e-03, 2.20694542e-02,\n",
       "        6.64740503e-02, 3.90416384e-03, 3.89409065e-03, 3.90106440e-03,\n",
       "        1.83796287e-02, 1.21416450e-02, 1.76578760e-03, 1.70171261e-04,\n",
       "        3.83365154e-03, 8.88562202e-03, 7.83967972e-03, 3.90607119e-03,\n",
       "        2.29197741e-03, 1.21833086e-02, 9.07957554e-04, 3.79598141e-03,\n",
       "        3.79860401e-03, 3.04418802e-03, 3.75475287e-02, 5.62375784e-03,\n",
       "        3.90076637e-03, 5.84125519e-04, 3.42903733e-02, 3.90523672e-03,\n",
       "        6.46948814e-04, 1.92987919e-03, 1.76376104e-03, 3.89236212e-03,\n",
       "        3.43501568e-04, 2.58284807e-03, 6.89566135e-04, 4.05746698e-03,\n",
       "        3.72761488e-03, 3.46268937e-02, 6.00682497e-02, 8.86440277e-04,\n",
       "        8.30936432e-03, 6.46042824e-03, 9.67502594e-04, 1.27321482e-02,\n",
       "        2.84314156e-03, 1.02853775e-03, 2.84916162e-03, 3.85057926e-03,\n",
       "        3.84092331e-03, 7.35044479e-04, 2.69794464e-03, 1.21786594e-02,\n",
       "        1.61439180e-03, 3.83925438e-03, 2.11381912e-03, 2.68304348e-03,\n",
       "        7.41481781e-05, 1.32292509e-03, 1.52677298e-03, 2.04634666e-03,\n",
       "        1.41245127e-03, 2.77256966e-03, 3.90565395e-03, 1.19549632e-02,\n",
       "        1.51771307e-03, 3.89492512e-03, 3.23722363e-02, 3.87680531e-03,\n",
       "        2.50142813e-02, 3.88509035e-03, 3.87042761e-03, 7.75688887e-03,\n",
       "        6.95037842e-03, 3.90505791e-03, 3.90273333e-03, 5.03265858e-03,\n",
       "        3.71259451e-03, 3.85600328e-03, 3.88705730e-03, 3.13144922e-03,\n",
       "        3.87293100e-03, 7.67183304e-03, 3.89897823e-03, 1.04296803e-02,\n",
       "        3.69805098e-03, 8.99885222e-03, 2.93308496e-03, 3.12483311e-03,\n",
       "        1.64502859e-03, 1.00818872e-02, 2.97337770e-03, 4.57704067e-03,\n",
       "        1.75803900e-03, 3.50183249e-03, 3.89516354e-03, 5.84229827e-02,\n",
       "        3.72898579e-03, 2.90238857e-03, 1.71266198e-02, 2.04628706e-03,\n",
       "        1.68025494e-03, 2.27552652e-03, 5.16712666e-04, 2.16066837e-04,\n",
       "        3.27318907e-03, 1.34950876e-03, 1.12150908e-02, 8.05318356e-04,\n",
       "        4.17935848e-03, 1.99866295e-03, 1.24893785e-02, 2.18451023e-04,\n",
       "        2.22965479e-02, 3.60316038e-03, 9.40978527e-04, 3.86333466e-03,\n",
       "        1.84879303e-02, 4.15378809e-03, 4.67009544e-02, 2.56240368e-03,\n",
       "        3.69858742e-03, 4.23157215e-03, 3.59565020e-03, 3.25763226e-03,\n",
       "        1.15895271e-03, 3.82494926e-03, 3.45933437e-03, 3.80289555e-03,\n",
       "        3.67051363e-03, 2.74384618e-02, 3.89134884e-03, 3.90386581e-03,\n",
       "        3.56912613e-03, 5.00901565e-02, 1.25950575e-03, 8.24183226e-03,\n",
       "        2.55882740e-04, 1.36131048e-03, 3.89647484e-03, 6.44230843e-03,\n",
       "        3.85844707e-03, 3.77637148e-03, 6.94048405e-03, 2.95531750e-03,\n",
       "        5.80072403e-03, 1.63496435e-02, 3.80152464e-03, 4.27860022e-03,\n",
       "        2.74783373e-03, 5.20002246e-02, 3.40795517e-03, 4.68951464e-03,\n",
       "        2.61863470e-02, 3.72940302e-03, 3.87513638e-03, 5.06584644e-02,\n",
       "        1.62166357e-03, 1.85370445e-03, 3.76701355e-03, 3.80837917e-03,\n",
       "        1.84732676e-03, 1.11292005e-02, 3.88813019e-03, 3.39084864e-03,\n",
       "        6.08682632e-04, 7.90049434e-02, 9.04691219e-03, 3.21114063e-03,\n",
       "        1.01146698e-02, 9.74798203e-03, 3.89456749e-03, 3.48978341e-02,\n",
       "        4.98336554e-03, 3.43322754e-04, 2.06480622e-02, 5.88369370e-03,\n",
       "        5.06520271e-04, 1.35465264e-02, 6.35755062e-03, 2.67148018e-03,\n",
       "        6.43843412e-03, 3.90607119e-03, 2.41881609e-03, 3.77357006e-03,\n",
       "        1.31785870e-03, 3.76331806e-03, 4.18382883e-03, 3.64637375e-03,\n",
       "        2.17318535e-04, 3.90625000e-03, 3.90619040e-03, 3.90577316e-03,\n",
       "        1.58131123e-04, 3.41749191e-03, 3.90028954e-03, 1.37704611e-03,\n",
       "        2.59326100e-02, 3.05451751e-02, 3.88139486e-03, 3.99218202e-02,\n",
       "        6.78896904e-04, 3.90625000e-03, 1.14318728e-02, 2.48810053e-02,\n",
       "        1.23611093e-02, 6.72078133e-03, 5.24103642e-03, 2.81226635e-03,\n",
       "        1.21161342e-02, 3.59839201e-03, 2.92730331e-03, 6.33418560e-04,\n",
       "        1.72638893e-03, 3.90076637e-03, 9.79363918e-04, 2.35916376e-02,\n",
       "        6.09630346e-03, 3.86828184e-03, 3.06177139e-03, 3.88646126e-03,\n",
       "        3.33374739e-03, 3.45933437e-03, 2.73570418e-03, 3.62902880e-03,\n",
       "        2.00557709e-03, 2.92890072e-02, 2.73466110e-03, 1.31332874e-03,\n",
       "        3.01092863e-03, 3.80361080e-03, 2.08163261e-03, 8.23616982e-04,\n",
       "        6.13033772e-04, 7.82163441e-02, 3.79484892e-03, 3.83687019e-03,\n",
       "        3.77601385e-03, 3.84795666e-03, 3.76594067e-03, 3.90595198e-03,\n",
       "        3.20738554e-03, 3.85087729e-03, 3.05795670e-03, 3.89617682e-03],\n",
       "       dtype=float32),\n",
       " 'abs_mean': 0.0114318095,\n",
       " 'abs_std': 0.018905815}"
      ]
     },
     "execution_count": 11,
     "metadata": {},
     "output_type": "execute_result"
    }
   ],
   "source": [
    "trainer.quantization_error(train_set)"
   ]
  },
  {
   "cell_type": "markdown",
   "metadata": {},
   "source": [
    "## Evaluate results"
   ]
  },
  {
   "cell_type": "code",
   "execution_count": 12,
   "metadata": {},
   "outputs": [
    {
     "name": "stdout",
     "output_type": "stream",
     "text": [
      "qt_Train_Metrics\n",
      " {'qt_Train_recall': 0.9776119402985075, 'qt_Train_acc': 0.9753363228699552, 'qt_Train_precision': 0.9812734082397003}\n",
      "Confusion matrix Train \n",
      " [[346  10]\n",
      " [ 12 524]]\n",
      "Errors list Train \n",
      " ['../dataset/resize_128/train/0_utilizavel/utiliza (224).jpeg', '../dataset/resize_128/train/0_utilizavel/utiliza (3).jpeg', '../dataset/resize_128/train/0_utilizavel/utiliza (301).jpeg', '../dataset/resize_128/train/0_utilizavel/utiliza (325).jpeg', '../dataset/resize_128/train/0_utilizavel/utiliza (343).jpeg', '../dataset/resize_128/train/0_utilizavel/utiliza (357).jpeg', '../dataset/resize_128/train/0_utilizavel/utiliza (370).jpeg', '../dataset/resize_128/train/0_utilizavel/utiliza (407).jpeg', '../dataset/resize_128/train/0_utilizavel/utiliza (47).jpeg', '../dataset/resize_128/train/0_utilizavel/utiliza (76).jpeg', '../dataset/resize_128/train/1_defeituoso/defeito (303).jpeg', '../dataset/resize_128/train/1_defeituoso/defeito (328).jpeg', '../dataset/resize_128/train/1_defeituoso/defeito (336).jpeg', '../dataset/resize_128/train/1_defeituoso/defeito (469).jpeg', '../dataset/resize_128/train/1_defeituoso/defeito (487).jpeg', '../dataset/resize_128/train/1_defeituoso/defeito (516).jpeg', '../dataset/resize_128/train/1_defeituoso/defeito (56).jpeg', '../dataset/resize_128/train/1_defeituoso/defeito (602).jpeg', '../dataset/resize_128/train/1_defeituoso/defeito (613).jpeg', '../dataset/resize_128/train/1_defeituoso/defeito (637).jpeg', '../dataset/resize_128/train/1_defeituoso/defeito (8).jpeg', '../dataset/resize_128/train/1_defeituoso/defeito (9).jpeg']\n",
      "qt_Validation_Metrics\n",
      " {'qt_Validation_recall': 0.9776119402985075, 'qt_Validation_acc': 0.9774774774774775, 'qt_Validation_precision': 0.9849624060150376}\n",
      "Confusion matrix Validation \n",
      " [[ 86   2]\n",
      " [  3 131]]\n",
      "Errors list Validation \n",
      " ['../dataset/resize_128/train/0_utilizavel/utiliza (128).jpeg', '../dataset/resize_128/train/0_utilizavel/utiliza (149).jpeg', '../dataset/resize_128/train/1_defeituoso/defeito (100).jpeg', '../dataset/resize_128/train/1_defeituoso/defeito (131).jpeg', '../dataset/resize_128/train/1_defeituoso/defeito (194).jpeg']\n"
     ]
    },
    {
     "data": {
      "image/png": "[encoded data removed]",
      "text/plain": [
       "<Figure size 640x480 with 1 Axes>"
      ]
     },
     "metadata": {},
     "output_type": "display_data"
    },
    {
     "data": {
      "image/png": "[encoded data removed]",
      "text/plain": [
       "<Figure size 640x480 with 1 Axes>"
      ]
     },
     "metadata": {},
     "output_type": "display_data"
    }
   ],
   "source": [
    "for name, set in zip([\"Train\", \"Validation\"], [train_set, val_set]):\n",
    "    trainer.get_confusion_matrix(set, name, \"qt\")\n",
    "    trainer.get_errors(set, name, \"qt\", draw_errors=DRAW)"
   ]
  },
  {
   "cell_type": "markdown",
   "metadata": {},
   "source": [
    "# END LOGGER RUN"
   ]
  },
  {
   "cell_type": "code",
   "execution_count": 13,
   "metadata": {},
   "outputs": [],
   "source": [
    "trainer.end_run()"
   ]
  }
 ],
 "metadata": {
  "kernelspec": {
   "display_name": "0_env_tcc",
   "language": "python",
   "name": "python3"
  },
  "language_info": {
   "codemirror_mode": {
    "name": "ipython",
    "version": 3
   },
   "file_extension": ".py",
   "mimetype": "text/x-python",
   "name": "python",
   "nbconvert_exporter": "python",
   "pygments_lexer": "ipython3",
   "version": "3.9.2"
  },
  "orig_nbformat": 4
 },
 "nbformat": 4,
 "nbformat_minor": 2
}
