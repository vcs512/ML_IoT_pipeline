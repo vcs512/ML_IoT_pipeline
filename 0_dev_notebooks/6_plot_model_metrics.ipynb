{
 "cells": [
  {
   "cell_type": "markdown",
   "metadata": {},
   "source": [
    "# IMPORTS"
   ]
  },
  {
   "cell_type": "code",
   "execution_count": 27,
   "metadata": {},
   "outputs": [],
   "source": [
    "import numpy as np\n",
    "import pandas as pd\n",
    "import pickle\n",
    "\n",
    "import matplotlib.pyplot as plt\n",
    "import seaborn as sns\n",
    "import bokeh.plotting\n",
    "from bokeh.models import PanTool,\\\n",
    "                        BoxZoomTool,\\\n",
    "                        HoverTool,\\\n",
    "                        ResetTool,\\\n",
    "                        SaveTool,\\\n",
    "                        Legend\n",
    "from bokeh.io import output_notebook"
   ]
  },
  {
   "cell_type": "markdown",
   "metadata": {},
   "source": [
    "## Plots style"
   ]
  },
  {
   "cell_type": "code",
   "execution_count": 2,
   "metadata": {},
   "outputs": [
    {
     "data": {
      "text/html": [
       "<style>\n",
       "        .bk-notebook-logo {\n",
       "            display: block;\n",
       "            width: 20px;\n",
       "            height: 20px;\n",
       "            background-image: url(data:image/png;base64,iVBORw0KGgoAAAANSUhEUgAAABQAAAAUCAYAAACNiR0NAAAABHNCSVQICAgIfAhkiAAAAAlwSFlzAAALEgAACxIB0t1+/AAAABx0RVh0U29mdHdhcmUAQWRvYmUgRmlyZXdvcmtzIENTNui8sowAAAOkSURBVDiNjZRtaJVlGMd/1/08zzln5zjP1LWcU9N0NkN8m2CYjpgQYQXqSs0I84OLIC0hkEKoPtiH3gmKoiJDU7QpLgoLjLIQCpEsNJ1vqUOdO7ppbuec5+V+rj4ctwzd8IIbbi6u+8f1539dt3A78eXC7QizUF7gyV1fD1Yqg4JWz84yffhm0qkFqBogB9rM8tZdtwVsPUhWhGcFJngGeWrPzHm5oaMmkfEg1usvLFyc8jLRqDOMru7AyC8saQr7GG7f5fvDeH7Ej8CM66nIF+8yngt6HWaKh7k49Soy9nXurCi1o3qUbS3zWfrYeQDTB/Qj6kX6Ybhw4B+bOYoLKCC9H3Nu/leUTZ1JdRWkkn2ldcCamzrcf47KKXdAJllSlxAOkRgyHsGC/zRday5Qld9DyoM4/q/rUoy/CXh3jzOu3bHUVZeU+DEn8FInkPBFlu3+nW3Nw0mk6vCDiWg8CeJaxEwuHS3+z5RgY+YBR6V1Z1nxSOfoaPa4LASWxxdNp+VWTk7+4vzaou8v8PN+xo+KY2xsw6une2frhw05CTYOmQvsEhjhWjn0bmXPjpE1+kplmmkP3suftwTubK9Vq22qKmrBhpY4jvd5afdRA3wGjFAgcnTK2s4hY0/GPNIb0nErGMCRxWOOX64Z8RAC4oCXdklmEvcL8o0BfkNK4lUg9HTl+oPlQxdNo3Mg4Nv175e/1LDGzZen30MEjRUtmXSfiTVu1kK8W4txyV6BMKlbgk3lMwYCiusNy9fVfvvwMxv8Ynl6vxoByANLTWplvuj/nF9m2+PDtt1eiHPBr1oIfhCChQMBw6Aw0UulqTKZdfVvfG7VcfIqLG9bcldL/+pdWTLxLUy8Qq38heUIjh4XlzZxzQm19lLFlr8vdQ97rjZVOLf8nclzckbcD4wxXMidpX30sFd37Fv/GtwwhzhxGVAprjbg0gCAEeIgwCZyTV2Z1REEW8O4py0wsjeloKoMr6iCY6dP92H6Vw/oTyICIthibxjm/DfN9lVz8IqtqKYLUXfoKVMVQVVJOElGjrnnUt9T9wbgp8AyYKaGlqingHZU/uG2NTZSVqwHQTWkx9hxjkpWDaCg6Ckj5qebgBVbT3V3NNXMSiWSDdGV3hrtzla7J+duwPOToIg42ChPQOQjspnSlp1V+Gjdged7+8UN5CRAV7a5EdFNwCjEaBR27b3W890TE7g24NAP/mMDXRWrGoFPQI9ls/MWO2dWFAar/xcOIImbbpA3zgAAAABJRU5ErkJggg==);\n",
       "        }\n",
       "    </style>\n",
       "    <div>\n",
       "        <a href=\"https://bokeh.org\" target=\"_blank\" class=\"bk-notebook-logo\"></a>\n",
       "        <span id=\"dc5e7523-f33f-4470-b375-72172ee910c2\">Loading BokehJS ...</span>\n",
       "    </div>\n"
      ]
     },
     "metadata": {},
     "output_type": "display_data"
    },
    {
     "data": {
      "application/javascript": "(function(root) {\n  function now() {\n    return new Date();\n  }\n\n  const force = true;\n\n  if (typeof root._bokeh_onload_callbacks === \"undefined\" || force === true) {\n    root._bokeh_onload_callbacks = [];\n    root._bokeh_is_loading = undefined;\n  }\n\nconst JS_MIME_TYPE = 'application/javascript';\n  const HTML_MIME_TYPE = 'text/html';\n  const EXEC_MIME_TYPE = 'application/vnd.bokehjs_exec.v0+json';\n  const CLASS_NAME = 'output_bokeh rendered_html';\n\n  /**\n   * Render data to the DOM node\n   */\n  function render(props, node) {\n    const script = document.createElement(\"script\");\n    node.appendChild(script);\n  }\n\n  /**\n   * Handle when an output is cleared or removed\n   */\n  function handleClearOutput(event, handle) {\n    const cell = handle.cell;\n\n    const id = cell.output_area._bokeh_element_id;\n    const server_id = cell.output_area._bokeh_server_id;\n    // Clean up Bokeh references\n    if (id != null && id in Bokeh.index) {\n      Bokeh.index[id].model.document.clear();\n      delete Bokeh.index[id];\n    }\n\n    if (server_id !== undefined) {\n      // Clean up Bokeh references\n      const cmd_clean = \"from bokeh.io.state import curstate; print(curstate().uuid_to_server['\" + server_id + \"'].get_sessions()[0].document.roots[0]._id)\";\n      cell.notebook.kernel.execute(cmd_clean, {\n        iopub: {\n          output: function(msg) {\n            const id = msg.content.text.trim();\n            if (id in Bokeh.index) {\n              Bokeh.index[id].model.document.clear();\n              delete Bokeh.index[id];\n            }\n          }\n        }\n      });\n      // Destroy server and session\n      const cmd_destroy = \"import bokeh.io.notebook as ion; ion.destroy_server('\" + server_id + \"')\";\n      cell.notebook.kernel.execute(cmd_destroy);\n    }\n  }\n\n  /**\n   * Handle when a new output is added\n   */\n  function handleAddOutput(event, handle) {\n    const output_area = handle.output_area;\n    const output = handle.output;\n\n    // limit handleAddOutput to display_data with EXEC_MIME_TYPE content only\n    if ((output.output_type != \"display_data\") || (!Object.prototype.hasOwnProperty.call(output.data, EXEC_MIME_TYPE))) {\n      return\n    }\n\n    const toinsert = output_area.element.find(\".\" + CLASS_NAME.split(' ')[0]);\n\n    if (output.metadata[EXEC_MIME_TYPE][\"id\"] !== undefined) {\n      toinsert[toinsert.length - 1].firstChild.textContent = output.data[JS_MIME_TYPE];\n      // store reference to embed id on output_area\n      output_area._bokeh_element_id = output.metadata[EXEC_MIME_TYPE][\"id\"];\n    }\n    if (output.metadata[EXEC_MIME_TYPE][\"server_id\"] !== undefined) {\n      const bk_div = document.createElement(\"div\");\n      bk_div.innerHTML = output.data[HTML_MIME_TYPE];\n      const script_attrs = bk_div.children[0].attributes;\n      for (let i = 0; i < script_attrs.length; i++) {\n        toinsert[toinsert.length - 1].firstChild.setAttribute(script_attrs[i].name, script_attrs[i].value);\n        toinsert[toinsert.length - 1].firstChild.textContent = bk_div.children[0].textContent\n      }\n      // store reference to server id on output_area\n      output_area._bokeh_server_id = output.metadata[EXEC_MIME_TYPE][\"server_id\"];\n    }\n  }\n\n  function register_renderer(events, OutputArea) {\n\n    function append_mime(data, metadata, element) {\n      // create a DOM node to render to\n      const toinsert = this.create_output_subarea(\n        metadata,\n        CLASS_NAME,\n        EXEC_MIME_TYPE\n      );\n      this.keyboard_manager.register_events(toinsert);\n      // Render to node\n      const props = {data: data, metadata: metadata[EXEC_MIME_TYPE]};\n      render(props, toinsert[toinsert.length - 1]);\n      element.append(toinsert);\n      return toinsert\n    }\n\n    /* Handle when an output is cleared or removed */\n    events.on('clear_output.CodeCell', handleClearOutput);\n    events.on('delete.Cell', handleClearOutput);\n\n    /* Handle when a new output is added */\n    events.on('output_added.OutputArea', handleAddOutput);\n\n    /**\n     * Register the mime type and append_mime function with output_area\n     */\n    OutputArea.prototype.register_mime_type(EXEC_MIME_TYPE, append_mime, {\n      /* Is output safe? */\n      safe: true,\n      /* Index of renderer in `output_area.display_order` */\n      index: 0\n    });\n  }\n\n  // register the mime type if in Jupyter Notebook environment and previously unregistered\n  if (root.Jupyter !== undefined) {\n    const events = require('base/js/events');\n    const OutputArea = require('notebook/js/outputarea').OutputArea;\n\n    if (OutputArea.prototype.mime_types().indexOf(EXEC_MIME_TYPE) == -1) {\n      register_renderer(events, OutputArea);\n    }\n  }\n  if (typeof (root._bokeh_timeout) === \"undefined\" || force === true) {\n    root._bokeh_timeout = Date.now() + 5000;\n    root._bokeh_failed_load = false;\n  }\n\n  const NB_LOAD_WARNING = {'data': {'text/html':\n     \"<div style='background-color: #fdd'>\\n\"+\n     \"<p>\\n\"+\n     \"BokehJS does not appear to have successfully loaded. If loading BokehJS from CDN, this \\n\"+\n     \"may be due to a slow or bad network connection. Possible fixes:\\n\"+\n     \"</p>\\n\"+\n     \"<ul>\\n\"+\n     \"<li>re-rerun `output_notebook()` to attempt to load from CDN again, or</li>\\n\"+\n     \"<li>use INLINE resources instead, as so:</li>\\n\"+\n     \"</ul>\\n\"+\n     \"<code>\\n\"+\n     \"from bokeh.resources import INLINE\\n\"+\n     \"output_notebook(resources=INLINE)\\n\"+\n     \"</code>\\n\"+\n     \"</div>\"}};\n\n  function display_loaded() {\n    const el = document.getElementById(\"dc5e7523-f33f-4470-b375-72172ee910c2\");\n    if (el != null) {\n      el.textContent = \"BokehJS is loading...\";\n    }\n    if (root.Bokeh !== undefined) {\n      if (el != null) {\n        el.textContent = \"BokehJS \" + root.Bokeh.version + \" successfully loaded.\";\n      }\n    } else if (Date.now() < root._bokeh_timeout) {\n      setTimeout(display_loaded, 100)\n    }\n  }\n\n  function run_callbacks() {\n    try {\n      root._bokeh_onload_callbacks.forEach(function(callback) {\n        if (callback != null)\n          callback();\n      });\n    } finally {\n      delete root._bokeh_onload_callbacks\n    }\n    console.debug(\"Bokeh: all callbacks have finished\");\n  }\n\n  function load_libs(css_urls, js_urls, callback) {\n    if (css_urls == null) css_urls = [];\n    if (js_urls == null) js_urls = [];\n\n    root._bokeh_onload_callbacks.push(callback);\n    if (root._bokeh_is_loading > 0) {\n      console.debug(\"Bokeh: BokehJS is being loaded, scheduling callback at\", now());\n      return null;\n    }\n    if (js_urls == null || js_urls.length === 0) {\n      run_callbacks();\n      return null;\n    }\n    console.debug(\"Bokeh: BokehJS not loaded, scheduling load and callback at\", now());\n    root._bokeh_is_loading = css_urls.length + js_urls.length;\n\n    function on_load() {\n      root._bokeh_is_loading--;\n      if (root._bokeh_is_loading === 0) {\n        console.debug(\"Bokeh: all BokehJS libraries/stylesheets loaded\");\n        run_callbacks()\n      }\n    }\n\n    function on_error(url) {\n      console.error(\"failed to load \" + url);\n    }\n\n    for (let i = 0; i < css_urls.length; i++) {\n      const url = css_urls[i];\n      const element = document.createElement(\"link\");\n      element.onload = on_load;\n      element.onerror = on_error.bind(null, url);\n      element.rel = \"stylesheet\";\n      element.type = \"text/css\";\n      element.href = url;\n      console.debug(\"Bokeh: injecting link tag for BokehJS stylesheet: \", url);\n      document.body.appendChild(element);\n    }\n\n    for (let i = 0; i < js_urls.length; i++) {\n      const url = js_urls[i];\n      const element = document.createElement('script');\n      element.onload = on_load;\n      element.onerror = on_error.bind(null, url);\n      element.async = false;\n      element.src = url;\n      console.debug(\"Bokeh: injecting script tag for BokehJS library: \", url);\n      document.head.appendChild(element);\n    }\n  };\n\n  function inject_raw_css(css) {\n    const element = document.createElement(\"style\");\n    element.appendChild(document.createTextNode(css));\n    document.body.appendChild(element);\n  }\n\n  const js_urls = [\"https://cdn.bokeh.org/bokeh/release/bokeh-3.2.2.min.js\", \"https://cdn.bokeh.org/bokeh/release/bokeh-gl-3.2.2.min.js\", \"https://cdn.bokeh.org/bokeh/release/bokeh-widgets-3.2.2.min.js\", \"https://cdn.bokeh.org/bokeh/release/bokeh-tables-3.2.2.min.js\", \"https://cdn.bokeh.org/bokeh/release/bokeh-mathjax-3.2.2.min.js\"];\n  const css_urls = [];\n\n  const inline_js = [    function(Bokeh) {\n      Bokeh.set_log_level(\"info\");\n    },\nfunction(Bokeh) {\n    }\n  ];\n\n  function run_inline_js() {\n    if (root.Bokeh !== undefined || force === true) {\n          for (let i = 0; i < inline_js.length; i++) {\n      inline_js[i].call(root, root.Bokeh);\n    }\nif (force === true) {\n        display_loaded();\n      }} else if (Date.now() < root._bokeh_timeout) {\n      setTimeout(run_inline_js, 100);\n    } else if (!root._bokeh_failed_load) {\n      console.log(\"Bokeh: BokehJS failed to load within specified timeout.\");\n      root._bokeh_failed_load = true;\n    } else if (force !== true) {\n      const cell = $(document.getElementById(\"dc5e7523-f33f-4470-b375-72172ee910c2\")).parents('.cell').data().cell;\n      cell.output_area.append_execute_result(NB_LOAD_WARNING)\n    }\n  }\n\n  if (root._bokeh_is_loading === 0) {\n    console.debug(\"Bokeh: BokehJS loaded, going straight to plotting\");\n    run_inline_js();\n  } else {\n    load_libs(css_urls, js_urls, function() {\n      console.debug(\"Bokeh: BokehJS plotting callback run at\", now());\n      run_inline_js();\n    });\n  }\n}(window));",
      "application/vnd.bokehjs_load.v0+json": ""
     },
     "metadata": {},
     "output_type": "display_data"
    }
   ],
   "source": [
    "# ploting\n",
    "plt.rc('legend',fontsize='large')\n",
    "plt.rc('lines', linewidth=2)\n",
    "plt.rcParams.update({'axes.facecolor':'white'})\n",
    "\n",
    "bokeh_tools = [PanTool(),\n",
    "               BoxZoomTool(),\n",
    "               HoverTool(),\n",
    "               ResetTool(),\n",
    "               SaveTool()]\n",
    "output_notebook()"
   ]
  },
  {
   "cell_type": "markdown",
   "metadata": {},
   "source": [
    "# TRAINING and VALIDATION"
   ]
  },
  {
   "cell_type": "code",
   "execution_count": 3,
   "metadata": {},
   "outputs": [
    {
     "data": {
      "text/html": [
       "<div>\n",
       "<style scoped>\n",
       "    .dataframe tbody tr th:only-of-type {\n",
       "        vertical-align: middle;\n",
       "    }\n",
       "\n",
       "    .dataframe tbody tr th {\n",
       "        vertical-align: top;\n",
       "    }\n",
       "\n",
       "    .dataframe thead th {\n",
       "        text-align: right;\n",
       "    }\n",
       "</style>\n",
       "<table border=\"1\" class=\"dataframe\">\n",
       "  <thead>\n",
       "    <tr style=\"text-align: right;\">\n",
       "      <th></th>\n",
       "      <th>loss</th>\n",
       "      <th>recall</th>\n",
       "      <th>binary_accuracy</th>\n",
       "      <th>precision</th>\n",
       "      <th>false_negatives</th>\n",
       "      <th>false_positives</th>\n",
       "      <th>val_loss</th>\n",
       "      <th>val_recall</th>\n",
       "      <th>val_binary_accuracy</th>\n",
       "      <th>val_precision</th>\n",
       "      <th>val_false_negatives</th>\n",
       "      <th>val_false_positives</th>\n",
       "      <th>epoch</th>\n",
       "    </tr>\n",
       "  </thead>\n",
       "  <tbody>\n",
       "    <tr>\n",
       "      <th>35</th>\n",
       "      <td>0.182172</td>\n",
       "      <td>0.932836</td>\n",
       "      <td>0.922646</td>\n",
       "      <td>0.938086</td>\n",
       "      <td>36.0</td>\n",
       "      <td>33.0</td>\n",
       "      <td>0.213490</td>\n",
       "      <td>0.880597</td>\n",
       "      <td>0.909910</td>\n",
       "      <td>0.967213</td>\n",
       "      <td>16.0</td>\n",
       "      <td>4.0</td>\n",
       "      <td>36</td>\n",
       "    </tr>\n",
       "    <tr>\n",
       "      <th>36</th>\n",
       "      <td>0.168861</td>\n",
       "      <td>0.938433</td>\n",
       "      <td>0.924888</td>\n",
       "      <td>0.936685</td>\n",
       "      <td>33.0</td>\n",
       "      <td>34.0</td>\n",
       "      <td>0.189256</td>\n",
       "      <td>0.947761</td>\n",
       "      <td>0.918919</td>\n",
       "      <td>0.920290</td>\n",
       "      <td>7.0</td>\n",
       "      <td>11.0</td>\n",
       "      <td>37</td>\n",
       "    </tr>\n",
       "    <tr>\n",
       "      <th>37</th>\n",
       "      <td>0.185946</td>\n",
       "      <td>0.942164</td>\n",
       "      <td>0.928251</td>\n",
       "      <td>0.938662</td>\n",
       "      <td>31.0</td>\n",
       "      <td>33.0</td>\n",
       "      <td>0.165006</td>\n",
       "      <td>0.888060</td>\n",
       "      <td>0.927928</td>\n",
       "      <td>0.991667</td>\n",
       "      <td>15.0</td>\n",
       "      <td>1.0</td>\n",
       "      <td>38</td>\n",
       "    </tr>\n",
       "    <tr>\n",
       "      <th>38</th>\n",
       "      <td>0.175806</td>\n",
       "      <td>0.932836</td>\n",
       "      <td>0.933856</td>\n",
       "      <td>0.956023</td>\n",
       "      <td>36.0</td>\n",
       "      <td>23.0</td>\n",
       "      <td>0.138138</td>\n",
       "      <td>0.985075</td>\n",
       "      <td>0.932432</td>\n",
       "      <td>0.910345</td>\n",
       "      <td>2.0</td>\n",
       "      <td>13.0</td>\n",
       "      <td>39</td>\n",
       "    </tr>\n",
       "    <tr>\n",
       "      <th>39</th>\n",
       "      <td>0.202713</td>\n",
       "      <td>0.927239</td>\n",
       "      <td>0.920404</td>\n",
       "      <td>0.939508</td>\n",
       "      <td>39.0</td>\n",
       "      <td>32.0</td>\n",
       "      <td>0.116051</td>\n",
       "      <td>0.962687</td>\n",
       "      <td>0.963964</td>\n",
       "      <td>0.977273</td>\n",
       "      <td>5.0</td>\n",
       "      <td>3.0</td>\n",
       "      <td>40</td>\n",
       "    </tr>\n",
       "  </tbody>\n",
       "</table>\n",
       "</div>"
      ],
      "text/plain": [
       "        loss    recall  binary_accuracy  precision  false_negatives  \\\n",
       "35  0.182172  0.932836         0.922646   0.938086             36.0   \n",
       "36  0.168861  0.938433         0.924888   0.936685             33.0   \n",
       "37  0.185946  0.942164         0.928251   0.938662             31.0   \n",
       "38  0.175806  0.932836         0.933856   0.956023             36.0   \n",
       "39  0.202713  0.927239         0.920404   0.939508             39.0   \n",
       "\n",
       "    false_positives  val_loss  val_recall  val_binary_accuracy  val_precision  \\\n",
       "35             33.0  0.213490    0.880597             0.909910       0.967213   \n",
       "36             34.0  0.189256    0.947761             0.918919       0.920290   \n",
       "37             33.0  0.165006    0.888060             0.927928       0.991667   \n",
       "38             23.0  0.138138    0.985075             0.932432       0.910345   \n",
       "39             32.0  0.116051    0.962687             0.963964       0.977273   \n",
       "\n",
       "    val_false_negatives  val_false_positives  epoch  \n",
       "35                 16.0                  4.0     36  \n",
       "36                  7.0                 11.0     37  \n",
       "37                 15.0                  1.0     38  \n",
       "38                  2.0                 13.0     39  \n",
       "39                  5.0                  3.0     40  "
      ]
     },
     "execution_count": 3,
     "metadata": {},
     "output_type": "execute_result"
    }
   ],
   "source": [
    "with open('../model/history.pkl', 'rb') as file:\n",
    "    history = pickle.load(file)\n",
    "\n",
    "# turn in dataframe, concat epoch column.\n",
    "history_df = pd.DataFrame(history)\n",
    "epochs_col = np.arange(history_df.shape[0]) + 1\n",
    "history_df = pd.concat([history_df,\n",
    "                        pd.DataFrame({\"epoch\": epochs_col})],\n",
    "                       axis=1)\n",
    "history_df.tail()"
   ]
  },
  {
   "cell_type": "code",
   "execution_count": 4,
   "metadata": {},
   "outputs": [
    {
     "name": "stdout",
     "output_type": "stream",
     "text": [
      "Index(['loss', 'recall', 'binary_accuracy', 'precision', 'false_negatives',\n",
      "       'false_positives', 'val_loss', 'val_recall', 'val_binary_accuracy',\n",
      "       'val_precision', 'val_false_negatives', 'val_false_positives', 'epoch'],\n",
      "      dtype='object')\n"
     ]
    }
   ],
   "source": [
    "print(history_df.columns)"
   ]
  },
  {
   "cell_type": "markdown",
   "metadata": {},
   "source": [
    "## Plotting function"
   ]
  },
  {
   "cell_type": "code",
   "execution_count": 91,
   "metadata": {},
   "outputs": [],
   "source": [
    "def get_line_plot(x_data: pd.Series,\n",
    "                  y1_data: pd.Series,\n",
    "                  y2_data: pd.Series,\n",
    "                  title: str) -> None:\n",
    "    \"\"\"\n",
    "    Plot line graph for y1_data and y2_data.\n",
    "    \"\"\"\n",
    "    fig = bokeh.plotting.figure(\n",
    "        title=f\"Model {title}\",\n",
    "        x_axis_label=\"Epoch\",\n",
    "        y_axis_label=f\"{title}\",\n",
    "        height=400,\n",
    "        width=1000,\n",
    "        tools=bokeh_tools\n",
    "    )\n",
    "\n",
    "    fig.title.text_font_size = '20pt'\n",
    "    fig.xaxis.axis_label_text_font_size = \"15pt\"\n",
    "    fig.yaxis.axis_label_text_font_size = \"15pt\"\n",
    "    fig.yaxis.major_label_text_font_size = \"12pt\"\n",
    "    fig.xaxis.major_label_text_font_size = \"12pt\"\n",
    "\n",
    "    fig.line(x_data,\n",
    "             y1_data,\n",
    "             legend_label=f\"Training {title}\",\n",
    "             line_width=2,\n",
    "             color='blue'\n",
    "            )\n",
    "    fig.line(x_data,\n",
    "             y2_data,\n",
    "             legend_label=f\"Validation {title}\",\n",
    "             line_width=2,\n",
    "             color='red'\n",
    "             )\n",
    "\n",
    "    fig.legend.location = 'right'\n",
    "\n",
    "    bokeh.plotting.show(fig)"
   ]
  },
  {
   "cell_type": "markdown",
   "metadata": {},
   "source": [
    "## Errors function"
   ]
  },
  {
   "cell_type": "code",
   "execution_count": 92,
   "metadata": {},
   "outputs": [],
   "source": [
    "def get_diff(train_data: pd.Series,\n",
    "             val_data: pd.Series,\n",
    "             number_last_values: int) -> dict:\n",
    "    \"\"\"\n",
    "    Return dict with error metrics.\n",
    "    \"\"\"\n",
    "    diff = np.array(val_data[-number_last_values:]\n",
    "                    - train_data[-number_last_values:])\n",
    "    mean_diff = np.mean(diff)\n",
    "    std_diff = np.std(diff)\n",
    "    max_diff = np.max(diff)\n",
    "    min_diff = np.min(diff)\n",
    "    \n",
    "    abs_diff = np.abs(diff)\n",
    "    abs_mean_diff = np.mean(abs_diff)\n",
    "    abs_std_diff = np.std(abs_diff)\n",
    "    abs_max_diff = np.max(abs_diff)\n",
    "    abs_min_diff = np.min(abs_diff)\n",
    "    \n",
    "    metrics = dict(\n",
    "        mean_diff=mean_diff,\n",
    "        std_diff=std_diff,\n",
    "        max_diff=max_diff,\n",
    "        min_diff=min_diff,\n",
    "        abs_mean_diff=abs_mean_diff,\n",
    "        abs_std_diff=abs_std_diff,\n",
    "        abs_max_diff=abs_max_diff,\n",
    "        abs_min_diff=abs_min_diff\n",
    "    )\n",
    "    \n",
    "    return [metrics]"
   ]
  },
  {
   "cell_type": "markdown",
   "metadata": {},
   "source": [
    "## Metrics"
   ]
  },
  {
   "cell_type": "code",
   "execution_count": 93,
   "metadata": {},
   "outputs": [
    {
     "data": {
      "text/html": [
       "\n",
       "  <div id=\"cb2db344-3395-48bc-9a10-b53ddbcc8d13\" data-root-id=\"p1707\" style=\"display: contents;\"></div>\n"
      ]
     },
     "metadata": {},
     "output_type": "display_data"
    },
    {
     "data": {
      "application/javascript": "(function(root) {\n  function embed_document(root) {\n  const docs_json = {\"cbca5857-fc2d-4040-97d1-3c25d93ef431\":{\"version\":\"3.2.2\",\"title\":\"Bokeh Application\",\"roots\":[{\"type\":\"object\",\"name\":\"Figure\",\"id\":\"p1707\",\"attributes\":{\"width\":1000,\"height\":400,\"x_range\":{\"type\":\"object\",\"name\":\"DataRange1d\",\"id\":\"p1708\"},\"y_range\":{\"type\":\"object\",\"name\":\"DataRange1d\",\"id\":\"p1709\"},\"x_scale\":{\"type\":\"object\",\"name\":\"LinearScale\",\"id\":\"p1717\"},\"y_scale\":{\"type\":\"object\",\"name\":\"LinearScale\",\"id\":\"p1718\"},\"title\":{\"type\":\"object\",\"name\":\"Title\",\"id\":\"p1710\",\"attributes\":{\"text\":\"Model Loss\",\"text_font_size\":\"20pt\"}},\"renderers\":[{\"type\":\"object\",\"name\":\"GlyphRenderer\",\"id\":\"p1735\",\"attributes\":{\"data_source\":{\"type\":\"object\",\"name\":\"ColumnDataSource\",\"id\":\"p1729\",\"attributes\":{\"selected\":{\"type\":\"object\",\"name\":\"Selection\",\"id\":\"p1730\",\"attributes\":{\"indices\":[],\"line_indices\":[]}},\"selection_policy\":{\"type\":\"object\",\"name\":\"UnionRenderers\",\"id\":\"p1731\"},\"data\":{\"type\":\"map\",\"entries\":[[\"x\",{\"type\":\"ndarray\",\"array\":{\"type\":\"bytes\",\"data\":\"AQAAAAIAAAADAAAABAAAAAUAAAAGAAAABwAAAAgAAAAJAAAACgAAAAsAAAAMAAAADQAAAA4AAAAPAAAAEAAAABEAAAASAAAAEwAAABQAAAAVAAAAFgAAABcAAAAYAAAAGQAAABoAAAAbAAAAHAAAAB0AAAAeAAAAHwAAACAAAAAhAAAAIgAAACMAAAAkAAAAJQAAACYAAAAnAAAAKAAAAA==\"},\"shape\":[40],\"dtype\":\"int32\",\"order\":\"little\"}],[\"y\",{\"type\":\"ndarray\",\"array\":{\"type\":\"bytes\",\"data\":\"AAAAIB625D8AAABAGYjiPwAAAMA0uOE/AAAAgEkR4T8AAACA4j/hPwAAAIAIjd8/AAAAoGvj3T8AAADg7UTbPwAAAOCqVds/AAAAIH9T2T8AAADga/LZPwAAAIBMvtg/AAAAADPk1D8AAACgLx3VPwAAAGC1I9U/AAAAgHlv1D8AAABgz/7SPwAAAAA6PdY/AAAAQN3r1T8AAADgASDSPwAAAABREtI/AAAAQKqF0D8AAAAgYafOPwAAAMBRvNU/AAAAYMmc0D8AAACgwTLSPwAAAACaUc4/AAAAgExJzT8AAACAkCnNPwAAAODiRM0/AAAAoOA5yz8AAACAJXfHPwAAAODWk8g/AAAAgG4wyz8AAACAj6HIPwAAAIBpUcc/AAAAAD+dxT8AAABAEM3HPwAAAGDPgMY/AAAAwIDyyT8=\"},\"shape\":[40],\"dtype\":\"float64\",\"order\":\"little\"}]]}}},\"view\":{\"type\":\"object\",\"name\":\"CDSView\",\"id\":\"p1736\",\"attributes\":{\"filter\":{\"type\":\"object\",\"name\":\"AllIndices\",\"id\":\"p1737\"}}},\"glyph\":{\"type\":\"object\",\"name\":\"Line\",\"id\":\"p1732\",\"attributes\":{\"x\":{\"type\":\"field\",\"field\":\"x\"},\"y\":{\"type\":\"field\",\"field\":\"y\"},\"line_color\":\"blue\",\"line_width\":2}},\"nonselection_glyph\":{\"type\":\"object\",\"name\":\"Line\",\"id\":\"p1733\",\"attributes\":{\"x\":{\"type\":\"field\",\"field\":\"x\"},\"y\":{\"type\":\"field\",\"field\":\"y\"},\"line_color\":\"blue\",\"line_alpha\":0.1,\"line_width\":2}},\"muted_glyph\":{\"type\":\"object\",\"name\":\"Line\",\"id\":\"p1734\",\"attributes\":{\"x\":{\"type\":\"field\",\"field\":\"x\"},\"y\":{\"type\":\"field\",\"field\":\"y\"},\"line_color\":\"blue\",\"line_alpha\":0.2,\"line_width\":2}}}},{\"type\":\"object\",\"name\":\"GlyphRenderer\",\"id\":\"p1746\",\"attributes\":{\"data_source\":{\"type\":\"object\",\"name\":\"ColumnDataSource\",\"id\":\"p1740\",\"attributes\":{\"selected\":{\"type\":\"object\",\"name\":\"Selection\",\"id\":\"p1741\",\"attributes\":{\"indices\":[],\"line_indices\":[]}},\"selection_policy\":{\"type\":\"object\",\"name\":\"UnionRenderers\",\"id\":\"p1742\"},\"data\":{\"type\":\"map\",\"entries\":[[\"x\",{\"type\":\"ndarray\",\"array\":{\"type\":\"bytes\",\"data\":\"AQAAAAIAAAADAAAABAAAAAUAAAAGAAAABwAAAAgAAAAJAAAACgAAAAsAAAAMAAAADQAAAA4AAAAPAAAAEAAAABEAAAASAAAAEwAAABQAAAAVAAAAFgAAABcAAAAYAAAAGQAAABoAAAAbAAAAHAAAAB0AAAAeAAAAHwAAACAAAAAhAAAAIgAAACMAAAAkAAAAJQAAACYAAAAnAAAAKAAAAA==\"},\"shape\":[40],\"dtype\":\"int32\",\"order\":\"little\"}],[\"y\",{\"type\":\"ndarray\",\"array\":{\"type\":\"bytes\",\"data\":\"AAAAoL+S4z8AAACgn+niPwAAAEBfHuI/AAAAwG6T4T8AAACgpGviPwAAAIC1A98/AAAAoCn63j8AAACAkkrcPwAAAICzadk/AAAAgEhj2j8AAABAX2fbPwAAAEDIENM/AAAAgPTS0z8AAAAgegDSPwAAAKCcBdE/AAAAwGgL0z8AAADgzTTUPwAAAECaqNo/AAAAwNKE0D8AAADgRvXMPwAAAAASU9Q/AAAAIM1nzj8AAAAAYxXDPwAAAGD0ZdM/AAAAQDpPzT8AAADArovQPwAAAEAtjco/AAAA4CR4wz8AAAAA3kPKPwAAAEA/1Mc/AAAAwI2nxT8AAACgtlzEPwAAAKB3Dso/AAAAwKp30D8AAABgFGnGPwAAACCnU8s/AAAA4Iw5yD8AAACg7B7FPwAAAGCErsE/AAAAQH61vT8=\"},\"shape\":[40],\"dtype\":\"float64\",\"order\":\"little\"}]]}}},\"view\":{\"type\":\"object\",\"name\":\"CDSView\",\"id\":\"p1747\",\"attributes\":{\"filter\":{\"type\":\"object\",\"name\":\"AllIndices\",\"id\":\"p1748\"}}},\"glyph\":{\"type\":\"object\",\"name\":\"Line\",\"id\":\"p1743\",\"attributes\":{\"x\":{\"type\":\"field\",\"field\":\"x\"},\"y\":{\"type\":\"field\",\"field\":\"y\"},\"line_color\":\"red\",\"line_width\":2}},\"nonselection_glyph\":{\"type\":\"object\",\"name\":\"Line\",\"id\":\"p1744\",\"attributes\":{\"x\":{\"type\":\"field\",\"field\":\"x\"},\"y\":{\"type\":\"field\",\"field\":\"y\"},\"line_color\":\"red\",\"line_alpha\":0.1,\"line_width\":2}},\"muted_glyph\":{\"type\":\"object\",\"name\":\"Line\",\"id\":\"p1745\",\"attributes\":{\"x\":{\"type\":\"field\",\"field\":\"x\"},\"y\":{\"type\":\"field\",\"field\":\"y\"},\"line_color\":\"red\",\"line_alpha\":0.2,\"line_width\":2}}}}],\"toolbar\":{\"type\":\"object\",\"name\":\"Toolbar\",\"id\":\"p1716\",\"attributes\":{\"tools\":[{\"type\":\"object\",\"name\":\"PanTool\",\"id\":\"p1001\"},{\"type\":\"object\",\"name\":\"BoxZoomTool\",\"id\":\"p1002\",\"attributes\":{\"overlay\":{\"type\":\"object\",\"name\":\"BoxAnnotation\",\"id\":\"p1003\",\"attributes\":{\"syncable\":false,\"level\":\"overlay\",\"visible\":false,\"left_units\":\"canvas\",\"right_units\":\"canvas\",\"bottom_units\":\"canvas\",\"top_units\":\"canvas\",\"line_color\":\"black\",\"line_alpha\":1.0,\"line_width\":2,\"line_dash\":[4,4],\"fill_color\":\"lightgrey\",\"fill_alpha\":0.5}}}},{\"type\":\"object\",\"name\":\"HoverTool\",\"id\":\"p1004\",\"attributes\":{\"renderers\":\"auto\"}},{\"type\":\"object\",\"name\":\"ResetTool\",\"id\":\"p1005\"},{\"type\":\"object\",\"name\":\"SaveTool\",\"id\":\"p1006\"}]}},\"left\":[{\"type\":\"object\",\"name\":\"LinearAxis\",\"id\":\"p1724\",\"attributes\":{\"ticker\":{\"type\":\"object\",\"name\":\"BasicTicker\",\"id\":\"p1725\",\"attributes\":{\"mantissas\":[1,2,5]}},\"formatter\":{\"type\":\"object\",\"name\":\"BasicTickFormatter\",\"id\":\"p1726\"},\"axis_label\":\"Loss\",\"axis_label_text_font_size\":\"15pt\",\"major_label_policy\":{\"type\":\"object\",\"name\":\"AllLabels\",\"id\":\"p1727\"},\"major_label_text_font_size\":\"12pt\"}}],\"below\":[{\"type\":\"object\",\"name\":\"LinearAxis\",\"id\":\"p1719\",\"attributes\":{\"ticker\":{\"type\":\"object\",\"name\":\"BasicTicker\",\"id\":\"p1720\",\"attributes\":{\"mantissas\":[1,2,5]}},\"formatter\":{\"type\":\"object\",\"name\":\"BasicTickFormatter\",\"id\":\"p1721\"},\"axis_label\":\"Epoch\",\"axis_label_text_font_size\":\"15pt\",\"major_label_policy\":{\"type\":\"object\",\"name\":\"AllLabels\",\"id\":\"p1722\"},\"major_label_text_font_size\":\"12pt\"}}],\"center\":[{\"type\":\"object\",\"name\":\"Grid\",\"id\":\"p1723\",\"attributes\":{\"axis\":{\"id\":\"p1719\"}}},{\"type\":\"object\",\"name\":\"Grid\",\"id\":\"p1728\",\"attributes\":{\"dimension\":1,\"axis\":{\"id\":\"p1724\"}}},{\"type\":\"object\",\"name\":\"Legend\",\"id\":\"p1738\",\"attributes\":{\"location\":\"right\",\"items\":[{\"type\":\"object\",\"name\":\"LegendItem\",\"id\":\"p1739\",\"attributes\":{\"label\":{\"type\":\"value\",\"value\":\"Training Loss\"},\"renderers\":[{\"id\":\"p1735\"}]}},{\"type\":\"object\",\"name\":\"LegendItem\",\"id\":\"p1749\",\"attributes\":{\"label\":{\"type\":\"value\",\"value\":\"Validation Loss\"},\"renderers\":[{\"id\":\"p1746\"}]}}]}}]}}]}};\n  const render_items = [{\"docid\":\"cbca5857-fc2d-4040-97d1-3c25d93ef431\",\"roots\":{\"p1707\":\"cb2db344-3395-48bc-9a10-b53ddbcc8d13\"},\"root_ids\":[\"p1707\"]}];\n  root.Bokeh.embed.embed_items_notebook(docs_json, render_items);\n  }\n  if (root.Bokeh !== undefined) {\n    embed_document(root);\n  } else {\n    let attempts = 0;\n    const timer = setInterval(function(root) {\n      if (root.Bokeh !== undefined) {\n        clearInterval(timer);\n        embed_document(root);\n      } else {\n        attempts++;\n        if (attempts > 100) {\n          clearInterval(timer);\n          console.log(\"Bokeh: ERROR: Unable to run BokehJS code because BokehJS library is missing\");\n        }\n      }\n    }, 10, root)\n  }\n})(window);",
      "application/vnd.bokehjs_exec.v0+json": ""
     },
     "metadata": {
      "application/vnd.bokehjs_exec.v0+json": {
       "id": "p1707"
      }
     },
     "output_type": "display_data"
    },
    {
     "name": "stdout",
     "output_type": "stream",
     "text": [
      "                   Loss\n",
      "mean_diff     -0.012223\n",
      "std_diff       0.037686\n",
      "max_diff       0.044888\n",
      "min_diff      -0.086662\n",
      "abs_mean_diff  0.033855\n",
      "abs_std_diff   0.020579\n",
      "abs_max_diff   0.086662\n",
      "abs_min_diff   0.011555\n"
     ]
    },
    {
     "data": {
      "text/html": [
       "\n",
       "  <div id=\"bb30bb6f-4ade-41a4-aa63-ed21c38e4530\" data-root-id=\"p1754\" style=\"display: contents;\"></div>\n"
      ]
     },
     "metadata": {},
     "output_type": "display_data"
    },
    {
     "data": {
      "application/javascript": "(function(root) {\n  function embed_document(root) {\n  const docs_json = {\"dae54bfd-dce3-4e01-8c23-fc429a717420\":{\"version\":\"3.2.2\",\"title\":\"Bokeh Application\",\"roots\":[{\"type\":\"object\",\"name\":\"Figure\",\"id\":\"p1754\",\"attributes\":{\"width\":1000,\"height\":400,\"x_range\":{\"type\":\"object\",\"name\":\"DataRange1d\",\"id\":\"p1755\"},\"y_range\":{\"type\":\"object\",\"name\":\"DataRange1d\",\"id\":\"p1756\"},\"x_scale\":{\"type\":\"object\",\"name\":\"LinearScale\",\"id\":\"p1764\"},\"y_scale\":{\"type\":\"object\",\"name\":\"LinearScale\",\"id\":\"p1765\"},\"title\":{\"type\":\"object\",\"name\":\"Title\",\"id\":\"p1757\",\"attributes\":{\"text\":\"Model Recall\",\"text_font_size\":\"20pt\"}},\"renderers\":[{\"type\":\"object\",\"name\":\"GlyphRenderer\",\"id\":\"p1782\",\"attributes\":{\"data_source\":{\"type\":\"object\",\"name\":\"ColumnDataSource\",\"id\":\"p1776\",\"attributes\":{\"selected\":{\"type\":\"object\",\"name\":\"Selection\",\"id\":\"p1777\",\"attributes\":{\"indices\":[],\"line_indices\":[]}},\"selection_policy\":{\"type\":\"object\",\"name\":\"UnionRenderers\",\"id\":\"p1778\"},\"data\":{\"type\":\"map\",\"entries\":[[\"x\",{\"type\":\"ndarray\",\"array\":{\"type\":\"bytes\",\"data\":\"AQAAAAIAAAADAAAABAAAAAUAAAAGAAAABwAAAAgAAAAJAAAACgAAAAsAAAAMAAAADQAAAA4AAAAPAAAAEAAAABEAAAASAAAAEwAAABQAAAAVAAAAFgAAABcAAAAYAAAAGQAAABoAAAAbAAAAHAAAAB0AAAAeAAAAHwAAACAAAAAhAAAAIgAAACMAAAAkAAAAJQAAACYAAAAnAAAAKAAAAA==\"},\"shape\":[40],\"dtype\":\"int32\",\"order\":\"little\"}],[\"y\",{\"type\":\"ndarray\",\"array\":{\"type\":\"bytes\",\"data\":\"AAAAgMrZ7T8AAAAgqJzpPwAAACAT6ek/AAAAYDm76T8AAADgFn7pPwAAAACsMek/AAAAQA9U6j8AAACgMZHqPwAAAIALv+o/AAAAYOFX6z8AAADgwq/qPwAAAKCc3eo/AAAAoAcq6z8AAABAkR7sPwAAAEC7hes/AAAAAAAA7D8AAABgIj3sPwAAAEBQOes/AAAAwK/G7D8AAAAAa0zsPwAAAKCzW+w/AAAAIPxq7D8AAADAGhPtPwAAAAAqZ+s/AAAAYGMi7T8AAABgIj3sPwAAAID0QO0/AAAAYGMi7T8AAAAArDHtPwAAAMCFX+0/AAAAAEHl7D8AAADAW/jtPwAAAOAWfu0/AAAAwBoT7T8AAADAhV/tPwAAAIDK2e0/AAAAQKQH7j8AAACANSbuPwAAAIDK2e0/AAAAwPCr7T8=\"},\"shape\":[40],\"dtype\":\"float64\",\"order\":\"little\"}]]}}},\"view\":{\"type\":\"object\",\"name\":\"CDSView\",\"id\":\"p1783\",\"attributes\":{\"filter\":{\"type\":\"object\",\"name\":\"AllIndices\",\"id\":\"p1784\"}}},\"glyph\":{\"type\":\"object\",\"name\":\"Line\",\"id\":\"p1779\",\"attributes\":{\"x\":{\"type\":\"field\",\"field\":\"x\"},\"y\":{\"type\":\"field\",\"field\":\"y\"},\"line_color\":\"blue\",\"line_width\":2}},\"nonselection_glyph\":{\"type\":\"object\",\"name\":\"Line\",\"id\":\"p1780\",\"attributes\":{\"x\":{\"type\":\"field\",\"field\":\"x\"},\"y\":{\"type\":\"field\",\"field\":\"y\"},\"line_color\":\"blue\",\"line_alpha\":0.1,\"line_width\":2}},\"muted_glyph\":{\"type\":\"object\",\"name\":\"Line\",\"id\":\"p1781\",\"attributes\":{\"x\":{\"type\":\"field\",\"field\":\"x\"},\"y\":{\"type\":\"field\",\"field\":\"y\"},\"line_color\":\"blue\",\"line_alpha\":0.2,\"line_width\":2}}}},{\"type\":\"object\",\"name\":\"GlyphRenderer\",\"id\":\"p1793\",\"attributes\":{\"data_source\":{\"type\":\"object\",\"name\":\"ColumnDataSource\",\"id\":\"p1787\",\"attributes\":{\"selected\":{\"type\":\"object\",\"name\":\"Selection\",\"id\":\"p1788\",\"attributes\":{\"indices\":[],\"line_indices\":[]}},\"selection_policy\":{\"type\":\"object\",\"name\":\"UnionRenderers\",\"id\":\"p1789\"},\"data\":{\"type\":\"map\",\"entries\":[[\"x\",{\"type\":\"ndarray\",\"array\":{\"type\":\"bytes\",\"data\":\"AQAAAAIAAAADAAAABAAAAAUAAAAGAAAABwAAAAgAAAAJAAAACgAAAAsAAAAMAAAADQAAAA4AAAAPAAAAEAAAABEAAAASAAAAEwAAABQAAAAVAAAAFgAAABcAAAAYAAAAGQAAABoAAAAbAAAAHAAAAB0AAAAeAAAAHwAAACAAAAAhAAAAIgAAACMAAAAkAAAAJQAAACYAAAAnAAAAKAAAAA==\"},\"shape\":[40],\"dtype\":\"int32\",\"order\":\"little\"}],[\"y\",{\"type\":\"ndarray\",\"array\":{\"type\":\"bytes\",\"data\":\"AAAAIOmB6j8AAACgxkTqPwAAAGD41eg/AAAAwG7h5z8AAAAAa0zkPwAAAKDGROo/AAAA4MKv5j8AAADggcrpPwAAACDpgeo/AAAAANaY6D8AAABAkR7oPwAAACD8auw/AAAAwNkt7D8AAABApAfqPwAAAKAeqOw/AAAAAFTO7j8AAADA2S3sPwAAAIALv+o/AAAA4C386j8AAAAg/GrsPwAAAKAeqOw/AAAAAJWz6z8AAAAAVM7uPwAAAIBfjek/AAAAAFTO7j8AAABgt/DrPwAAACConO0/AAAAIKic7T8AAADg7BbuPwAAAGBjIu0/AAAA4JhI7z8AAAAgqJztPwAAAACVs+s/AAAAoB6o7D8AAAAgqJztPwAAAMDZLew/AAAAQA9U7j8AAAAg/GrsPwAAAEC7he8/AAAAAFTO7j8=\"},\"shape\":[40],\"dtype\":\"float64\",\"order\":\"little\"}]]}}},\"view\":{\"type\":\"object\",\"name\":\"CDSView\",\"id\":\"p1794\",\"attributes\":{\"filter\":{\"type\":\"object\",\"name\":\"AllIndices\",\"id\":\"p1795\"}}},\"glyph\":{\"type\":\"object\",\"name\":\"Line\",\"id\":\"p1790\",\"attributes\":{\"x\":{\"type\":\"field\",\"field\":\"x\"},\"y\":{\"type\":\"field\",\"field\":\"y\"},\"line_color\":\"red\",\"line_width\":2}},\"nonselection_glyph\":{\"type\":\"object\",\"name\":\"Line\",\"id\":\"p1791\",\"attributes\":{\"x\":{\"type\":\"field\",\"field\":\"x\"},\"y\":{\"type\":\"field\",\"field\":\"y\"},\"line_color\":\"red\",\"line_alpha\":0.1,\"line_width\":2}},\"muted_glyph\":{\"type\":\"object\",\"name\":\"Line\",\"id\":\"p1792\",\"attributes\":{\"x\":{\"type\":\"field\",\"field\":\"x\"},\"y\":{\"type\":\"field\",\"field\":\"y\"},\"line_color\":\"red\",\"line_alpha\":0.2,\"line_width\":2}}}}],\"toolbar\":{\"type\":\"object\",\"name\":\"Toolbar\",\"id\":\"p1763\",\"attributes\":{\"tools\":[{\"type\":\"object\",\"name\":\"PanTool\",\"id\":\"p1001\"},{\"type\":\"object\",\"name\":\"BoxZoomTool\",\"id\":\"p1002\",\"attributes\":{\"overlay\":{\"type\":\"object\",\"name\":\"BoxAnnotation\",\"id\":\"p1003\",\"attributes\":{\"syncable\":false,\"level\":\"overlay\",\"visible\":false,\"left_units\":\"canvas\",\"right_units\":\"canvas\",\"bottom_units\":\"canvas\",\"top_units\":\"canvas\",\"line_color\":\"black\",\"line_alpha\":1.0,\"line_width\":2,\"line_dash\":[4,4],\"fill_color\":\"lightgrey\",\"fill_alpha\":0.5}}}},{\"type\":\"object\",\"name\":\"HoverTool\",\"id\":\"p1004\",\"attributes\":{\"renderers\":\"auto\"}},{\"type\":\"object\",\"name\":\"ResetTool\",\"id\":\"p1005\"},{\"type\":\"object\",\"name\":\"SaveTool\",\"id\":\"p1006\"}]}},\"left\":[{\"type\":\"object\",\"name\":\"LinearAxis\",\"id\":\"p1771\",\"attributes\":{\"ticker\":{\"type\":\"object\",\"name\":\"BasicTicker\",\"id\":\"p1772\",\"attributes\":{\"mantissas\":[1,2,5]}},\"formatter\":{\"type\":\"object\",\"name\":\"BasicTickFormatter\",\"id\":\"p1773\"},\"axis_label\":\"Recall\",\"axis_label_text_font_size\":\"15pt\",\"major_label_policy\":{\"type\":\"object\",\"name\":\"AllLabels\",\"id\":\"p1774\"},\"major_label_text_font_size\":\"12pt\"}}],\"below\":[{\"type\":\"object\",\"name\":\"LinearAxis\",\"id\":\"p1766\",\"attributes\":{\"ticker\":{\"type\":\"object\",\"name\":\"BasicTicker\",\"id\":\"p1767\",\"attributes\":{\"mantissas\":[1,2,5]}},\"formatter\":{\"type\":\"object\",\"name\":\"BasicTickFormatter\",\"id\":\"p1768\"},\"axis_label\":\"Epoch\",\"axis_label_text_font_size\":\"15pt\",\"major_label_policy\":{\"type\":\"object\",\"name\":\"AllLabels\",\"id\":\"p1769\"},\"major_label_text_font_size\":\"12pt\"}}],\"center\":[{\"type\":\"object\",\"name\":\"Grid\",\"id\":\"p1770\",\"attributes\":{\"axis\":{\"id\":\"p1766\"}}},{\"type\":\"object\",\"name\":\"Grid\",\"id\":\"p1775\",\"attributes\":{\"dimension\":1,\"axis\":{\"id\":\"p1771\"}}},{\"type\":\"object\",\"name\":\"Legend\",\"id\":\"p1785\",\"attributes\":{\"location\":\"right\",\"items\":[{\"type\":\"object\",\"name\":\"LegendItem\",\"id\":\"p1786\",\"attributes\":{\"label\":{\"type\":\"value\",\"value\":\"Training Recall\"},\"renderers\":[{\"id\":\"p1782\"}]}},{\"type\":\"object\",\"name\":\"LegendItem\",\"id\":\"p1796\",\"attributes\":{\"label\":{\"type\":\"value\",\"value\":\"Validation Recall\"},\"renderers\":[{\"id\":\"p1793\"}]}}]}}]}}]}};\n  const render_items = [{\"docid\":\"dae54bfd-dce3-4e01-8c23-fc429a717420\",\"roots\":{\"p1754\":\"bb30bb6f-4ade-41a4-aa63-ed21c38e4530\"},\"root_ids\":[\"p1754\"]}];\n  root.Bokeh.embed.embed_items_notebook(docs_json, render_items);\n  }\n  if (root.Bokeh !== undefined) {\n    embed_document(root);\n  } else {\n    let attempts = 0;\n    const timer = setInterval(function(root) {\n      if (root.Bokeh !== undefined) {\n        clearInterval(timer);\n        embed_document(root);\n      } else {\n        attempts++;\n        if (attempts > 100) {\n          clearInterval(timer);\n          console.log(\"Bokeh: ERROR: Unable to run BokehJS code because BokehJS library is missing\");\n        }\n      }\n    }, 10, root)\n  }\n})(window);",
      "application/vnd.bokehjs_exec.v0+json": ""
     },
     "metadata": {
      "application/vnd.bokehjs_exec.v0+json": {
       "id": "p1754"
      }
     },
     "output_type": "display_data"
    },
    {
     "name": "stdout",
     "output_type": "stream",
     "text": [
      "                 Recall\n",
      "mean_diff     -0.000746\n",
      "std_diff       0.043332\n",
      "max_diff       0.074627\n",
      "min_diff      -0.055970\n",
      "abs_mean_diff  0.036567\n",
      "abs_std_diff   0.023260\n",
      "abs_max_diff   0.074627\n",
      "abs_min_diff   0.007463\n"
     ]
    },
    {
     "data": {
      "text/html": [
       "\n",
       "  <div id=\"c6f28060-cc82-470e-ab23-37df484fd54f\" data-root-id=\"p1801\" style=\"display: contents;\"></div>\n"
      ]
     },
     "metadata": {},
     "output_type": "display_data"
    },
    {
     "data": {
      "application/javascript": "(function(root) {\n  function embed_document(root) {\n  const docs_json = {\"e916a886-1f44-4ea2-a0e1-c2d9c68c4931\":{\"version\":\"3.2.2\",\"title\":\"Bokeh Application\",\"roots\":[{\"type\":\"object\",\"name\":\"Figure\",\"id\":\"p1801\",\"attributes\":{\"width\":1000,\"height\":400,\"x_range\":{\"type\":\"object\",\"name\":\"DataRange1d\",\"id\":\"p1802\"},\"y_range\":{\"type\":\"object\",\"name\":\"DataRange1d\",\"id\":\"p1803\"},\"x_scale\":{\"type\":\"object\",\"name\":\"LinearScale\",\"id\":\"p1811\"},\"y_scale\":{\"type\":\"object\",\"name\":\"LinearScale\",\"id\":\"p1812\"},\"title\":{\"type\":\"object\",\"name\":\"Title\",\"id\":\"p1804\",\"attributes\":{\"text\":\"Model Accuracy\",\"text_font_size\":\"20pt\"}},\"renderers\":[{\"type\":\"object\",\"name\":\"GlyphRenderer\",\"id\":\"p1829\",\"attributes\":{\"data_source\":{\"type\":\"object\",\"name\":\"ColumnDataSource\",\"id\":\"p1823\",\"attributes\":{\"selected\":{\"type\":\"object\",\"name\":\"Selection\",\"id\":\"p1824\",\"attributes\":{\"indices\":[],\"line_indices\":[]}},\"selection_policy\":{\"type\":\"object\",\"name\":\"UnionRenderers\",\"id\":\"p1825\"},\"data\":{\"type\":\"map\",\"entries\":[[\"x\",{\"type\":\"ndarray\",\"array\":{\"type\":\"bytes\",\"data\":\"AQAAAAIAAAADAAAABAAAAAUAAAAGAAAABwAAAAgAAAAJAAAACgAAAAsAAAAMAAAADQAAAA4AAAAPAAAAEAAAABEAAAASAAAAEwAAABQAAAAVAAAAFgAAABcAAAAYAAAAGQAAABoAAAAbAAAAHAAAAB0AAAAeAAAAHwAAACAAAAAhAAAAIgAAACMAAAAkAAAAJQAAACYAAAAnAAAAKAAAAA==\"},\"shape\":[40],\"dtype\":\"int32\",\"order\":\"little\"}],[\"y\",{\"type\":\"ndarray\",\"array\":{\"type\":\"bytes\",\"data\":\"AAAA4MCo4z8AAADgW1DmPwAAAMCwWuc/AAAA4KHt5z8AAACgIz/nPwAAAEBPpeg/AAAAYK236D8AAAAARp3pPwAAAGBvQek/AAAAAAgn6j8AAADAiXjpPwAAAEACwuk/AAAA4P4e6z8AAAAAH7vrPwAAAGB3aOs/AAAAwGKW6z8AAACgM43rPwAAAABdMes/AAAAoASE6z8AAABgOfLrPwAAAGA58us/AAAAYMxy7D8AAAAAdMXsPwAAAKBxA+s/AAAAYL0F7T8AAACgxg3sPwAAAEBf8+w/AAAAwKgz7T8AAAAgAeHsPwAAAAB0xew/AAAAYL0F7T8AAABgf4/tPwAAACDDau0/AAAAoEoh7T8AAABA8nPtPwAAAGBQhu0/AAAAgK6Y7T8AAADAO7TtPwAAAAAn4u0/AAAAQPJz7T8=\"},\"shape\":[40],\"dtype\":\"float64\",\"order\":\"little\"}]]}}},\"view\":{\"type\":\"object\",\"name\":\"CDSView\",\"id\":\"p1830\",\"attributes\":{\"filter\":{\"type\":\"object\",\"name\":\"AllIndices\",\"id\":\"p1831\"}}},\"glyph\":{\"type\":\"object\",\"name\":\"Line\",\"id\":\"p1826\",\"attributes\":{\"x\":{\"type\":\"field\",\"field\":\"x\"},\"y\":{\"type\":\"field\",\"field\":\"y\"},\"line_color\":\"blue\",\"line_width\":2}},\"nonselection_glyph\":{\"type\":\"object\",\"name\":\"Line\",\"id\":\"p1827\",\"attributes\":{\"x\":{\"type\":\"field\",\"field\":\"x\"},\"y\":{\"type\":\"field\",\"field\":\"y\"},\"line_color\":\"blue\",\"line_alpha\":0.1,\"line_width\":2}},\"muted_glyph\":{\"type\":\"object\",\"name\":\"Line\",\"id\":\"p1828\",\"attributes\":{\"x\":{\"type\":\"field\",\"field\":\"x\"},\"y\":{\"type\":\"field\",\"field\":\"y\"},\"line_color\":\"blue\",\"line_alpha\":0.2,\"line_width\":2}}}},{\"type\":\"object\",\"name\":\"GlyphRenderer\",\"id\":\"p1840\",\"attributes\":{\"data_source\":{\"type\":\"object\",\"name\":\"ColumnDataSource\",\"id\":\"p1834\",\"attributes\":{\"selected\":{\"type\":\"object\",\"name\":\"Selection\",\"id\":\"p1835\",\"attributes\":{\"indices\":[],\"line_indices\":[]}},\"selection_policy\":{\"type\":\"object\",\"name\":\"UnionRenderers\",\"id\":\"p1836\"},\"data\":{\"type\":\"map\",\"entries\":[[\"x\",{\"type\":\"ndarray\",\"array\":{\"type\":\"bytes\",\"data\":\"AQAAAAIAAAADAAAABAAAAAUAAAAGAAAABwAAAAgAAAAJAAAACgAAAAsAAAAMAAAADQAAAA4AAAAPAAAAEAAAABEAAAASAAAAEwAAABQAAAAVAAAAFgAAABcAAAAYAAAAGQAAABoAAAAbAAAAHAAAAB0AAAAeAAAAHwAAACAAAAAhAAAAIgAAACMAAAAkAAAAJQAAACYAAAAnAAAAKAAAAA==\"},\"shape\":[40],\"dtype\":\"int32\",\"order\":\"little\"}],[\"y\",{\"type\":\"ndarray\",\"array\":{\"type\":\"bytes\",\"data\":\"AAAAAHGh5j8AAADg7+jlPwAAAGCKfOY/AAAAYL+j5z8AAAAAcaHmPwAAACDb7+g/AAAAQCeB6D8AAABAXKjpPwAAAACPXuk/AAAAINvv6D8AAADA9jvqPwAAAOArY+s/AAAA4Hf06j8AAABgxvbrPwAAACAu1Ow/AAAAwN/R6z8AAADgK2PrPwAAAKB1g+k/AAAAQHpl7D8AAACgyGftPwAAAIASiOs/AAAAwBT57D8AAAAgF2ruPwAAAMDf0es/AAAAoMhn7T8AAACAR6/sPwAAAGD7He0/AAAAwEkg7j8AAABAr4ztPwAAAKDIZ+0/AAAA4JWx7T8AAAAgF2ruPwAAAKDIZ+0/AAAA4GCK7D8AAADASSDuPwAAAGD7He0/AAAAoMhn7T8AAADglbHtPwAAAIB81u0/AAAAAMvY7j8=\"},\"shape\":[40],\"dtype\":\"float64\",\"order\":\"little\"}]]}}},\"view\":{\"type\":\"object\",\"name\":\"CDSView\",\"id\":\"p1841\",\"attributes\":{\"filter\":{\"type\":\"object\",\"name\":\"AllIndices\",\"id\":\"p1842\"}}},\"glyph\":{\"type\":\"object\",\"name\":\"Line\",\"id\":\"p1837\",\"attributes\":{\"x\":{\"type\":\"field\",\"field\":\"x\"},\"y\":{\"type\":\"field\",\"field\":\"y\"},\"line_color\":\"red\",\"line_width\":2}},\"nonselection_glyph\":{\"type\":\"object\",\"name\":\"Line\",\"id\":\"p1838\",\"attributes\":{\"x\":{\"type\":\"field\",\"field\":\"x\"},\"y\":{\"type\":\"field\",\"field\":\"y\"},\"line_color\":\"red\",\"line_alpha\":0.1,\"line_width\":2}},\"muted_glyph\":{\"type\":\"object\",\"name\":\"Line\",\"id\":\"p1839\",\"attributes\":{\"x\":{\"type\":\"field\",\"field\":\"x\"},\"y\":{\"type\":\"field\",\"field\":\"y\"},\"line_color\":\"red\",\"line_alpha\":0.2,\"line_width\":2}}}}],\"toolbar\":{\"type\":\"object\",\"name\":\"Toolbar\",\"id\":\"p1810\",\"attributes\":{\"tools\":[{\"type\":\"object\",\"name\":\"PanTool\",\"id\":\"p1001\"},{\"type\":\"object\",\"name\":\"BoxZoomTool\",\"id\":\"p1002\",\"attributes\":{\"overlay\":{\"type\":\"object\",\"name\":\"BoxAnnotation\",\"id\":\"p1003\",\"attributes\":{\"syncable\":false,\"level\":\"overlay\",\"visible\":false,\"left_units\":\"canvas\",\"right_units\":\"canvas\",\"bottom_units\":\"canvas\",\"top_units\":\"canvas\",\"line_color\":\"black\",\"line_alpha\":1.0,\"line_width\":2,\"line_dash\":[4,4],\"fill_color\":\"lightgrey\",\"fill_alpha\":0.5}}}},{\"type\":\"object\",\"name\":\"HoverTool\",\"id\":\"p1004\",\"attributes\":{\"renderers\":\"auto\"}},{\"type\":\"object\",\"name\":\"ResetTool\",\"id\":\"p1005\"},{\"type\":\"object\",\"name\":\"SaveTool\",\"id\":\"p1006\"}]}},\"left\":[{\"type\":\"object\",\"name\":\"LinearAxis\",\"id\":\"p1818\",\"attributes\":{\"ticker\":{\"type\":\"object\",\"name\":\"BasicTicker\",\"id\":\"p1819\",\"attributes\":{\"mantissas\":[1,2,5]}},\"formatter\":{\"type\":\"object\",\"name\":\"BasicTickFormatter\",\"id\":\"p1820\"},\"axis_label\":\"Accuracy\",\"axis_label_text_font_size\":\"15pt\",\"major_label_policy\":{\"type\":\"object\",\"name\":\"AllLabels\",\"id\":\"p1821\"},\"major_label_text_font_size\":\"12pt\"}}],\"below\":[{\"type\":\"object\",\"name\":\"LinearAxis\",\"id\":\"p1813\",\"attributes\":{\"ticker\":{\"type\":\"object\",\"name\":\"BasicTicker\",\"id\":\"p1814\",\"attributes\":{\"mantissas\":[1,2,5]}},\"formatter\":{\"type\":\"object\",\"name\":\"BasicTickFormatter\",\"id\":\"p1815\"},\"axis_label\":\"Epoch\",\"axis_label_text_font_size\":\"15pt\",\"major_label_policy\":{\"type\":\"object\",\"name\":\"AllLabels\",\"id\":\"p1816\"},\"major_label_text_font_size\":\"12pt\"}}],\"center\":[{\"type\":\"object\",\"name\":\"Grid\",\"id\":\"p1817\",\"attributes\":{\"axis\":{\"id\":\"p1813\"}}},{\"type\":\"object\",\"name\":\"Grid\",\"id\":\"p1822\",\"attributes\":{\"dimension\":1,\"axis\":{\"id\":\"p1818\"}}},{\"type\":\"object\",\"name\":\"Legend\",\"id\":\"p1832\",\"attributes\":{\"location\":\"right\",\"items\":[{\"type\":\"object\",\"name\":\"LegendItem\",\"id\":\"p1833\",\"attributes\":{\"label\":{\"type\":\"value\",\"value\":\"Training Accuracy\"},\"renderers\":[{\"id\":\"p1829\"}]}},{\"type\":\"object\",\"name\":\"LegendItem\",\"id\":\"p1843\",\"attributes\":{\"label\":{\"type\":\"value\",\"value\":\"Validation Accuracy\"},\"renderers\":[{\"id\":\"p1840\"}]}}]}}]}}]}};\n  const render_items = [{\"docid\":\"e916a886-1f44-4ea2-a0e1-c2d9c68c4931\",\"roots\":{\"p1801\":\"c6f28060-cc82-470e-ab23-37df484fd54f\"},\"root_ids\":[\"p1801\"]}];\n  root.Bokeh.embed.embed_items_notebook(docs_json, render_items);\n  }\n  if (root.Bokeh !== undefined) {\n    embed_document(root);\n  } else {\n    let attempts = 0;\n    const timer = setInterval(function(root) {\n      if (root.Bokeh !== undefined) {\n        clearInterval(timer);\n        embed_document(root);\n      } else {\n        attempts++;\n        if (attempts > 100) {\n          clearInterval(timer);\n          console.log(\"Bokeh: ERROR: Unable to run BokehJS code because BokehJS library is missing\");\n        }\n      }\n    }, 10, root)\n  }\n})(window);",
      "application/vnd.bokehjs_exec.v0+json": ""
     },
     "metadata": {
      "application/vnd.bokehjs_exec.v0+json": {
       "id": "p1801"
      }
     },
     "output_type": "display_data"
    },
    {
     "name": "stdout",
     "output_type": "stream",
     "text": [
      "               Accuracy\n",
      "mean_diff      0.007302\n",
      "std_diff       0.018704\n",
      "max_diff       0.043560\n",
      "min_diff      -0.018422\n",
      "abs_mean_diff  0.015150\n",
      "abs_std_diff   0.013178\n",
      "abs_max_diff   0.043560\n",
      "abs_min_diff   0.000323\n"
     ]
    },
    {
     "data": {
      "text/html": [
       "\n",
       "  <div id=\"dc8b316d-4093-45f3-b0ee-708a7178b3c7\" data-root-id=\"p1848\" style=\"display: contents;\"></div>\n"
      ]
     },
     "metadata": {},
     "output_type": "display_data"
    },
    {
     "data": {
      "application/javascript": "(function(root) {\n  function embed_document(root) {\n  const docs_json = {\"8f8ad20c-157c-4a64-9352-18575b7d4577\":{\"version\":\"3.2.2\",\"title\":\"Bokeh Application\",\"roots\":[{\"type\":\"object\",\"name\":\"Figure\",\"id\":\"p1848\",\"attributes\":{\"width\":1000,\"height\":400,\"x_range\":{\"type\":\"object\",\"name\":\"DataRange1d\",\"id\":\"p1849\"},\"y_range\":{\"type\":\"object\",\"name\":\"DataRange1d\",\"id\":\"p1850\"},\"x_scale\":{\"type\":\"object\",\"name\":\"LinearScale\",\"id\":\"p1858\"},\"y_scale\":{\"type\":\"object\",\"name\":\"LinearScale\",\"id\":\"p1859\"},\"title\":{\"type\":\"object\",\"name\":\"Title\",\"id\":\"p1851\",\"attributes\":{\"text\":\"Model Precision\",\"text_font_size\":\"20pt\"}},\"renderers\":[{\"type\":\"object\",\"name\":\"GlyphRenderer\",\"id\":\"p1876\",\"attributes\":{\"data_source\":{\"type\":\"object\",\"name\":\"ColumnDataSource\",\"id\":\"p1870\",\"attributes\":{\"selected\":{\"type\":\"object\",\"name\":\"Selection\",\"id\":\"p1871\",\"attributes\":{\"indices\":[],\"line_indices\":[]}},\"selection_policy\":{\"type\":\"object\",\"name\":\"UnionRenderers\",\"id\":\"p1872\"},\"data\":{\"type\":\"map\",\"entries\":[[\"x\",{\"type\":\"ndarray\",\"array\":{\"type\":\"bytes\",\"data\":\"AQAAAAIAAAADAAAABAAAAAUAAAAGAAAABwAAAAgAAAAJAAAACgAAAAsAAAAMAAAADQAAAA4AAAAPAAAAEAAAABEAAAASAAAAEwAAABQAAAAVAAAAFgAAABcAAAAYAAAAGQAAABoAAAAbAAAAHAAAAB0AAAAeAAAAHwAAACAAAAAhAAAAIgAAACMAAAAkAAAAJQAAACYAAAAnAAAAKAAAAA==\"},\"shape\":[40],\"dtype\":\"int32\",\"order\":\"little\"}],[\"y\",{\"type\":\"ndarray\",\"array\":{\"type\":\"bytes\",\"data\":\"AAAAoE7N4z8AAADAbjDnPwAAAMDCPOg/AAAAAOYH6T8AAADAK1DoPwAAAKDWUuo/AAAAgHW06T8AAADAVMTqPwAAAAAcKeo/AAAAgKT96j8AAADgJ33qPwAAAGALxOo/AAAAgIyM7D8AAADgZLXsPwAAAMBMs+w/AAAAwC+W7D8AAADANVjsPwAAAKCcnOw/AAAAYDnk6z8AAACgNOTsPwAAAGCu1+w/AAAAgKKT7T8AAAAA4YPtPwAAAOAiMew/AAAAQMfb7T8AAADAkRvtPwAAAIANpO0/AAAAYI8l7j8AAAAgkZTtPwAAAKCRQ+0/AAAAoOMS7j8AAADAW/jtPwAAAAD+Ku4/AAAAwL4V7j8AAACg01XuPwAAAKDNBO4/AAAAYFP57T8AAABAhAnuPwAAAGC9l+4/AAAAIHQQ7j8=\"},\"shape\":[40],\"dtype\":\"float64\",\"order\":\"little\"}]]}}},\"view\":{\"type\":\"object\",\"name\":\"CDSView\",\"id\":\"p1877\",\"attributes\":{\"filter\":{\"type\":\"object\",\"name\":\"AllIndices\",\"id\":\"p1878\"}}},\"glyph\":{\"type\":\"object\",\"name\":\"Line\",\"id\":\"p1873\",\"attributes\":{\"x\":{\"type\":\"field\",\"field\":\"x\"},\"y\":{\"type\":\"field\",\"field\":\"y\"},\"line_color\":\"blue\",\"line_width\":2}},\"nonselection_glyph\":{\"type\":\"object\",\"name\":\"Line\",\"id\":\"p1874\",\"attributes\":{\"x\":{\"type\":\"field\",\"field\":\"x\"},\"y\":{\"type\":\"field\",\"field\":\"y\"},\"line_color\":\"blue\",\"line_alpha\":0.1,\"line_width\":2}},\"muted_glyph\":{\"type\":\"object\",\"name\":\"Line\",\"id\":\"p1875\",\"attributes\":{\"x\":{\"type\":\"field\",\"field\":\"x\"},\"y\":{\"type\":\"field\",\"field\":\"y\"},\"line_color\":\"blue\",\"line_alpha\":0.2,\"line_width\":2}}}},{\"type\":\"object\",\"name\":\"GlyphRenderer\",\"id\":\"p1887\",\"attributes\":{\"data_source\":{\"type\":\"object\",\"name\":\"ColumnDataSource\",\"id\":\"p1881\",\"attributes\":{\"selected\":{\"type\":\"object\",\"name\":\"Selection\",\"id\":\"p1882\",\"attributes\":{\"indices\":[],\"line_indices\":[]}},\"selection_policy\":{\"type\":\"object\",\"name\":\"UnionRenderers\",\"id\":\"p1883\"},\"data\":{\"type\":\"map\",\"entries\":[[\"x\",{\"type\":\"ndarray\",\"array\":{\"type\":\"bytes\",\"data\":\"AQAAAAIAAAADAAAABAAAAAUAAAAGAAAABwAAAAgAAAAJAAAACgAAAAsAAAAMAAAADQAAAA4AAAAPAAAAEAAAABEAAAASAAAAEwAAABQAAAAVAAAAFgAAABcAAAAYAAAAGQAAABoAAAAbAAAAHAAAAB0AAAAeAAAAHwAAACAAAAAhAAAAIgAAACMAAAAkAAAAJQAAACYAAAAnAAAAKAAAAA==\"},\"shape\":[40],\"dtype\":\"int32\",\"order\":\"little\"}],[\"y\",{\"type\":\"ndarray\",\"array\":{\"type\":\"bytes\",\"data\":\"AAAAQDc35z8AAAAAaZDmPwAAAGB8xec/AAAAoHPO6T8AAADgQe7qPwAAAID2Euo/AAAAAO0l7D8AAADgtm3rPwAAACDpgeo/AAAAAFs96z8AAACACe3tPwAAAAAAAOw/AAAAIOKP6z8AAABAkiTvPwAAAAAAAO4/AAAAAPv66j8AAADA2S3sPwAAAGBTjOo/AAAAgO7n7j8AAADAjjbvPwAAAIB5B+w/AAAAoHox7z8AAABA6ZPuPwAAACCwae8/AAAAQAcS7T8AAADgY3DuPwAAACConO0/AAAAAH0+7z8AAADg3d3tPwAAAAAAgO4/AAAAwHEc7T8AAADAdr7vPwAAAAAAAPA/AAAAoNiJ7T8AAAAAfT7vPwAAAOBo8+4/AAAAwANz7T8AAADAu7vvPwAAAICLIe0/AAAAgNFF7z8=\"},\"shape\":[40],\"dtype\":\"float64\",\"order\":\"little\"}]]}}},\"view\":{\"type\":\"object\",\"name\":\"CDSView\",\"id\":\"p1888\",\"attributes\":{\"filter\":{\"type\":\"object\",\"name\":\"AllIndices\",\"id\":\"p1889\"}}},\"glyph\":{\"type\":\"object\",\"name\":\"Line\",\"id\":\"p1884\",\"attributes\":{\"x\":{\"type\":\"field\",\"field\":\"x\"},\"y\":{\"type\":\"field\",\"field\":\"y\"},\"line_color\":\"red\",\"line_width\":2}},\"nonselection_glyph\":{\"type\":\"object\",\"name\":\"Line\",\"id\":\"p1885\",\"attributes\":{\"x\":{\"type\":\"field\",\"field\":\"x\"},\"y\":{\"type\":\"field\",\"field\":\"y\"},\"line_color\":\"red\",\"line_alpha\":0.1,\"line_width\":2}},\"muted_glyph\":{\"type\":\"object\",\"name\":\"Line\",\"id\":\"p1886\",\"attributes\":{\"x\":{\"type\":\"field\",\"field\":\"x\"},\"y\":{\"type\":\"field\",\"field\":\"y\"},\"line_color\":\"red\",\"line_alpha\":0.2,\"line_width\":2}}}}],\"toolbar\":{\"type\":\"object\",\"name\":\"Toolbar\",\"id\":\"p1857\",\"attributes\":{\"tools\":[{\"type\":\"object\",\"name\":\"PanTool\",\"id\":\"p1001\"},{\"type\":\"object\",\"name\":\"BoxZoomTool\",\"id\":\"p1002\",\"attributes\":{\"overlay\":{\"type\":\"object\",\"name\":\"BoxAnnotation\",\"id\":\"p1003\",\"attributes\":{\"syncable\":false,\"level\":\"overlay\",\"visible\":false,\"left_units\":\"canvas\",\"right_units\":\"canvas\",\"bottom_units\":\"canvas\",\"top_units\":\"canvas\",\"line_color\":\"black\",\"line_alpha\":1.0,\"line_width\":2,\"line_dash\":[4,4],\"fill_color\":\"lightgrey\",\"fill_alpha\":0.5}}}},{\"type\":\"object\",\"name\":\"HoverTool\",\"id\":\"p1004\",\"attributes\":{\"renderers\":\"auto\"}},{\"type\":\"object\",\"name\":\"ResetTool\",\"id\":\"p1005\"},{\"type\":\"object\",\"name\":\"SaveTool\",\"id\":\"p1006\"}]}},\"left\":[{\"type\":\"object\",\"name\":\"LinearAxis\",\"id\":\"p1865\",\"attributes\":{\"ticker\":{\"type\":\"object\",\"name\":\"BasicTicker\",\"id\":\"p1866\",\"attributes\":{\"mantissas\":[1,2,5]}},\"formatter\":{\"type\":\"object\",\"name\":\"BasicTickFormatter\",\"id\":\"p1867\"},\"axis_label\":\"Precision\",\"axis_label_text_font_size\":\"15pt\",\"major_label_policy\":{\"type\":\"object\",\"name\":\"AllLabels\",\"id\":\"p1868\"},\"major_label_text_font_size\":\"12pt\"}}],\"below\":[{\"type\":\"object\",\"name\":\"LinearAxis\",\"id\":\"p1860\",\"attributes\":{\"ticker\":{\"type\":\"object\",\"name\":\"BasicTicker\",\"id\":\"p1861\",\"attributes\":{\"mantissas\":[1,2,5]}},\"formatter\":{\"type\":\"object\",\"name\":\"BasicTickFormatter\",\"id\":\"p1862\"},\"axis_label\":\"Epoch\",\"axis_label_text_font_size\":\"15pt\",\"major_label_policy\":{\"type\":\"object\",\"name\":\"AllLabels\",\"id\":\"p1863\"},\"major_label_text_font_size\":\"12pt\"}}],\"center\":[{\"type\":\"object\",\"name\":\"Grid\",\"id\":\"p1864\",\"attributes\":{\"axis\":{\"id\":\"p1860\"}}},{\"type\":\"object\",\"name\":\"Grid\",\"id\":\"p1869\",\"attributes\":{\"dimension\":1,\"axis\":{\"id\":\"p1865\"}}},{\"type\":\"object\",\"name\":\"Legend\",\"id\":\"p1879\",\"attributes\":{\"location\":\"right\",\"items\":[{\"type\":\"object\",\"name\":\"LegendItem\",\"id\":\"p1880\",\"attributes\":{\"label\":{\"type\":\"value\",\"value\":\"Training Precision\"},\"renderers\":[{\"id\":\"p1876\"}]}},{\"type\":\"object\",\"name\":\"LegendItem\",\"id\":\"p1890\",\"attributes\":{\"label\":{\"type\":\"value\",\"value\":\"Validation Precision\"},\"renderers\":[{\"id\":\"p1887\"}]}}]}}]}}]}};\n  const render_items = [{\"docid\":\"8f8ad20c-157c-4a64-9352-18575b7d4577\",\"roots\":{\"p1848\":\"dc8b316d-4093-45f3-b0ee-708a7178b3c7\"},\"root_ids\":[\"p1848\"]}];\n  root.Bokeh.embed.embed_items_notebook(docs_json, render_items);\n  }\n  if (root.Bokeh !== undefined) {\n    embed_document(root);\n  } else {\n    let attempts = 0;\n    const timer = setInterval(function(root) {\n      if (root.Bokeh !== undefined) {\n        clearInterval(timer);\n        embed_document(root);\n      } else {\n        attempts++;\n        if (attempts > 100) {\n          clearInterval(timer);\n          console.log(\"Bokeh: ERROR: Unable to run BokehJS code because BokehJS library is missing\");\n        }\n      }\n    }, 10, root)\n  }\n})(window);",
      "application/vnd.bokehjs_exec.v0+json": ""
     },
     "metadata": {
      "application/vnd.bokehjs_exec.v0+json": {
       "id": "p1848"
      }
     },
     "output_type": "display_data"
    },
    {
     "name": "stdout",
     "output_type": "stream",
     "text": [
      "               Precision\n",
      "mean_diff       0.015175\n",
      "std_diff        0.036729\n",
      "max_diff        0.057252\n",
      "min_diff       -0.045678\n",
      "abs_mean_diff   0.037022\n",
      "abs_std_diff    0.014447\n",
      "abs_max_diff    0.057252\n",
      "abs_min_diff    0.016395\n"
     ]
    }
   ],
   "source": [
    "METRICS = [\"Loss\",\n",
    "           \"Recall\",\n",
    "           \"Accuracy\",\n",
    "           \"Precision\"]\n",
    "NUMBER_LAST_EPOCHS = 10\n",
    "\n",
    "for counter, metric in enumerate(METRICS):\n",
    "    if metric != \"Accuracy\":\n",
    "        train_name = metric.lower()\n",
    "        val_name = \"val_\" + train_name\n",
    "    else:\n",
    "        train_name = \"binary_accuracy\"\n",
    "        val_name = \"val_\" + train_name\n",
    "    \n",
    "    get_line_plot(history_df.epoch,\n",
    "                  history_df[train_name],\n",
    "                  history_df[val_name],\n",
    "                  metric)\n",
    "    \n",
    "    values = get_diff(history_df[train_name],\n",
    "                               history_df[val_name],\n",
    "                               NUMBER_LAST_EPOCHS)\n",
    "    values_df = pd.DataFrame(values).T\n",
    "    values_df.columns = [metric]\n",
    "    print(values_df)\n",
    "    \n",
    "    if counter > 0:\n",
    "        numeric_df = pd.concat([numeric_df, values_df], axis=1)\n",
    "    else:\n",
    "        numeric_df = values_df"
   ]
  },
  {
   "cell_type": "markdown",
   "metadata": {},
   "source": [
    "# Comparisons"
   ]
  },
  {
   "cell_type": "code",
   "execution_count": 94,
   "metadata": {},
   "outputs": [
    {
     "data": {
      "text/html": [
       "<div>\n",
       "<style scoped>\n",
       "    .dataframe tbody tr th:only-of-type {\n",
       "        vertical-align: middle;\n",
       "    }\n",
       "\n",
       "    .dataframe tbody tr th {\n",
       "        vertical-align: top;\n",
       "    }\n",
       "\n",
       "    .dataframe thead th {\n",
       "        text-align: right;\n",
       "    }\n",
       "</style>\n",
       "<table border=\"1\" class=\"dataframe\">\n",
       "  <thead>\n",
       "    <tr style=\"text-align: right;\">\n",
       "      <th></th>\n",
       "      <th>Loss</th>\n",
       "      <th>Recall</th>\n",
       "      <th>Accuracy</th>\n",
       "      <th>Precision</th>\n",
       "    </tr>\n",
       "  </thead>\n",
       "  <tbody>\n",
       "    <tr>\n",
       "      <th>mean_diff</th>\n",
       "      <td>-0.012223</td>\n",
       "      <td>-0.000746</td>\n",
       "      <td>0.007302</td>\n",
       "      <td>0.015175</td>\n",
       "    </tr>\n",
       "    <tr>\n",
       "      <th>std_diff</th>\n",
       "      <td>0.037686</td>\n",
       "      <td>0.043332</td>\n",
       "      <td>0.018704</td>\n",
       "      <td>0.036729</td>\n",
       "    </tr>\n",
       "    <tr>\n",
       "      <th>max_diff</th>\n",
       "      <td>0.044888</td>\n",
       "      <td>0.074627</td>\n",
       "      <td>0.043560</td>\n",
       "      <td>0.057252</td>\n",
       "    </tr>\n",
       "    <tr>\n",
       "      <th>min_diff</th>\n",
       "      <td>-0.086662</td>\n",
       "      <td>-0.055970</td>\n",
       "      <td>-0.018422</td>\n",
       "      <td>-0.045678</td>\n",
       "    </tr>\n",
       "    <tr>\n",
       "      <th>abs_mean_diff</th>\n",
       "      <td>0.033855</td>\n",
       "      <td>0.036567</td>\n",
       "      <td>0.015150</td>\n",
       "      <td>0.037022</td>\n",
       "    </tr>\n",
       "    <tr>\n",
       "      <th>abs_std_diff</th>\n",
       "      <td>0.020579</td>\n",
       "      <td>0.023260</td>\n",
       "      <td>0.013178</td>\n",
       "      <td>0.014447</td>\n",
       "    </tr>\n",
       "    <tr>\n",
       "      <th>abs_max_diff</th>\n",
       "      <td>0.086662</td>\n",
       "      <td>0.074627</td>\n",
       "      <td>0.043560</td>\n",
       "      <td>0.057252</td>\n",
       "    </tr>\n",
       "    <tr>\n",
       "      <th>abs_min_diff</th>\n",
       "      <td>0.011555</td>\n",
       "      <td>0.007463</td>\n",
       "      <td>0.000323</td>\n",
       "      <td>0.016395</td>\n",
       "    </tr>\n",
       "  </tbody>\n",
       "</table>\n",
       "</div>"
      ],
      "text/plain": [
       "                   Loss    Recall  Accuracy  Precision\n",
       "mean_diff     -0.012223 -0.000746  0.007302   0.015175\n",
       "std_diff       0.037686  0.043332  0.018704   0.036729\n",
       "max_diff       0.044888  0.074627  0.043560   0.057252\n",
       "min_diff      -0.086662 -0.055970 -0.018422  -0.045678\n",
       "abs_mean_diff  0.033855  0.036567  0.015150   0.037022\n",
       "abs_std_diff   0.020579  0.023260  0.013178   0.014447\n",
       "abs_max_diff   0.086662  0.074627  0.043560   0.057252\n",
       "abs_min_diff   0.011555  0.007463  0.000323   0.016395"
      ]
     },
     "execution_count": 94,
     "metadata": {},
     "output_type": "execute_result"
    }
   ],
   "source": [
    "numeric_df"
   ]
  },
  {
   "cell_type": "markdown",
   "metadata": {},
   "source": [
    "# QUANTIZATION ERRORS"
   ]
  },
  {
   "cell_type": "code",
   "execution_count": 95,
   "metadata": {},
   "outputs": [
    {
     "data": {
      "text/html": [
       "<div>\n",
       "<style scoped>\n",
       "    .dataframe tbody tr th:only-of-type {\n",
       "        vertical-align: middle;\n",
       "    }\n",
       "\n",
       "    .dataframe tbody tr th {\n",
       "        vertical-align: top;\n",
       "    }\n",
       "\n",
       "    .dataframe thead th {\n",
       "        text-align: right;\n",
       "    }\n",
       "</style>\n",
       "<table border=\"1\" class=\"dataframe\">\n",
       "  <thead>\n",
       "    <tr style=\"text-align: right;\">\n",
       "      <th></th>\n",
       "      <th>diff</th>\n",
       "      <th>mean</th>\n",
       "      <th>std</th>\n",
       "      <th>abs_diff</th>\n",
       "      <th>abs_mean</th>\n",
       "      <th>abs_std</th>\n",
       "    </tr>\n",
       "  </thead>\n",
       "  <tbody>\n",
       "    <tr>\n",
       "      <th>0</th>\n",
       "      <td>0.032791</td>\n",
       "      <td>0.009616</td>\n",
       "      <td>0.024578</td>\n",
       "      <td>0.032791</td>\n",
       "      <td>0.013159</td>\n",
       "      <td>0.022878</td>\n",
       "    </tr>\n",
       "    <tr>\n",
       "      <th>1</th>\n",
       "      <td>0.028308</td>\n",
       "      <td>0.009616</td>\n",
       "      <td>0.024578</td>\n",
       "      <td>0.028308</td>\n",
       "      <td>0.013159</td>\n",
       "      <td>0.022878</td>\n",
       "    </tr>\n",
       "    <tr>\n",
       "      <th>2</th>\n",
       "      <td>0.008670</td>\n",
       "      <td>0.009616</td>\n",
       "      <td>0.024578</td>\n",
       "      <td>0.008670</td>\n",
       "      <td>0.013159</td>\n",
       "      <td>0.022878</td>\n",
       "    </tr>\n",
       "    <tr>\n",
       "      <th>3</th>\n",
       "      <td>0.003585</td>\n",
       "      <td>0.009616</td>\n",
       "      <td>0.024578</td>\n",
       "      <td>0.003585</td>\n",
       "      <td>0.013159</td>\n",
       "      <td>0.022878</td>\n",
       "    </tr>\n",
       "    <tr>\n",
       "      <th>4</th>\n",
       "      <td>0.000012</td>\n",
       "      <td>0.009616</td>\n",
       "      <td>0.024578</td>\n",
       "      <td>0.000012</td>\n",
       "      <td>0.013159</td>\n",
       "      <td>0.022878</td>\n",
       "    </tr>\n",
       "    <tr>\n",
       "      <th>...</th>\n",
       "      <td>...</td>\n",
       "      <td>...</td>\n",
       "      <td>...</td>\n",
       "      <td>...</td>\n",
       "      <td>...</td>\n",
       "      <td>...</td>\n",
       "    </tr>\n",
       "    <tr>\n",
       "      <th>887</th>\n",
       "      <td>-0.003886</td>\n",
       "      <td>0.009616</td>\n",
       "      <td>0.024578</td>\n",
       "      <td>0.003886</td>\n",
       "      <td>0.013159</td>\n",
       "      <td>0.022878</td>\n",
       "    </tr>\n",
       "    <tr>\n",
       "      <th>888</th>\n",
       "      <td>-0.003752</td>\n",
       "      <td>0.009616</td>\n",
       "      <td>0.024578</td>\n",
       "      <td>0.003752</td>\n",
       "      <td>0.013159</td>\n",
       "      <td>0.022878</td>\n",
       "    </tr>\n",
       "    <tr>\n",
       "      <th>889</th>\n",
       "      <td>-0.003857</td>\n",
       "      <td>0.009616</td>\n",
       "      <td>0.024578</td>\n",
       "      <td>0.003857</td>\n",
       "      <td>0.013159</td>\n",
       "      <td>0.022878</td>\n",
       "    </tr>\n",
       "    <tr>\n",
       "      <th>890</th>\n",
       "      <td>-0.003395</td>\n",
       "      <td>0.009616</td>\n",
       "      <td>0.024578</td>\n",
       "      <td>0.003395</td>\n",
       "      <td>0.013159</td>\n",
       "      <td>0.022878</td>\n",
       "    </tr>\n",
       "    <tr>\n",
       "      <th>891</th>\n",
       "      <td>-0.003903</td>\n",
       "      <td>0.009616</td>\n",
       "      <td>0.024578</td>\n",
       "      <td>0.003903</td>\n",
       "      <td>0.013159</td>\n",
       "      <td>0.022878</td>\n",
       "    </tr>\n",
       "  </tbody>\n",
       "</table>\n",
       "<p>892 rows × 6 columns</p>\n",
       "</div>"
      ],
      "text/plain": [
       "         diff      mean       std  abs_diff  abs_mean   abs_std\n",
       "0    0.032791  0.009616  0.024578  0.032791  0.013159  0.022878\n",
       "1    0.028308  0.009616  0.024578  0.028308  0.013159  0.022878\n",
       "2    0.008670  0.009616  0.024578  0.008670  0.013159  0.022878\n",
       "3    0.003585  0.009616  0.024578  0.003585  0.013159  0.022878\n",
       "4    0.000012  0.009616  0.024578  0.000012  0.013159  0.022878\n",
       "..        ...       ...       ...       ...       ...       ...\n",
       "887 -0.003886  0.009616  0.024578  0.003886  0.013159  0.022878\n",
       "888 -0.003752  0.009616  0.024578  0.003752  0.013159  0.022878\n",
       "889 -0.003857  0.009616  0.024578  0.003857  0.013159  0.022878\n",
       "890 -0.003395  0.009616  0.024578  0.003395  0.013159  0.022878\n",
       "891 -0.003903  0.009616  0.024578  0.003903  0.013159  0.022878\n",
       "\n",
       "[892 rows x 6 columns]"
      ]
     },
     "execution_count": 95,
     "metadata": {},
     "output_type": "execute_result"
    }
   ],
   "source": [
    "with open('../model/qt_metrics.pkl', 'rb') as file:\n",
    "    qt_metrics = pickle.load(file)\n",
    "\n",
    "# turn in dataframe, concat epoch column.\n",
    "qt_df = pd.DataFrame(qt_metrics)\n",
    "qt_df"
   ]
  },
  {
   "cell_type": "code",
   "execution_count": 96,
   "metadata": {},
   "outputs": [],
   "source": [
    "def get_diff_metrics(diff: pd.Series) -> dict:\n",
    "    \"\"\"\n",
    "    Return dict with error metrics.\n",
    "    \"\"\"\n",
    "    mean_diff = np.mean(diff)\n",
    "    std_diff = np.std(diff)\n",
    "    max_diff = np.max(diff)\n",
    "    min_diff = np.min(diff)\n",
    "    \n",
    "    abs_diff = np.abs(diff)\n",
    "    abs_mean_diff = np.mean(abs_diff)\n",
    "    abs_std_diff = np.std(abs_diff)\n",
    "    abs_max_diff = np.max(abs_diff)\n",
    "    abs_min_diff = np.min(abs_diff)\n",
    "    \n",
    "    metrics = dict(\n",
    "        mean_diff=mean_diff,\n",
    "        std_diff=std_diff,\n",
    "        max_diff=max_diff,\n",
    "        min_diff=min_diff,\n",
    "        abs_mean_diff=abs_mean_diff,\n",
    "        abs_std_diff=abs_std_diff,\n",
    "        abs_max_diff=abs_max_diff,\n",
    "        abs_min_diff=abs_min_diff\n",
    "    )\n",
    "    \n",
    "    return [metrics]"
   ]
  },
  {
   "cell_type": "markdown",
   "metadata": {},
   "source": [
    "## Numeric metrics"
   ]
  },
  {
   "cell_type": "code",
   "execution_count": 97,
   "metadata": {},
   "outputs": [
    {
     "data": {
      "text/html": [
       "<div>\n",
       "<style scoped>\n",
       "    .dataframe tbody tr th:only-of-type {\n",
       "        vertical-align: middle;\n",
       "    }\n",
       "\n",
       "    .dataframe tbody tr th {\n",
       "        vertical-align: top;\n",
       "    }\n",
       "\n",
       "    .dataframe thead th {\n",
       "        text-align: right;\n",
       "    }\n",
       "</style>\n",
       "<table border=\"1\" class=\"dataframe\">\n",
       "  <thead>\n",
       "    <tr style=\"text-align: right;\">\n",
       "      <th></th>\n",
       "      <th>Quantization training errors</th>\n",
       "    </tr>\n",
       "  </thead>\n",
       "  <tbody>\n",
       "    <tr>\n",
       "      <th>mean_diff</th>\n",
       "      <td>0.009616</td>\n",
       "    </tr>\n",
       "    <tr>\n",
       "      <th>std_diff</th>\n",
       "      <td>0.024578</td>\n",
       "    </tr>\n",
       "    <tr>\n",
       "      <th>max_diff</th>\n",
       "      <td>0.206836</td>\n",
       "    </tr>\n",
       "    <tr>\n",
       "      <th>min_diff</th>\n",
       "      <td>-0.053043</td>\n",
       "    </tr>\n",
       "    <tr>\n",
       "      <th>abs_mean_diff</th>\n",
       "      <td>0.013159</td>\n",
       "    </tr>\n",
       "    <tr>\n",
       "      <th>abs_std_diff</th>\n",
       "      <td>0.022878</td>\n",
       "    </tr>\n",
       "    <tr>\n",
       "      <th>abs_max_diff</th>\n",
       "      <td>0.206836</td>\n",
       "    </tr>\n",
       "    <tr>\n",
       "      <th>abs_min_diff</th>\n",
       "      <td>0.000012</td>\n",
       "    </tr>\n",
       "  </tbody>\n",
       "</table>\n",
       "</div>"
      ],
      "text/plain": [
       "               Quantization training errors\n",
       "mean_diff                          0.009616\n",
       "std_diff                           0.024578\n",
       "max_diff                           0.206836\n",
       "min_diff                          -0.053043\n",
       "abs_mean_diff                      0.013159\n",
       "abs_std_diff                       0.022878\n",
       "abs_max_diff                       0.206836\n",
       "abs_min_diff                       0.000012"
      ]
     },
     "execution_count": 97,
     "metadata": {},
     "output_type": "execute_result"
    }
   ],
   "source": [
    "qt_errors = get_diff_metrics(qt_df[\"diff\"])\n",
    "errors_df = pd.DataFrame(qt_errors).T\n",
    "errors_df.columns = [\"Quantization training errors\"]\n",
    "errors_df"
   ]
  },
  {
   "cell_type": "code",
   "execution_count": 98,
   "metadata": {},
   "outputs": [],
   "source": [
    "def get_percentage_inside(number_std: int) -> float:\n",
    "    \"\"\"\n",
    "    Return the percentage of values inside \"number_std\" standard deviations.\n",
    "    \"\"\"\n",
    "    low = errors_df.T[\"mean_diff\"][0] - (number_std * errors_df.T[\"std_diff\"][0])\n",
    "    print(\"low =\", low)\n",
    "    high = errors_df.T[\"mean_diff\"][0] + (number_std * errors_df.T[\"std_diff\"][0])\n",
    "    print(\"high =\", high)\n",
    "\n",
    "    insiders_filter = (qt_df[\"diff\"] > low) & (qt_df[\"diff\"] < high)\n",
    "    # qt_df[\"diff\"].between(low, high)\n",
    "    insiders = qt_df[\"diff\"][insiders_filter]\n",
    "    print(f\"insiders percentage for {number_std} std =\",\n",
    "          insiders.shape[0] / qt_df[\"diff\"].shape[0])"
   ]
  },
  {
   "cell_type": "code",
   "execution_count": 99,
   "metadata": {},
   "outputs": [
    {
     "name": "stdout",
     "output_type": "stream",
     "text": [
      "For 1 standard deviation(s):\n",
      "low = -0.014961722306907177\n",
      "high = 0.034193784929811954\n",
      "insiders percentage for 1 std = 0.8677130044843049\n",
      "\n",
      "For 2 standard deviation(s):\n",
      "low = -0.03953947592526674\n",
      "high = 0.05877153854817152\n",
      "insiders percentage for 2 std = 0.9461883408071748\n",
      "\n",
      "For 3 standard deviation(s):\n",
      "low = -0.06411722954362631\n",
      "high = 0.08334929216653109\n",
      "insiders percentage for 3 std = 0.9719730941704036\n",
      "\n"
     ]
    }
   ],
   "source": [
    "for number_std in range(1,4):\n",
    "    print(f\"For {number_std} standard deviation(s):\")\n",
    "    get_percentage_inside(number_std)\n",
    "    print()"
   ]
  },
  {
   "cell_type": "markdown",
   "metadata": {},
   "source": [
    "## Histogram plot"
   ]
  },
  {
   "cell_type": "code",
   "execution_count": 100,
   "metadata": {},
   "outputs": [
    {
     "data": {
      "text/html": [
       "\n",
       "  <div id=\"d26c5872-9a34-4e02-a523-b1e7390a767e\" data-root-id=\"p1895\" style=\"display: contents;\"></div>\n"
      ]
     },
     "metadata": {},
     "output_type": "display_data"
    },
    {
     "data": {
      "application/javascript": "(function(root) {\n  function embed_document(root) {\n  const docs_json = {\"144ea99b-b612-486c-981d-76f810430b1c\":{\"version\":\"3.2.2\",\"title\":\"Bokeh Application\",\"roots\":[{\"type\":\"object\",\"name\":\"Figure\",\"id\":\"p1895\",\"attributes\":{\"width\":1000,\"height\":500,\"x_range\":{\"type\":\"object\",\"name\":\"DataRange1d\",\"id\":\"p1896\"},\"y_range\":{\"type\":\"object\",\"name\":\"DataRange1d\",\"id\":\"p1897\"},\"x_scale\":{\"type\":\"object\",\"name\":\"LinearScale\",\"id\":\"p1905\"},\"y_scale\":{\"type\":\"object\",\"name\":\"LinearScale\",\"id\":\"p1906\"},\"title\":{\"type\":\"object\",\"name\":\"Title\",\"id\":\"p1898\",\"attributes\":{\"text\":\"Quantization errors - Training\",\"text_font_size\":\"20pt\"}},\"renderers\":[{\"type\":\"object\",\"name\":\"GlyphRenderer\",\"id\":\"p1923\",\"attributes\":{\"data_source\":{\"type\":\"object\",\"name\":\"ColumnDataSource\",\"id\":\"p1917\",\"attributes\":{\"selected\":{\"type\":\"object\",\"name\":\"Selection\",\"id\":\"p1918\",\"attributes\":{\"indices\":[],\"line_indices\":[]}},\"selection_policy\":{\"type\":\"object\",\"name\":\"UnionRenderers\",\"id\":\"p1919\"},\"data\":{\"type\":\"map\",\"entries\":[[\"top\",{\"type\":\"ndarray\",\"array\":{\"type\":\"bytes\",\"data\":\"nIRZXnMOyz8AAAAAAAAAAJyEWV5zDts/nIRZXnMOyz92ZcX9cw7rPwAAAAAAAAAAnIRZXnMO2z91I8OG1kr0P+Ly9xoI6QBAdSPDhtZKVEAWlleuOwhFQHGIvMo6oipAMLUkykFwHkDmHD+UWr8cQJyEWV5zDgtA5hw/lFq/DEDmHD+UWr8MQCyL3VDvmRJALIvdUO+ZAkC/u6i8vfsFQOLy9xoI6fA/nIRZXnMO+z+chFlecw7rPwrnBmXYSvQ/8bd/qNRK5D8K5wZl2Er0P5ZKquBwDss/iw2IIKes9z+WSqrgcA7rPwAAAAAAAAAAlkqq4HAO2z8NNAncdQ7LPw00Cdx1Dss/AAAAAAAAAAANNAncdQ7bP5ZKquBwDts/AAAAAAAAAAAAAAAAAAAAAA00Cdx1Dss/AAAAAAAAAAAAAAAAAAAAAAAAAAAAAAAAAAAAAAAAAAAAAAAAAAAAAAAAAAAAAAAAAAAAAAAAAAAAAAAAAAAAAAAAAAAAAAAAlkqq4HAOyz8=\"},\"shape\":[49],\"dtype\":\"float64\",\"order\":\"little\"}],[\"left\",{\"type\":\"ndarray\",\"array\":{\"type\":\"bytes\",\"data\":\"UENZvQqKQ73E0C29fhcYvTheAr3lSdm8WtetvM5kgryE5C282P6tuwCg0raIla072K8tPHhKgjwEva08kC/ZPA5RAj1UChg9msMtPeB8Qz0mNlk9bO9uPVlUgj38MI09ng2YPULqoj3kxq09iKO4PSqAwz3OXM49cDnZPRQW5D228u49WM/5Pf5VAj5PxAc+oTINPvKgEj5EDxg+lX0dPufrIj44Wig+isgtPts2Mz4tpTg+fhM+PtCBQz4h8Eg+cl5OPg==\"},\"shape\":[49],\"dtype\":\"float32\",\"order\":\"little\"}],[\"right\",{\"type\":\"ndarray\",\"array\":{\"type\":\"bytes\",\"data\":\"CopDvcTQLb1+Fxi9OF4CveVJ2bxa1628zmSCvITkLbzY/q27AKDStoiVrTvYry08eEqCPAS9rTyQL9k8DlECPVQKGD2awy094HxDPSY2WT1s7249WVSCPfwwjT2eDZg9QuqiPeTGrT2Io7g9KoDDPc5czj1wOdk9FBbkPbby7j1Yz/k9/lUCPk/EBz6hMg0+8qASPkQPGD6VfR0+5+siPjhaKD6KyC0+2zYzPi2lOD5+Ez4+0IFDPiHwSD5yXk4+xMxTPg==\"},\"shape\":[49],\"dtype\":\"float32\",\"order\":\"little\"}]]}}},\"view\":{\"type\":\"object\",\"name\":\"CDSView\",\"id\":\"p1924\",\"attributes\":{\"filter\":{\"type\":\"object\",\"name\":\"AllIndices\",\"id\":\"p1925\"}}},\"glyph\":{\"type\":\"object\",\"name\":\"Quad\",\"id\":\"p1920\",\"attributes\":{\"left\":{\"type\":\"field\",\"field\":\"left\"},\"right\":{\"type\":\"field\",\"field\":\"right\"},\"bottom\":{\"type\":\"value\",\"value\":0},\"top\":{\"type\":\"field\",\"field\":\"top\"},\"line_color\":{\"type\":\"value\",\"value\":\"white\"},\"fill_color\":{\"type\":\"value\",\"value\":\"skyblue\"}}},\"nonselection_glyph\":{\"type\":\"object\",\"name\":\"Quad\",\"id\":\"p1921\",\"attributes\":{\"left\":{\"type\":\"field\",\"field\":\"left\"},\"right\":{\"type\":\"field\",\"field\":\"right\"},\"bottom\":{\"type\":\"value\",\"value\":0},\"top\":{\"type\":\"field\",\"field\":\"top\"},\"line_color\":{\"type\":\"value\",\"value\":\"white\"},\"line_alpha\":{\"type\":\"value\",\"value\":0.1},\"fill_color\":{\"type\":\"value\",\"value\":\"skyblue\"},\"fill_alpha\":{\"type\":\"value\",\"value\":0.1},\"hatch_alpha\":{\"type\":\"value\",\"value\":0.1}}},\"muted_glyph\":{\"type\":\"object\",\"name\":\"Quad\",\"id\":\"p1922\",\"attributes\":{\"left\":{\"type\":\"field\",\"field\":\"left\"},\"right\":{\"type\":\"field\",\"field\":\"right\"},\"bottom\":{\"type\":\"value\",\"value\":0},\"top\":{\"type\":\"field\",\"field\":\"top\"},\"line_color\":{\"type\":\"value\",\"value\":\"white\"},\"line_alpha\":{\"type\":\"value\",\"value\":0.2},\"fill_color\":{\"type\":\"value\",\"value\":\"skyblue\"},\"fill_alpha\":{\"type\":\"value\",\"value\":0.2},\"hatch_alpha\":{\"type\":\"value\",\"value\":0.2}}}}}],\"toolbar\":{\"type\":\"object\",\"name\":\"Toolbar\",\"id\":\"p1904\",\"attributes\":{\"tools\":[{\"type\":\"object\",\"name\":\"PanTool\",\"id\":\"p1001\"},{\"type\":\"object\",\"name\":\"BoxZoomTool\",\"id\":\"p1002\",\"attributes\":{\"overlay\":{\"type\":\"object\",\"name\":\"BoxAnnotation\",\"id\":\"p1003\",\"attributes\":{\"syncable\":false,\"level\":\"overlay\",\"visible\":false,\"left_units\":\"canvas\",\"right_units\":\"canvas\",\"bottom_units\":\"canvas\",\"top_units\":\"canvas\",\"line_color\":\"black\",\"line_alpha\":1.0,\"line_width\":2,\"line_dash\":[4,4],\"fill_color\":\"lightgrey\",\"fill_alpha\":0.5}}}},{\"type\":\"object\",\"name\":\"HoverTool\",\"id\":\"p1004\",\"attributes\":{\"renderers\":\"auto\"}},{\"type\":\"object\",\"name\":\"ResetTool\",\"id\":\"p1005\"},{\"type\":\"object\",\"name\":\"SaveTool\",\"id\":\"p1006\"}]}},\"left\":[{\"type\":\"object\",\"name\":\"LinearAxis\",\"id\":\"p1912\",\"attributes\":{\"ticker\":{\"type\":\"object\",\"name\":\"BasicTicker\",\"id\":\"p1913\",\"attributes\":{\"mantissas\":[1,2,5]}},\"formatter\":{\"type\":\"object\",\"name\":\"BasicTickFormatter\",\"id\":\"p1914\"},\"axis_label\":\"Samples (%)\",\"axis_label_text_font_size\":\"15pt\",\"major_label_policy\":{\"type\":\"object\",\"name\":\"AllLabels\",\"id\":\"p1915\"},\"major_label_text_font_size\":\"12pt\"}}],\"below\":[{\"type\":\"object\",\"name\":\"LinearAxis\",\"id\":\"p1907\",\"attributes\":{\"ticker\":{\"type\":\"object\",\"name\":\"BasicTicker\",\"id\":\"p1908\",\"attributes\":{\"mantissas\":[1,2,5]}},\"formatter\":{\"type\":\"object\",\"name\":\"BasicTickFormatter\",\"id\":\"p1909\"},\"axis_label\":\"Sample\",\"axis_label_text_font_size\":\"15pt\",\"major_label_policy\":{\"type\":\"object\",\"name\":\"AllLabels\",\"id\":\"p1910\"},\"major_label_text_font_size\":\"12pt\"}}],\"center\":[{\"type\":\"object\",\"name\":\"Grid\",\"id\":\"p1911\",\"attributes\":{\"axis\":{\"id\":\"p1907\"}}},{\"type\":\"object\",\"name\":\"Grid\",\"id\":\"p1916\",\"attributes\":{\"dimension\":1,\"axis\":{\"id\":\"p1912\"}}},{\"type\":\"object\",\"name\":\"Legend\",\"id\":\"p1926\",\"attributes\":{\"items\":[{\"type\":\"object\",\"name\":\"LegendItem\",\"id\":\"p1927\",\"attributes\":{\"label\":{\"type\":\"value\",\"value\":\"Quantized - Floating point\"},\"renderers\":[{\"id\":\"p1923\"}]}}]}}]}}]}};\n  const render_items = [{\"docid\":\"144ea99b-b612-486c-981d-76f810430b1c\",\"roots\":{\"p1895\":\"d26c5872-9a34-4e02-a523-b1e7390a767e\"},\"root_ids\":[\"p1895\"]}];\n  root.Bokeh.embed.embed_items_notebook(docs_json, render_items);\n  }\n  if (root.Bokeh !== undefined) {\n    embed_document(root);\n  } else {\n    let attempts = 0;\n    const timer = setInterval(function(root) {\n      if (root.Bokeh !== undefined) {\n        clearInterval(timer);\n        embed_document(root);\n      } else {\n        attempts++;\n        if (attempts > 100) {\n          clearInterval(timer);\n          console.log(\"Bokeh: ERROR: Unable to run BokehJS code because BokehJS library is missing\");\n        }\n      }\n    }, 10, root)\n  }\n})(window);",
      "application/vnd.bokehjs_exec.v0+json": ""
     },
     "metadata": {
      "application/vnd.bokehjs_exec.v0+json": {
       "id": "p1895"
      }
     },
     "output_type": "display_data"
    }
   ],
   "source": [
    "bins = np.linspace(errors_df.T[\"min_diff\"], errors_df.T[\"max_diff\"], 50)\n",
    "bins = bins.flatten()\n",
    "hist, edges = np.histogram(qt_df[\"diff\"], bins=bins, density=True)\n",
    "\n",
    "fig = bokeh.plotting.figure(\n",
    "        title=f\"Quantization errors - Training\",\n",
    "        x_axis_label=\"Sample\",\n",
    "        y_axis_label=f\"Samples (%)\",\n",
    "        height=500,\n",
    "        width=1000,\n",
    "        tools=bokeh_tools\n",
    "    )\n",
    "\n",
    "fig.title.text_font_size = '20pt'\n",
    "fig.xaxis.axis_label_text_font_size = \"15pt\"\n",
    "fig.yaxis.axis_label_text_font_size = \"15pt\"\n",
    "fig.yaxis.major_label_text_font_size = \"12pt\"\n",
    "fig.xaxis.major_label_text_font_size = \"12pt\"\n",
    "\n",
    "fig.quad(top=hist, bottom=0, left=edges[:-1], right=edges[1:],\n",
    "         fill_color=\"skyblue\",\n",
    "         line_color=\"white\",\n",
    "         legend_label=\"Quantized - Floating point\")\n",
    "\n",
    "bokeh.plotting.show(fig)"
   ]
  },
  {
   "cell_type": "code",
   "execution_count": 101,
   "metadata": {},
   "outputs": [
    {
     "data": {
      "text/plain": [
       "count    892.000000\n",
       "mean       0.009616\n",
       "std        0.024592\n",
       "min       -0.053043\n",
       "25%       -0.003459\n",
       "50%        0.000621\n",
       "75%        0.010024\n",
       "max        0.206836\n",
       "Name: diff, dtype: float64"
      ]
     },
     "execution_count": 101,
     "metadata": {},
     "output_type": "execute_result"
    }
   ],
   "source": [
    "qt_df[\"diff\"].describe()"
   ]
  },
  {
   "cell_type": "code",
   "execution_count": 109,
   "metadata": {},
   "outputs": [
    {
     "data": {
      "image/png": "[encoded data removed]",
      "text/plain": [
       "<Figure size 1200x300 with 1 Axes>"
      ]
     },
     "metadata": {},
     "output_type": "display_data"
    }
   ],
   "source": [
    "fig = plt.figure(figsize=(12,3))\n",
    "sns.boxplot(x=qt_df[\"diff\"])\n",
    "plt.title(\"Quantization Error\")\n",
    "plt.xlabel(\"Difference (Quantized - Floating point)\")\n",
    "plt.grid(True)"
   ]
  }
 ],
 "metadata": {
  "kernelspec": {
   "display_name": "env_ML_pipeline",
   "language": "python",
   "name": "python3"
  },
  "language_info": {
   "codemirror_mode": {
    "name": "ipython",
    "version": 3
   },
   "file_extension": ".py",
   "mimetype": "text/x-python",
   "name": "python",
   "nbconvert_exporter": "python",
   "pygments_lexer": "ipython3",
   "version": "3.9.2"
  },
  "orig_nbformat": 4
 },
 "nbformat": 4,
 "nbformat_minor": 2
}
